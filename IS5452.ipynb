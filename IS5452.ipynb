{
  "nbformat": 4,
  "nbformat_minor": 0,
  "metadata": {
    "colab": {
      "name": "IS5452.ipynb",
      "provenance": []
    },
    "kernelspec": {
      "name": "python3",
      "display_name": "Python 3"
    },
    "language_info": {
      "name": "python"
    }
  },
  "cells": [
    {
      "cell_type": "code",
      "metadata": {
        "colab": {
          "base_uri": "https://localhost:8080/"
        },
        "id": "oznVV83xaor1",
        "outputId": "9cb37acd-473b-4e20-f4e8-14b79faffa67"
      },
      "source": [
        "!apt-get install -y -qq software-properties-common python-software-properties module-init-tools\n",
        "!add-apt-repository -y ppa:alessandro-strada/ppa 2>&1 > /dev/null\n",
        "!apt-get update -qq 2>&1 > /dev/null\n",
        "!apt-get -y install -qq google-drive-ocamlfuse fuse\n",
        "from google.colab import auth\n",
        "auth.authenticate_user()\n",
        "from oauth2client.client import GoogleCredentials\n",
        "creds = GoogleCredentials.get_application_default()\n",
        "import getpass\n",
        "!google-drive-ocamlfuse -headless -id={creds.client_id} -secret={creds.client_secret} < /dev/null 2>&1 | grep URL\n",
        "vcode = getpass.getpass()\n",
        "!echo {vcode} | google-drive-ocamlfuse -headless -id={creds.client_id} -secret={creds.client_secret}"
      ],
      "execution_count": 1,
      "outputs": [
        {
          "output_type": "stream",
          "name": "stdout",
          "text": [
            "E: Package 'python-software-properties' has no installation candidate\n",
            "Selecting previously unselected package google-drive-ocamlfuse.\n",
            "(Reading database ... 155062 files and directories currently installed.)\n",
            "Preparing to unpack .../google-drive-ocamlfuse_0.7.27-0ubuntu1~ubuntu18.04.1_amd64.deb ...\n",
            "Unpacking google-drive-ocamlfuse (0.7.27-0ubuntu1~ubuntu18.04.1) ...\n",
            "Setting up google-drive-ocamlfuse (0.7.27-0ubuntu1~ubuntu18.04.1) ...\n",
            "Processing triggers for man-db (2.8.3-2ubuntu0.1) ...\n",
            "Please, open the following URL in a web browser: https://accounts.google.com/o/oauth2/auth?client_id=32555940559.apps.googleusercontent.com&redirect_uri=urn%3Aietf%3Awg%3Aoauth%3A2.0%3Aoob&scope=https%3A%2F%2Fwww.googleapis.com%2Fauth%2Fdrive&response_type=code&access_type=offline&approval_prompt=force\n",
            "··········\n",
            "Please, open the following URL in a web browser: https://accounts.google.com/o/oauth2/auth?client_id=32555940559.apps.googleusercontent.com&redirect_uri=urn%3Aietf%3Awg%3Aoauth%3A2.0%3Aoob&scope=https%3A%2F%2Fwww.googleapis.com%2Fauth%2Fdrive&response_type=code&access_type=offline&approval_prompt=force\n",
            "Please enter the verification code: Access token retrieved correctly.\n"
          ]
        }
      ]
    },
    {
      "cell_type": "code",
      "metadata": {
        "id": "HpF803Saa49Q"
      },
      "source": [
        "import librosa\n",
        "import os\n",
        "import pandas as pd\n",
        "import glob\n",
        "import numpy as np\n",
        "import soundfile\n",
        "from sklearn.model_selection import train_test_split"
      ],
      "execution_count": 2,
      "outputs": []
    },
    {
      "cell_type": "code",
      "metadata": {
        "colab": {
          "base_uri": "https://localhost:8080/"
        },
        "id": "0Do2joTqa94e",
        "outputId": "edda8eb8-524f-48bd-ba2b-f358bd5fab2c"
      },
      "source": [
        "from google.colab import drive\n",
        "drive.mount('/content/drive')"
      ],
      "execution_count": 3,
      "outputs": [
        {
          "output_type": "stream",
          "name": "stdout",
          "text": [
            "Mounted at /content/drive\n"
          ]
        }
      ]
    },
    {
      "cell_type": "code",
      "metadata": {
        "id": "i-wmou-FbJ61"
      },
      "source": [
        "def extract_feature(file_name,mfcc,chroma,mel,zcr,rmse):\n",
        "    with soundfile.SoundFile(file_name) as sound_file:\n",
        "        X = sound_file.read(dtype= np.float32)\n",
        "        sample_rate=sound_file.samplerate\n",
        "        stft=np.abs(librosa.stft(X))\n",
        "        result=np.array([])\n",
        "        if mfcc:\n",
        "            mfccs=np.mean(librosa.feature.mfcc(y=X, sr=sample_rate, n_mfcc=40).T,axis=0)\n",
        "            result=np.hstack((result, mfccs))\n",
        "        if chroma:\n",
        "            chroma=np.mean(librosa.feature.chroma_stft(S=stft, sr=sample_rate).T,axis=0)\n",
        "            result=np.hstack((result, chroma))\n",
        "        if mel:\n",
        "            mel=np.mean(librosa.feature.melspectrogram(X, sr=sample_rate).T,axis=0)\n",
        "            result=np.hstack((result, mel))\n",
        "        if zcr:\n",
        "            zcr=np.mean(librosa.feature.zero_crossing_rate(y=X, frame_length=2048, hop_length=512).T,axis=0)\n",
        "            result=np.hstack((result, zcr))\n",
        "        if rmse:\n",
        "            rmse=np.mean(librosa.feature.rms(S=stft,frame_length=2048, hop_length=512, pad_mode='reflect').T,axis=0)\n",
        "            result=np.hstack((result, rmse))\n",
        "    return result"
      ],
      "execution_count": 35,
      "outputs": []
    },
    {
      "cell_type": "code",
      "metadata": {
        "id": "Gj2cnrzEbMwX"
      },
      "source": [
        "def load_data(test_size=0.2):\n",
        "    x,y=[],[]\n",
        "    for file in glob.glob(\"/content/drive/My Drive/Emo-DB/Emo-DB/wav/*.wav\"):\n",
        "        file_name=os.path.basename(file)\n",
        "        emotion=file_name[5]\n",
        "        if emotion=='W':\n",
        "          e='anger'\n",
        "        if emotion=='L':\n",
        "          e='boredom'\n",
        "        if emotion=='E':\n",
        "          e='disgust'\n",
        "        if emotion=='A':\n",
        "          e='fear'\n",
        "        if emotion=='F':\n",
        "          e='happiness'\n",
        "        if emotion=='T':\n",
        "          e='sadness'\n",
        "        if emotion=='N':\n",
        "          e='neutral'\n",
        "        feature=extract_feature(file,mfcc=True,chroma=True,mel=True,zcr=True,rmse=True)\n",
        "        x.append(feature)\n",
        "        y.append(e)\n",
        "    return train_test_split(np.array(x), y, test_size=test_size)"
      ],
      "execution_count": 31,
      "outputs": []
    },
    {
      "cell_type": "code",
      "metadata": {
        "id": "nDnNBmf9cIQE"
      },
      "source": [
        "x_train,x_test,y_train,y_test=load_data(test_size=0.2)"
      ],
      "execution_count": 36,
      "outputs": []
    },
    {
      "cell_type": "code",
      "metadata": {
        "colab": {
          "base_uri": "https://localhost:8080/"
        },
        "id": "jUBylyx2fkxt",
        "outputId": "1e73a8c4-3c08-4395-d224-bddce3177efd"
      },
      "source": [
        "x_train.shape,x_test.shape"
      ],
      "execution_count": 37,
      "outputs": [
        {
          "output_type": "execute_result",
          "data": {
            "text/plain": [
              "((388, 182), (97, 182))"
            ]
          },
          "metadata": {},
          "execution_count": 37
        }
      ]
    },
    {
      "cell_type": "code",
      "metadata": {
        "id": "HXvrqNrIfrwQ"
      },
      "source": [
        "import librosa\n",
        "%matplotlib inline\n",
        "import matplotlib.pyplot as plt\n",
        "import librosa.display\n",
        "from IPython.display import Audio\n",
        "import numpy as np\n",
        "import tensorflow as tf\n",
        "from matplotlib.pyplot import specgram\n",
        "import pandas as pd\n",
        "from sklearn.metrics import confusion_matrix\n",
        "import IPython.display as ipd  # To play sound in the notebook\n",
        "import os # interface with underlying OS that python is running on\n",
        "import sys\n",
        "import warnings\n",
        "# ignore warnings \n",
        "if not sys.warnoptions:\n",
        "    warnings.simplefilter(\"ignore\")\n",
        "warnings.filterwarnings(\"ignore\", category=DeprecationWarning)\n",
        "from sklearn.model_selection import train_test_split\n",
        "from sklearn.preprocessing import LabelEncoder\n",
        "import tensorflow.keras\n",
        "from tensorflow.keras.models import Sequential\n",
        "from tensorflow.keras.layers import Conv1D, MaxPooling1D, AveragePooling1D\n",
        "from tensorflow.keras.layers import Input, Flatten, Dropout, Activation, BatchNormalization, Dense\n",
        "from tensorflow.keras.wrappers.scikit_learn import KerasClassifier\n",
        "from tensorflow.keras.optimizers import SGD\n",
        "from tensorflow.keras.regularizers import l2\n",
        "import seaborn as sns\n",
        "from tensorflow.keras.utils import to_categorical\n",
        "from sklearn.metrics import classification_report"
      ],
      "execution_count": 38,
      "outputs": []
    },
    {
      "cell_type": "code",
      "metadata": {
        "id": "p6NzKcV0fuug"
      },
      "source": [
        "y_train=np.array(y_train)\n",
        "y_test=np.array(y_test)"
      ],
      "execution_count": 39,
      "outputs": []
    },
    {
      "cell_type": "code",
      "metadata": {
        "id": "a3T1dNq8fzjT"
      },
      "source": [
        "lb = LabelEncoder()\n",
        "y_train = to_categorical(lb.fit_transform(y_train))\n",
        "y_test = to_categorical(lb.fit_transform(y_test))"
      ],
      "execution_count": 40,
      "outputs": []
    },
    {
      "cell_type": "code",
      "metadata": {
        "colab": {
          "base_uri": "https://localhost:8080/"
        },
        "id": "UypWsfXRf18x",
        "outputId": "c6eb0137-00c0-4d03-e771-249e8c89bd93"
      },
      "source": [
        "x_train = x_train[:,:,np.newaxis]\n",
        "x_test = x_test[:,:,np.newaxis]\n",
        "x_train.shape"
      ],
      "execution_count": 41,
      "outputs": [
        {
          "output_type": "execute_result",
          "data": {
            "text/plain": [
              "(388, 182, 1)"
            ]
          },
          "metadata": {},
          "execution_count": 41
        }
      ]
    },
    {
      "cell_type": "code",
      "metadata": {
        "colab": {
          "base_uri": "https://localhost:8080/"
        },
        "id": "lmWxKpxDf4zO",
        "outputId": "c522c75d-f58a-4caf-d725-1121014a59c8"
      },
      "source": [
        "import tensorflow as tf\n",
        "from tensorflow import keras\n",
        "from tensorflow.keras import layers\n",
        "from tensorflow.keras.models import Sequential, load_model\n",
        "\n",
        "#BUILD 1D CNN LAYERS\n",
        "model = tf.keras.Sequential()\n",
        "model.add(layers.Conv1D(64, kernel_size=(10), activation='relu', input_shape=(x_train.shape[1],1)))\n",
        "model.add(layers.Conv1D(128, kernel_size=(10),activation='relu',kernel_regularizer=l2(0.01), bias_regularizer=l2(0.01)))\n",
        "model.add(layers.MaxPooling1D(pool_size=(8)))\n",
        "model.add(layers.Dropout(0.4))\n",
        "model.add(layers.Conv1D(128, kernel_size=(10),activation='relu'))\n",
        "model.add(layers.MaxPooling1D(pool_size=(8)))\n",
        "model.add(layers.Dropout(0.4))\n",
        "model.add(layers.Flatten())\n",
        "model.add(layers.Dense(256, activation='relu'))\n",
        "model.add(layers.Dropout(0.5))\n",
        "model.add(layers.Dense(7, activation='sigmoid'))\n",
        "opt = keras.optimizers.Adam(lr=0.001)\n",
        "model.compile(loss='categorical_crossentropy', optimizer=opt,metrics=['accuracy'])\n",
        "model.summary()"
      ],
      "execution_count": 42,
      "outputs": [
        {
          "output_type": "stream",
          "name": "stdout",
          "text": [
            "Model: \"sequential\"\n",
            "_________________________________________________________________\n",
            "Layer (type)                 Output Shape              Param #   \n",
            "=================================================================\n",
            "conv1d (Conv1D)              (None, 173, 64)           704       \n",
            "_________________________________________________________________\n",
            "conv1d_1 (Conv1D)            (None, 164, 128)          82048     \n",
            "_________________________________________________________________\n",
            "max_pooling1d (MaxPooling1D) (None, 20, 128)           0         \n",
            "_________________________________________________________________\n",
            "dropout (Dropout)            (None, 20, 128)           0         \n",
            "_________________________________________________________________\n",
            "conv1d_2 (Conv1D)            (None, 11, 128)           163968    \n",
            "_________________________________________________________________\n",
            "max_pooling1d_1 (MaxPooling1 (None, 1, 128)            0         \n",
            "_________________________________________________________________\n",
            "dropout_1 (Dropout)          (None, 1, 128)            0         \n",
            "_________________________________________________________________\n",
            "flatten (Flatten)            (None, 128)               0         \n",
            "_________________________________________________________________\n",
            "dense (Dense)                (None, 256)               33024     \n",
            "_________________________________________________________________\n",
            "dropout_2 (Dropout)          (None, 256)               0         \n",
            "_________________________________________________________________\n",
            "dense_1 (Dense)              (None, 7)                 1799      \n",
            "=================================================================\n",
            "Total params: 281,543\n",
            "Trainable params: 281,543\n",
            "Non-trainable params: 0\n",
            "_________________________________________________________________\n"
          ]
        },
        {
          "output_type": "stream",
          "name": "stderr",
          "text": [
            "/usr/local/lib/python3.7/dist-packages/keras/optimizer_v2/optimizer_v2.py:356: UserWarning: The `lr` argument is deprecated, use `learning_rate` instead.\n",
            "  \"The `lr` argument is deprecated, use `learning_rate` instead.\")\n"
          ]
        }
      ]
    },
    {
      "cell_type": "code",
      "metadata": {
        "colab": {
          "base_uri": "https://localhost:8080/"
        },
        "id": "nYegTuGtf7Sg",
        "outputId": "5297a5b5-ffdd-49e0-8454-d50883bc620b"
      },
      "source": [
        "import tensorflow.keras as keras\n",
        "model_history=model.fit(x_train, y_train,batch_size=32, epochs=100, validation_data=(x_test, y_test))"
      ],
      "execution_count": 43,
      "outputs": [
        {
          "output_type": "stream",
          "name": "stdout",
          "text": [
            "Epoch 1/100\n",
            "13/13 [==============================] - 2s 104ms/step - loss: 5.7949 - accuracy: 0.1933 - val_loss: 2.5659 - val_accuracy: 0.3608\n",
            "Epoch 2/100\n",
            "13/13 [==============================] - 1s 85ms/step - loss: 3.4578 - accuracy: 0.2474 - val_loss: 2.4560 - val_accuracy: 0.4330\n",
            "Epoch 3/100\n",
            "13/13 [==============================] - 1s 83ms/step - loss: 2.9455 - accuracy: 0.2990 - val_loss: 2.3385 - val_accuracy: 0.4433\n",
            "Epoch 4/100\n",
            "13/13 [==============================] - 1s 83ms/step - loss: 2.6821 - accuracy: 0.2887 - val_loss: 2.2530 - val_accuracy: 0.4433\n",
            "Epoch 5/100\n",
            "13/13 [==============================] - 1s 83ms/step - loss: 2.5216 - accuracy: 0.3505 - val_loss: 2.1461 - val_accuracy: 0.4948\n",
            "Epoch 6/100\n",
            "13/13 [==============================] - 1s 85ms/step - loss: 2.4505 - accuracy: 0.3660 - val_loss: 2.0292 - val_accuracy: 0.5155\n",
            "Epoch 7/100\n",
            "13/13 [==============================] - 1s 83ms/step - loss: 2.3353 - accuracy: 0.4046 - val_loss: 2.0102 - val_accuracy: 0.5258\n",
            "Epoch 8/100\n",
            "13/13 [==============================] - 1s 84ms/step - loss: 2.3219 - accuracy: 0.3892 - val_loss: 1.9360 - val_accuracy: 0.5052\n",
            "Epoch 9/100\n",
            "13/13 [==============================] - 1s 84ms/step - loss: 2.3042 - accuracy: 0.3995 - val_loss: 1.8824 - val_accuracy: 0.5464\n",
            "Epoch 10/100\n",
            "13/13 [==============================] - 1s 85ms/step - loss: 2.2120 - accuracy: 0.4253 - val_loss: 1.8312 - val_accuracy: 0.5567\n",
            "Epoch 11/100\n",
            "13/13 [==============================] - 1s 86ms/step - loss: 2.1346 - accuracy: 0.4175 - val_loss: 1.8378 - val_accuracy: 0.5361\n",
            "Epoch 12/100\n",
            "13/13 [==============================] - 1s 83ms/step - loss: 2.0648 - accuracy: 0.4381 - val_loss: 1.7933 - val_accuracy: 0.5155\n",
            "Epoch 13/100\n",
            "13/13 [==============================] - 1s 84ms/step - loss: 2.0623 - accuracy: 0.3995 - val_loss: 1.7479 - val_accuracy: 0.5464\n",
            "Epoch 14/100\n",
            "13/13 [==============================] - 1s 86ms/step - loss: 2.0403 - accuracy: 0.4407 - val_loss: 1.7728 - val_accuracy: 0.5052\n",
            "Epoch 15/100\n",
            "13/13 [==============================] - 1s 85ms/step - loss: 1.9938 - accuracy: 0.4459 - val_loss: 1.6996 - val_accuracy: 0.5258\n",
            "Epoch 16/100\n",
            "13/13 [==============================] - 1s 83ms/step - loss: 1.9609 - accuracy: 0.4588 - val_loss: 1.6456 - val_accuracy: 0.5567\n",
            "Epoch 17/100\n",
            "13/13 [==============================] - 1s 85ms/step - loss: 1.9248 - accuracy: 0.4510 - val_loss: 1.5950 - val_accuracy: 0.6082\n",
            "Epoch 18/100\n",
            "13/13 [==============================] - 1s 84ms/step - loss: 1.8144 - accuracy: 0.4897 - val_loss: 1.5604 - val_accuracy: 0.5773\n",
            "Epoch 19/100\n",
            "13/13 [==============================] - 1s 85ms/step - loss: 1.8120 - accuracy: 0.4948 - val_loss: 1.5173 - val_accuracy: 0.6082\n",
            "Epoch 20/100\n",
            "13/13 [==============================] - 1s 103ms/step - loss: 1.7619 - accuracy: 0.5026 - val_loss: 1.4891 - val_accuracy: 0.6082\n",
            "Epoch 21/100\n",
            "13/13 [==============================] - 1s 84ms/step - loss: 1.7169 - accuracy: 0.4897 - val_loss: 1.4644 - val_accuracy: 0.5979\n",
            "Epoch 22/100\n",
            "13/13 [==============================] - 1s 84ms/step - loss: 1.7630 - accuracy: 0.5000 - val_loss: 1.4792 - val_accuracy: 0.5876\n",
            "Epoch 23/100\n",
            "13/13 [==============================] - 1s 84ms/step - loss: 1.7365 - accuracy: 0.5026 - val_loss: 1.4623 - val_accuracy: 0.5876\n",
            "Epoch 24/100\n",
            "13/13 [==============================] - 1s 84ms/step - loss: 1.6497 - accuracy: 0.5412 - val_loss: 1.3986 - val_accuracy: 0.5979\n",
            "Epoch 25/100\n",
            "13/13 [==============================] - 1s 83ms/step - loss: 1.6131 - accuracy: 0.5026 - val_loss: 1.3694 - val_accuracy: 0.6392\n",
            "Epoch 26/100\n",
            "13/13 [==============================] - 1s 84ms/step - loss: 1.6056 - accuracy: 0.5180 - val_loss: 1.3436 - val_accuracy: 0.6598\n",
            "Epoch 27/100\n",
            "13/13 [==============================] - 1s 84ms/step - loss: 1.6027 - accuracy: 0.5180 - val_loss: 1.3087 - val_accuracy: 0.6907\n",
            "Epoch 28/100\n",
            "13/13 [==============================] - 1s 83ms/step - loss: 1.6014 - accuracy: 0.5335 - val_loss: 1.3005 - val_accuracy: 0.6289\n",
            "Epoch 29/100\n",
            "13/13 [==============================] - 1s 85ms/step - loss: 1.5161 - accuracy: 0.5412 - val_loss: 1.2849 - val_accuracy: 0.7010\n",
            "Epoch 30/100\n",
            "13/13 [==============================] - 1s 85ms/step - loss: 1.5434 - accuracy: 0.5206 - val_loss: 1.2722 - val_accuracy: 0.6289\n",
            "Epoch 31/100\n",
            "13/13 [==============================] - 1s 84ms/step - loss: 1.4694 - accuracy: 0.5593 - val_loss: 1.2846 - val_accuracy: 0.5876\n",
            "Epoch 32/100\n",
            "13/13 [==============================] - 1s 82ms/step - loss: 1.4975 - accuracy: 0.5515 - val_loss: 1.2689 - val_accuracy: 0.6495\n",
            "Epoch 33/100\n",
            "13/13 [==============================] - 1s 83ms/step - loss: 1.5509 - accuracy: 0.5284 - val_loss: 1.2537 - val_accuracy: 0.6495\n",
            "Epoch 34/100\n",
            "13/13 [==============================] - 1s 84ms/step - loss: 1.4514 - accuracy: 0.5696 - val_loss: 1.1949 - val_accuracy: 0.6289\n",
            "Epoch 35/100\n",
            "13/13 [==============================] - 1s 83ms/step - loss: 1.3946 - accuracy: 0.5722 - val_loss: 1.1515 - val_accuracy: 0.6804\n",
            "Epoch 36/100\n",
            "13/13 [==============================] - 1s 83ms/step - loss: 1.4650 - accuracy: 0.5464 - val_loss: 1.1804 - val_accuracy: 0.6907\n",
            "Epoch 37/100\n",
            "13/13 [==============================] - 1s 84ms/step - loss: 1.4556 - accuracy: 0.5335 - val_loss: 1.1709 - val_accuracy: 0.7010\n",
            "Epoch 38/100\n",
            "13/13 [==============================] - 1s 83ms/step - loss: 1.3921 - accuracy: 0.5619 - val_loss: 1.1651 - val_accuracy: 0.7113\n",
            "Epoch 39/100\n",
            "13/13 [==============================] - 1s 84ms/step - loss: 1.3714 - accuracy: 0.5747 - val_loss: 1.1025 - val_accuracy: 0.6907\n",
            "Epoch 40/100\n",
            "13/13 [==============================] - 1s 85ms/step - loss: 1.3091 - accuracy: 0.5515 - val_loss: 1.0858 - val_accuracy: 0.7732\n",
            "Epoch 41/100\n",
            "13/13 [==============================] - 1s 83ms/step - loss: 1.2599 - accuracy: 0.5851 - val_loss: 1.0726 - val_accuracy: 0.7113\n",
            "Epoch 42/100\n",
            "13/13 [==============================] - 1s 85ms/step - loss: 1.2647 - accuracy: 0.6082 - val_loss: 1.0734 - val_accuracy: 0.6804\n",
            "Epoch 43/100\n",
            "13/13 [==============================] - 1s 84ms/step - loss: 1.2904 - accuracy: 0.5670 - val_loss: 1.1379 - val_accuracy: 0.7010\n",
            "Epoch 44/100\n",
            "13/13 [==============================] - 1s 83ms/step - loss: 1.2134 - accuracy: 0.6340 - val_loss: 1.1006 - val_accuracy: 0.6804\n",
            "Epoch 45/100\n",
            "13/13 [==============================] - 1s 84ms/step - loss: 1.3236 - accuracy: 0.5567 - val_loss: 1.0444 - val_accuracy: 0.7113\n",
            "Epoch 46/100\n",
            "13/13 [==============================] - 1s 84ms/step - loss: 1.3089 - accuracy: 0.5928 - val_loss: 1.0700 - val_accuracy: 0.7010\n",
            "Epoch 47/100\n",
            "13/13 [==============================] - 1s 84ms/step - loss: 1.2172 - accuracy: 0.6057 - val_loss: 1.1148 - val_accuracy: 0.6598\n",
            "Epoch 48/100\n",
            "13/13 [==============================] - 1s 85ms/step - loss: 1.2213 - accuracy: 0.6443 - val_loss: 1.0206 - val_accuracy: 0.7010\n",
            "Epoch 49/100\n",
            "13/13 [==============================] - 1s 86ms/step - loss: 1.3126 - accuracy: 0.5979 - val_loss: 1.0919 - val_accuracy: 0.6907\n",
            "Epoch 50/100\n",
            "13/13 [==============================] - 1s 84ms/step - loss: 1.2059 - accuracy: 0.6469 - val_loss: 1.0251 - val_accuracy: 0.7216\n",
            "Epoch 51/100\n",
            "13/13 [==============================] - 1s 84ms/step - loss: 1.1378 - accuracy: 0.6366 - val_loss: 0.9484 - val_accuracy: 0.7732\n",
            "Epoch 52/100\n",
            "13/13 [==============================] - 1s 85ms/step - loss: 1.1089 - accuracy: 0.6546 - val_loss: 0.9423 - val_accuracy: 0.7629\n",
            "Epoch 53/100\n",
            "13/13 [==============================] - 1s 85ms/step - loss: 1.0643 - accuracy: 0.6753 - val_loss: 0.9623 - val_accuracy: 0.7216\n",
            "Epoch 54/100\n",
            "13/13 [==============================] - 1s 85ms/step - loss: 1.2082 - accuracy: 0.6314 - val_loss: 0.9446 - val_accuracy: 0.7320\n",
            "Epoch 55/100\n",
            "13/13 [==============================] - 1s 84ms/step - loss: 1.0673 - accuracy: 0.6881 - val_loss: 0.8876 - val_accuracy: 0.7629\n",
            "Epoch 56/100\n",
            "13/13 [==============================] - 1s 85ms/step - loss: 1.2030 - accuracy: 0.6443 - val_loss: 0.9463 - val_accuracy: 0.7216\n",
            "Epoch 57/100\n",
            "13/13 [==============================] - 1s 83ms/step - loss: 1.1050 - accuracy: 0.6881 - val_loss: 1.0686 - val_accuracy: 0.6907\n",
            "Epoch 58/100\n",
            "13/13 [==============================] - 1s 86ms/step - loss: 1.0330 - accuracy: 0.6830 - val_loss: 0.9259 - val_accuracy: 0.7423\n",
            "Epoch 59/100\n",
            "13/13 [==============================] - 1s 84ms/step - loss: 1.0421 - accuracy: 0.6753 - val_loss: 0.8986 - val_accuracy: 0.7320\n",
            "Epoch 60/100\n",
            "13/13 [==============================] - 1s 84ms/step - loss: 1.0520 - accuracy: 0.6830 - val_loss: 0.9079 - val_accuracy: 0.7423\n",
            "Epoch 61/100\n",
            "13/13 [==============================] - 1s 84ms/step - loss: 1.0258 - accuracy: 0.6933 - val_loss: 0.9397 - val_accuracy: 0.7423\n",
            "Epoch 62/100\n",
            "13/13 [==============================] - 1s 85ms/step - loss: 1.0863 - accuracy: 0.6546 - val_loss: 0.9277 - val_accuracy: 0.7629\n",
            "Epoch 63/100\n",
            "13/13 [==============================] - 1s 84ms/step - loss: 0.9905 - accuracy: 0.7062 - val_loss: 0.8738 - val_accuracy: 0.7835\n",
            "Epoch 64/100\n",
            "13/13 [==============================] - 1s 83ms/step - loss: 0.9315 - accuracy: 0.7603 - val_loss: 0.9143 - val_accuracy: 0.7732\n",
            "Epoch 65/100\n",
            "13/13 [==============================] - 1s 86ms/step - loss: 1.0223 - accuracy: 0.6907 - val_loss: 0.8853 - val_accuracy: 0.7320\n",
            "Epoch 66/100\n",
            "13/13 [==============================] - 1s 84ms/step - loss: 1.0037 - accuracy: 0.6804 - val_loss: 0.8894 - val_accuracy: 0.7423\n",
            "Epoch 67/100\n",
            "13/13 [==============================] - 1s 86ms/step - loss: 0.8848 - accuracy: 0.7629 - val_loss: 0.8559 - val_accuracy: 0.7526\n",
            "Epoch 68/100\n",
            "13/13 [==============================] - 1s 84ms/step - loss: 0.8780 - accuracy: 0.7345 - val_loss: 0.8589 - val_accuracy: 0.7113\n",
            "Epoch 69/100\n",
            "13/13 [==============================] - 1s 83ms/step - loss: 0.9660 - accuracy: 0.7448 - val_loss: 0.8430 - val_accuracy: 0.7423\n",
            "Epoch 70/100\n",
            "13/13 [==============================] - 1s 83ms/step - loss: 0.9805 - accuracy: 0.7062 - val_loss: 0.8336 - val_accuracy: 0.7629\n",
            "Epoch 71/100\n",
            "13/13 [==============================] - 1s 85ms/step - loss: 0.9262 - accuracy: 0.7500 - val_loss: 0.8214 - val_accuracy: 0.7835\n",
            "Epoch 72/100\n",
            "13/13 [==============================] - 1s 84ms/step - loss: 0.8732 - accuracy: 0.7526 - val_loss: 0.7970 - val_accuracy: 0.7938\n",
            "Epoch 73/100\n",
            "13/13 [==============================] - 1s 85ms/step - loss: 0.8189 - accuracy: 0.7861 - val_loss: 0.8934 - val_accuracy: 0.7320\n",
            "Epoch 74/100\n",
            "13/13 [==============================] - 1s 83ms/step - loss: 0.8260 - accuracy: 0.7474 - val_loss: 0.7415 - val_accuracy: 0.7835\n",
            "Epoch 75/100\n",
            "13/13 [==============================] - 1s 84ms/step - loss: 0.8448 - accuracy: 0.7655 - val_loss: 0.8432 - val_accuracy: 0.7423\n",
            "Epoch 76/100\n",
            "13/13 [==============================] - 1s 102ms/step - loss: 0.8247 - accuracy: 0.7912 - val_loss: 0.8238 - val_accuracy: 0.7629\n",
            "Epoch 77/100\n",
            "13/13 [==============================] - 1s 85ms/step - loss: 0.7894 - accuracy: 0.7784 - val_loss: 0.8679 - val_accuracy: 0.7629\n",
            "Epoch 78/100\n",
            "13/13 [==============================] - 1s 85ms/step - loss: 0.7602 - accuracy: 0.8015 - val_loss: 0.7562 - val_accuracy: 0.8247\n",
            "Epoch 79/100\n",
            "13/13 [==============================] - 1s 84ms/step - loss: 0.7967 - accuracy: 0.8144 - val_loss: 0.7383 - val_accuracy: 0.8144\n",
            "Epoch 80/100\n",
            "13/13 [==============================] - 1s 84ms/step - loss: 0.7812 - accuracy: 0.8067 - val_loss: 0.7427 - val_accuracy: 0.7835\n",
            "Epoch 81/100\n",
            "13/13 [==============================] - 1s 85ms/step - loss: 0.7555 - accuracy: 0.7938 - val_loss: 0.7652 - val_accuracy: 0.7835\n",
            "Epoch 82/100\n",
            "13/13 [==============================] - 1s 86ms/step - loss: 0.7494 - accuracy: 0.7990 - val_loss: 0.8269 - val_accuracy: 0.7526\n",
            "Epoch 83/100\n",
            "13/13 [==============================] - 1s 84ms/step - loss: 0.7901 - accuracy: 0.7809 - val_loss: 0.7429 - val_accuracy: 0.8247\n",
            "Epoch 84/100\n",
            "13/13 [==============================] - 1s 86ms/step - loss: 0.7790 - accuracy: 0.7835 - val_loss: 0.7965 - val_accuracy: 0.7423\n",
            "Epoch 85/100\n",
            "13/13 [==============================] - 1s 85ms/step - loss: 0.7086 - accuracy: 0.8196 - val_loss: 0.7532 - val_accuracy: 0.8144\n",
            "Epoch 86/100\n",
            "13/13 [==============================] - 1s 85ms/step - loss: 0.7581 - accuracy: 0.7912 - val_loss: 0.8549 - val_accuracy: 0.7732\n",
            "Epoch 87/100\n",
            "13/13 [==============================] - 1s 84ms/step - loss: 0.7639 - accuracy: 0.7758 - val_loss: 0.8012 - val_accuracy: 0.8041\n",
            "Epoch 88/100\n",
            "13/13 [==============================] - 1s 85ms/step - loss: 0.7913 - accuracy: 0.8015 - val_loss: 0.7638 - val_accuracy: 0.7835\n",
            "Epoch 89/100\n",
            "13/13 [==============================] - 1s 85ms/step - loss: 0.7553 - accuracy: 0.7784 - val_loss: 0.8633 - val_accuracy: 0.7423\n",
            "Epoch 90/100\n",
            "13/13 [==============================] - 1s 85ms/step - loss: 0.7531 - accuracy: 0.8067 - val_loss: 0.7847 - val_accuracy: 0.7835\n",
            "Epoch 91/100\n",
            "13/13 [==============================] - 1s 85ms/step - loss: 0.8532 - accuracy: 0.7938 - val_loss: 0.8943 - val_accuracy: 0.7423\n",
            "Epoch 92/100\n",
            "13/13 [==============================] - 1s 85ms/step - loss: 0.9445 - accuracy: 0.7139 - val_loss: 0.8987 - val_accuracy: 0.7629\n",
            "Epoch 93/100\n",
            "13/13 [==============================] - 1s 85ms/step - loss: 0.8330 - accuracy: 0.7835 - val_loss: 0.7851 - val_accuracy: 0.7938\n",
            "Epoch 94/100\n",
            "13/13 [==============================] - 1s 85ms/step - loss: 0.6994 - accuracy: 0.8093 - val_loss: 0.9036 - val_accuracy: 0.7526\n",
            "Epoch 95/100\n",
            "13/13 [==============================] - 1s 84ms/step - loss: 0.6508 - accuracy: 0.8376 - val_loss: 0.7187 - val_accuracy: 0.8041\n",
            "Epoch 96/100\n",
            "13/13 [==============================] - 1s 85ms/step - loss: 0.6020 - accuracy: 0.8608 - val_loss: 0.8426 - val_accuracy: 0.7320\n",
            "Epoch 97/100\n",
            "13/13 [==============================] - 1s 85ms/step - loss: 0.6051 - accuracy: 0.8454 - val_loss: 0.7193 - val_accuracy: 0.7835\n",
            "Epoch 98/100\n",
            "13/13 [==============================] - 1s 85ms/step - loss: 0.6672 - accuracy: 0.8428 - val_loss: 0.7051 - val_accuracy: 0.7938\n",
            "Epoch 99/100\n",
            "13/13 [==============================] - 1s 85ms/step - loss: 0.5828 - accuracy: 0.8634 - val_loss: 0.6719 - val_accuracy: 0.8247\n",
            "Epoch 100/100\n",
            "13/13 [==============================] - 1s 85ms/step - loss: 0.6706 - accuracy: 0.8247 - val_loss: 0.6895 - val_accuracy: 0.7938\n"
          ]
        }
      ]
    },
    {
      "cell_type": "code",
      "metadata": {
        "colab": {
          "base_uri": "https://localhost:8080/"
        },
        "id": "iRf_Y9TCgmau",
        "outputId": "b884ba83-a205-416f-91b1-8cacfb451632"
      },
      "source": [
        "print(\"Loss of the model is - \" , model.evaluate(x_test,y_test)[0])\n",
        "print(\"Accuracy of the model is - \" , model.evaluate(x_test,y_test)[1]*100 , \"%\")"
      ],
      "execution_count": 44,
      "outputs": [
        {
          "output_type": "stream",
          "name": "stdout",
          "text": [
            "4/4 [==============================] - 0s 14ms/step - loss: 0.6895 - accuracy: 0.7938\n",
            "Loss of the model is -  0.6895436644554138\n",
            "4/4 [==============================] - 0s 14ms/step - loss: 0.6895 - accuracy: 0.7938\n",
            "Accuracy of the model is -  79.38144207000732 %\n"
          ]
        }
      ]
    },
    {
      "cell_type": "code",
      "metadata": {
        "colab": {
          "base_uri": "https://localhost:8080/",
          "height": 630
        },
        "id": "w0mSGq6HgrCu",
        "outputId": "ab6939c5-d786-42d2-dc80-54425510cc58"
      },
      "source": [
        "predictions = model.predict(x_test)\n",
        "predictions = predictions.argmax(axis=1)\n",
        "predictions = predictions.astype(int).flatten()\n",
        "predictions = (lb.inverse_transform((predictions)))\n",
        "actual = y_test.argmax(axis=1)\n",
        "actual = actual.astype(int).flatten()\n",
        "actual = (lb.inverse_transform((actual)))\n",
        "cm = confusion_matrix(actual, predictions,normalize='true')\n",
        "plt.figure(figsize = (12, 10))\n",
        "conf_matrix= pd.DataFrame(cm,columns=None)\n",
        "ax = sns.heatmap(cm, linecolor='white', cmap='Wistia', linewidth=1, annot=True, fmt='')\n",
        "bottom, top = ax.get_ylim()\n",
        "ax.set_ylim(bottom + 0.5, top - 0.5)\n",
        "plt.title('Confusion Matrix', size=20)\n",
        "plt.xlabel('Predicted Labels', size=14)\n",
        "plt.ylabel('Actual Labels', size=14)\n",
        "plt.savefig('Initial_Model_Confusion_Matrix.png')\n",
        "plt.show()"
      ],
      "execution_count": 59,
      "outputs": [
        {
          "output_type": "display_data",
          "data": {
            "image/png": "[encoded data removed]",
            "text/plain": [
              "<Figure size 864x720 with 2 Axes>"
            ]
          },
          "metadata": {
            "needs_background": "light"
          }
        }
      ]
    },
    {
      "cell_type": "code",
      "metadata": {
        "colab": {
          "base_uri": "https://localhost:8080/"
        },
        "id": "-o2AzOE7gyhS",
        "outputId": "11d839e2-e84a-4e76-ec0c-bea1dba939b2"
      },
      "source": [
        "print(classification_report(actual, predictions, target_names = ['anger','boredom','disgust','fear','happiness','neutral','sadness']))"
      ],
      "execution_count": 46,
      "outputs": [
        {
          "output_type": "stream",
          "name": "stdout",
          "text": [
            "              precision    recall  f1-score   support\n",
            "\n",
            "       anger       0.95      0.83      0.89        24\n",
            "     boredom       0.60      0.75      0.67        12\n",
            "     disgust       0.86      0.75      0.80         8\n",
            "        fear       0.60      0.50      0.55        12\n",
            "   happiness       0.83      0.83      0.83        12\n",
            "     neutral       0.57      0.73      0.64        11\n",
            "     sadness       1.00      1.00      1.00        18\n",
            "\n",
            "    accuracy                           0.79        97\n",
            "   macro avg       0.77      0.77      0.77        97\n",
            "weighted avg       0.81      0.79      0.80        97\n",
            "\n"
          ]
        }
      ]
    },
    {
      "cell_type": "code",
      "metadata": {
        "colab": {
          "base_uri": "https://localhost:8080/"
        },
        "id": "z3QR8KsPgzvn",
        "outputId": "c9353654-cb99-4242-9c16-736f6b7778a2"
      },
      "source": [
        "from imblearn.metrics import specificity_score\n",
        "s=specificity_score(actual,predictions,average='macro')\n",
        "print(s)"
      ],
      "execution_count": 47,
      "outputs": [
        {
          "output_type": "stream",
          "name": "stdout",
          "text": [
            "0.9663030717654476\n"
          ]
        },
        {
          "output_type": "stream",
          "name": "stderr",
          "text": [
            "/usr/local/lib/python3.7/dist-packages/sklearn/externals/six.py:31: FutureWarning: The module is deprecated in version 0.21 and will be removed in version 0.23 since we've dropped support for Python 2.7. Please rely on the official version of six (https://pypi.org/project/six/).\n",
            "  \"(https://pypi.org/project/six/).\", FutureWarning)\n",
            "/usr/local/lib/python3.7/dist-packages/sklearn/utils/deprecation.py:144: FutureWarning: The sklearn.neighbors.base module is  deprecated in version 0.22 and will be removed in version 0.24. The corresponding classes / functions should instead be imported from sklearn.neighbors. Anything that cannot be imported from sklearn.neighbors is now part of the private API.\n",
            "  warnings.warn(message, FutureWarning)\n",
            "/usr/local/lib/python3.7/dist-packages/sklearn/utils/deprecation.py:144: FutureWarning: The sklearn.metrics.classification module is  deprecated in version 0.22 and will be removed in version 0.24. The corresponding classes / functions should instead be imported from sklearn.metrics. Anything that cannot be imported from sklearn.metrics is now part of the private API.\n",
            "  warnings.warn(message, FutureWarning)\n"
          ]
        }
      ]
    },
    {
      "cell_type": "code",
      "metadata": {
        "colab": {
          "base_uri": "https://localhost:8080/"
        },
        "id": "eF_EsOq3g7ql",
        "outputId": "5ea92be6-f2cb-45df-e8bb-f1c231e2f5b6"
      },
      "source": [
        "from sklearn.metrics import roc_auc_score\n",
        "y_score=model.predict(x_test)\n",
        "auc=roc_auc_score(y_test, y_score, average='macro',multi_class='ovo')\n",
        "print(auc)"
      ],
      "execution_count": 48,
      "outputs": [
        {
          "output_type": "stream",
          "name": "stdout",
          "text": [
            "0.9180405530785093\n"
          ]
        }
      ]
    },
    {
      "cell_type": "code",
      "metadata": {
        "colab": {
          "base_uri": "https://localhost:8080/"
        },
        "id": "FXp_n8Fhg_FH",
        "outputId": "5bbf192b-c2a1-4349-e15f-08d5d7e0653f"
      },
      "source": [
        "from sklearn.metrics import precision_score\n",
        "from sklearn.metrics import recall_score\n",
        "from sklearn.metrics import f1_score\n",
        "p=precision_score(actual,predictions,average='macro')\n",
        "r=recall_score(actual,predictions,average='macro')\n",
        "f=f1_score(actual,predictions,average='macro')\n",
        "print(p,r,f)"
      ],
      "execution_count": 49,
      "outputs": [
        {
          "output_type": "stream",
          "name": "stdout",
          "text": [
            "0.7734693877551021 0.7705627705627707 0.7677633477633476\n"
          ]
        }
      ]
    },
    {
      "cell_type": "code",
      "metadata": {
        "colab": {
          "base_uri": "https://localhost:8080/"
        },
        "id": "_mzWK6ZnhDTo",
        "outputId": "2e50f139-1f4d-4fd6-9b93-75c4b8f0a418"
      },
      "source": [
        "FP = cm.sum(axis=0) - np.diag(cm)  \n",
        "FN = cm.sum(axis=1) - np.diag(cm)\n",
        "TP = np.diag(cm)\n",
        "TN = cm.sum() - (FP + FN + TP)\n",
        "\n",
        "FP = FP.astype(float)\n",
        "FN = FN.astype(float)\n",
        "TP = TP.astype(float)\n",
        "TN = TN.astype(float)\n",
        "\n",
        "# Sensitivity, hit rate, recall, or true positive rate\n",
        "TPR = TP/(TP+FN)\n",
        "# Fall out or false positive rate\n",
        "FPR = FP/(FP+TN)\n",
        "print(TPR)\n",
        "print(FPR)"
      ],
      "execution_count": 50,
      "outputs": [
        {
          "output_type": "stream",
          "name": "stdout",
          "text": [
            "[0.83333333 0.75       0.75       0.5        0.83333333 0.72727273\n",
            " 1.        ]\n",
            "[0.01388889 0.08712121 0.01388889 0.04861111 0.01388889 0.09027778\n",
            " 0.        ]\n"
          ]
        }
      ]
    },
    {
      "cell_type": "code",
      "metadata": {
        "id": "gHiq0CxUhEtY"
      },
      "source": [
        "l=[]\n",
        "for i in range(100):\n",
        "  l.append(i+1)"
      ],
      "execution_count": 51,
      "outputs": []
    },
    {
      "cell_type": "code",
      "metadata": {
        "colab": {
          "base_uri": "https://localhost:8080/"
        },
        "id": "9eonETEshLOf",
        "outputId": "c438873f-19f8-4934-dcf5-5660b6c2b14f"
      },
      "source": [
        "from pandas import DataFrame\n",
        "C = {'epoch no':l,\n",
        "    'acc train':model_history.history['accuracy'],\n",
        "    'acc val':model_history.history['val_accuracy'],\n",
        "    'loss train':model_history.history['loss'],\n",
        "    'loss val':model_history.history['val_loss']}\n",
        "df = DataFrame(C, columns= ['epoch no','acc train','acc val','loss train','loss val'])\n",
        "# export_csv = df.to_csv (r'C:\\Users\\29271\\Desktop\\5452result\\result1.csv', index = None, header=True) \n",
        "print (df)"
      ],
      "execution_count": 55,
      "outputs": [
        {
          "output_type": "stream",
          "name": "stdout",
          "text": [
            "    epoch no  acc train   acc val  loss train  loss val\n",
            "0          1   0.193299  0.360825    5.794874  2.565885\n",
            "1          2   0.247423  0.432990    3.457821  2.456042\n",
            "2          3   0.298969  0.443299    2.945467  2.338457\n",
            "3          4   0.288660  0.443299    2.682068  2.252993\n",
            "4          5   0.350515  0.494845    2.521607  2.146095\n",
            "..       ...        ...       ...         ...       ...\n",
            "95        96   0.860825  0.731959    0.601968  0.842604\n",
            "96        97   0.845361  0.783505    0.605114  0.719305\n",
            "97        98   0.842784  0.793814    0.667219  0.705062\n",
            "98        99   0.863402  0.824742    0.582827  0.671892\n",
            "99       100   0.824742  0.793814    0.670647  0.689544\n",
            "\n",
            "[100 rows x 5 columns]\n"
          ]
        }
      ]
    },
    {
      "cell_type": "code",
      "metadata": {
        "colab": {
          "base_uri": "https://localhost:8080/"
        },
        "id": "qsUkI1tVhOj4",
        "outputId": "f07563ab-ae05-4766-fddd-71ea83d2a1b5"
      },
      "source": [
        "from pandas import DataFrame\n",
        "C = {\n",
        "     'train acc':[str(model_history.history['accuracy'][99])],\n",
        "     'test acc':[str(model_history.history['val_accuracy'][99])],\n",
        "     'precision(macro)':[str(p)],\n",
        "     'recall(macro)':[str(r)],\n",
        "     'f1(macro)':[str(f)],\n",
        "     'specificity(macro)':[str(s)],\n",
        "     'AUC(macro)':[str(auc)],\n",
        "     'train time per epoch':['1 sec'],\n",
        "     'test time per epoch':['1 sec'],}\n",
        "df = DataFrame(C, columns= ['train acc','test acc','precision(macro)','recall(macro)','f1(macro)','specificity(macro)','AUC(macro)','train time per epoch','test time per epoch'])\n",
        "export_csv = df.to_csv (r'C:\\result2.csv', index = None, header=True) \n",
        "print (df)"
      ],
      "execution_count": 53,
      "outputs": [
        {
          "output_type": "stream",
          "name": "stdout",
          "text": [
            "            train acc  ... test time per epoch\n",
            "0  0.8247422575950623  ...               1 sec\n",
            "\n",
            "[1 rows x 9 columns]\n"
          ]
        }
      ]
    },
    {
      "cell_type": "code",
      "metadata": {
        "colab": {
          "base_uri": "https://localhost:8080/"
        },
        "id": "XZyTO326hWGX",
        "outputId": "7f2efe08-9acc-4e10-bf46-8f97a8fb6fc8"
      },
      "source": [
        "from pandas import DataFrame\n",
        "C = {\n",
        "     'TPR': TPR,\n",
        "     'FPR': FPR}\n",
        "df = DataFrame(C, columns= ['TPR','FPR'])\n",
        "#export_csv = df.to_csv (r'C:\\result3.csv', index = None, header=True) \n",
        "print (df)"
      ],
      "execution_count": 56,
      "outputs": [
        {
          "output_type": "stream",
          "name": "stdout",
          "text": [
            "        TPR       FPR\n",
            "0  0.833333  0.013889\n",
            "1  0.750000  0.087121\n",
            "2  0.750000  0.013889\n",
            "3  0.500000  0.048611\n",
            "4  0.833333  0.013889\n",
            "5  0.727273  0.090278\n",
            "6  1.000000  0.000000\n"
          ]
        }
      ]
    }
  ]
}