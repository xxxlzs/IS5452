{
 "cells": [
  {
   "cell_type": "code",
   "execution_count": 1,
   "metadata": {
    "execution": {
     "iopub.execute_input": "2021-11-05T07:38:35.432125Z",
     "iopub.status.busy": "2021-11-05T07:38:35.431480Z",
     "iopub.status.idle": "2021-11-05T07:38:35.438636Z",
     "shell.execute_reply": "2021-11-05T07:38:35.437626Z",
     "shell.execute_reply.started": "2021-11-05T07:38:35.432088Z"
    }
   },
   "outputs": [],
   "source": [
    "import librosa \n",
    "from librosa import display\n",
    "import pylab as plt\n",
    "import os\n",
    "import pandas as pd\n",
    "import glob\n",
    "import numpy as np\n",
    "from numpy import savetxt\n",
    "from numpy import asarray\n",
    "import torch\n",
    "import torch.nn as nn\n",
    "import torch.nn.functional as F\n",
    "import seaborn as sns\n",
    "import matplotlib.pyplot as plt\n",
    "from sklearn.metrics import confusion_matrix\n",
    "from sklearn.dummy import DummyClassifier\n",
    "from sklearn.tree import DecisionTreeClassifier\n",
    "from sklearn.model_selection import GridSearchCV\n",
    "from sklearn.metrics import classification_report\n",
    "from sklearn.model_selection import train_test_split"
   ]
  },
  {
   "cell_type": "code",
   "execution_count": 2,
   "metadata": {
    "execution": {
     "iopub.execute_input": "2021-11-05T07:38:35.441128Z",
     "iopub.status.busy": "2021-11-05T07:38:35.440798Z",
     "iopub.status.idle": "2021-11-05T07:38:35.750003Z",
     "shell.execute_reply": "2021-11-05T07:38:35.749308Z",
     "shell.execute_reply.started": "2021-11-05T07:38:35.441090Z"
    }
   },
   "outputs": [],
   "source": [
    "path ='.../RAVDESS'\n",
    "emotion = []\n",
    "emotion_code =[]\n",
    "gender = []\n",
    "actor = []\n",
    "file_path = []\n",
    "for subdir,dirs,files in os.walk(path):\n",
    "    for file in files:\n",
    "        part = file.split('.')[0].split('-')\n",
    "        emotion.append(int(part[2]))\n",
    "        emotion_code.append(int(part[2]))\n",
    "        actor.append(int(part[6]))\n",
    "        bg = int(part[6])\n",
    "        # if bg%2 == 0:\n",
    "        #    bg = \"female\"\n",
    "        #else:\n",
    "        #    bg = \"male\"\n",
    "        gender.append(bg)\n",
    "        file_path.append('.../RAVDESS/' + file)\n",
    "audio_df = pd.DataFrame(emotion)\n",
    "audio_df = audio_df.replace({1:'neutral', 2:'calm', 3:'happy', 4:'sad', 5:'angry', 6:'fear', 7:'disgust', 8:'surprise'})\n",
    "audio_df = pd.concat([pd.DataFrame(gender),pd.DataFrame(emotion_code),audio_df,pd.DataFrame(actor)],axis=1)\n",
    "audio_df.columns = ['gender','emotion_code','emotion','actor']\n",
    "audio_df = pd.concat([audio_df,pd.DataFrame(file_path, columns = ['path'])],axis=1)"
   ]
  },
  {
   "cell_type": "code",
   "execution_count": 3,
   "metadata": {
    "execution": {
     "iopub.execute_input": "2021-11-05T07:38:35.751621Z",
     "iopub.status.busy": "2021-11-05T07:38:35.751381Z",
     "iopub.status.idle": "2021-11-05T07:41:50.160903Z",
     "shell.execute_reply": "2021-11-05T07:41:50.160129Z",
     "shell.execute_reply.started": "2021-11-05T07:38:35.751587Z"
    }
   },
   "outputs": [
    {
     "name": "stdout",
     "output_type": "stream",
     "text": [
      "   gender  emotion_code   emotion  actor  \\\n",
      "0       2             6      fear      2   \n",
      "1      16             5     angry     16   \n",
      "2      16             3     happy     16   \n",
      "3      14             8  surprise     14   \n",
      "4       2             3     happy      2   \n",
      "\n",
      "                                                path  \\\n",
      "0  /Users/xx/Desktop/5452 pro/RAVDESS/03-01-06-01...   \n",
      "1  /Users/xx/Desktop/5452 pro/RAVDESS/03-01-05-01...   \n",
      "2  /Users/xx/Desktop/5452 pro/RAVDESS/03-02-03-02...   \n",
      "3  /Users/xx/Desktop/5452 pro/RAVDESS/03-01-08-01...   \n",
      "4  /Users/xx/Desktop/5452 pro/RAVDESS/03-02-03-02...   \n",
      "\n",
      "                                     mel_spectrogram  \n",
      "0  [[-66.32325, -66.32325, -66.32325, -66.32325, ...  \n",
      "1  [[-62.853226, -62.853226, -62.853226, -62.8532...  \n",
      "2  [[-63.636585, -63.636585, -63.636585, -63.6365...  \n",
      "3  [[-74.1957, -74.1957, -74.1957, -74.1957, -74....  \n",
      "4  [[-60.580383, -60.461906, -58.998493, -54.4517...  \n",
      "(2452, 6)\n"
     ]
    }
   ],
   "source": [
    "df = pd.DataFrame(columns=['mel_spectrogram'])\n",
    "counter=0\n",
    "for index,path in enumerate(audio_df.path):\n",
    "    X, sample_rate = librosa.load(path, res_type='kaiser_fast',duration=3,sr=44100,offset=0.5)\n",
    "    \n",
    "    #get the mel-scaled spectrogram (ransform both the y-axis (frequency) to log scale, and the “color” axis (amplitude) to Decibels, which is kinda the log scale of amplitudes.)\n",
    "    spectrogram = librosa.feature.melspectrogram(y=X, sr=sample_rate, n_mels=128,fmax=8000) \n",
    "    db_spec = librosa.power_to_db(spectrogram)\n",
    "    df.loc[counter] = [db_spec]\n",
    "    counter=counter+1\n",
    "    \n",
    "audio_df['mel_spectrogram']= df['mel_spectrogram']\n",
    "print(audio_df.head())\n",
    "print(audio_df.shape)"
   ]
  },
  {
   "cell_type": "code",
   "execution_count": 4,
   "metadata": {
    "execution": {
     "iopub.execute_input": "2021-11-05T07:41:50.162688Z",
     "iopub.status.busy": "2021-11-05T07:41:50.162255Z",
     "iopub.status.idle": "2021-11-05T07:41:50.166730Z",
     "shell.execute_reply": "2021-11-05T07:41:50.166041Z",
     "shell.execute_reply.started": "2021-11-05T07:41:50.162649Z"
    }
   },
   "outputs": [],
   "source": [
    "df2 = audio_df"
   ]
  },
  {
   "cell_type": "code",
   "execution_count": 5,
   "metadata": {
    "execution": {
     "iopub.execute_input": "2021-11-05T07:41:50.169767Z",
     "iopub.status.busy": "2021-11-05T07:41:50.169359Z",
     "iopub.status.idle": "2021-11-05T07:41:50.209574Z",
     "shell.execute_reply": "2021-11-05T07:41:50.208936Z",
     "shell.execute_reply.started": "2021-11-05T07:41:50.169708Z"
    }
   },
   "outputs": [
    {
     "name": "stdout",
     "output_type": "stream",
     "text": [
      "(2075, 6)\n"
     ]
    }
   ],
   "source": [
    "to_drop = []\n",
    "for i in range(2452):\n",
    "    if df2['mel_spectrogram'].iloc[i].shape[1]!=259:\n",
    "        to_drop.append(i)\n",
    "\n",
    "df2 = df2.drop(to_drop)\n",
    "print(df2.shape)"
   ]
  },
  {
   "cell_type": "code",
   "execution_count": 6,
   "metadata": {
    "execution": {
     "iopub.execute_input": "2021-11-05T07:41:50.212564Z",
     "iopub.status.busy": "2021-11-05T07:41:50.212380Z",
     "iopub.status.idle": "2021-11-05T07:41:50.328926Z",
     "shell.execute_reply": "2021-11-05T07:41:50.328158Z",
     "shell.execute_reply.started": "2021-11-05T07:41:50.212541Z"
    }
   },
   "outputs": [
    {
     "name": "stdout",
     "output_type": "stream",
     "text": [
      "(1660, 128, 259)\n",
      "(1660,)\n",
      "(415, 128, 259)\n",
      "(415,)\n"
     ]
    }
   ],
   "source": [
    "train,test = train_test_split(df2,test_size=0.2)\n",
    "temp_X_train = train.iloc[:,5]\n",
    "temp_X_test = test.iloc[:,5]\n",
    "\n",
    "y_train = (train.iloc[:,0]%2 * 8 ) + train.iloc[:,1]\n",
    "y_test = (test.iloc[:,0]%2 * 8 ) + test.iloc[:,1]\n",
    "\n",
    "X_train = []\n",
    "X_test = []\n",
    "\n",
    "for i in range(temp_X_train.shape[0]):\n",
    "    X_train.append(temp_X_train.iloc[i])\n",
    "\n",
    "X_train = np.array(X_train)\n",
    "\n",
    "for i in range(temp_X_test.shape[0]):\n",
    "    X_test.append(temp_X_test.iloc[i])\n",
    "\n",
    "X_test = np.array(X_test)\n",
    "\n",
    "\n",
    "print(X_train.shape)\n",
    "print(y_train.shape)\n",
    "print(X_test.shape)\n",
    "print(y_test.shape)"
   ]
  },
  {
   "cell_type": "code",
   "execution_count": 7,
   "metadata": {
    "execution": {
     "iopub.execute_input": "2021-11-05T07:41:50.331888Z",
     "iopub.status.busy": "2021-11-05T07:41:50.331188Z",
     "iopub.status.idle": "2021-11-05T07:41:50.341027Z",
     "shell.execute_reply": "2021-11-05T07:41:50.339840Z",
     "shell.execute_reply.started": "2021-11-05T07:41:50.331845Z"
    }
   },
   "outputs": [
    {
     "name": "stdout",
     "output_type": "stream",
     "text": [
      "0.07228915662650602\n"
     ]
    }
   ],
   "source": [
    "dummy_clf = DummyClassifier()\n",
    "dummy_clf.fit(X_train, y_train)\n",
    "DummyClassifier()\n",
    "dummy_clf.predict(X_test)\n",
    "print(dummy_clf.score(X_test, y_test))"
   ]
  },
  {
   "cell_type": "code",
   "execution_count": 8,
   "metadata": {
    "execution": {
     "iopub.execute_input": "2021-11-05T07:41:50.343238Z",
     "iopub.status.busy": "2021-11-05T07:41:50.342646Z",
     "iopub.status.idle": "2021-11-05T07:41:50.358917Z",
     "shell.execute_reply": "2021-11-05T07:41:50.358030Z",
     "shell.execute_reply.started": "2021-11-05T07:41:50.343196Z"
    }
   },
   "outputs": [
    {
     "name": "stdout",
     "output_type": "stream",
     "text": [
      "cpu\n"
     ]
    }
   ],
   "source": [
    "device = torch.device(\"cuda\" if torch.cuda.is_available() else \"cpu\")\n",
    "print(device)"
   ]
  },
  {
   "cell_type": "code",
   "execution_count": 9,
   "metadata": {
    "execution": {
     "iopub.execute_input": "2021-11-05T07:41:50.368047Z",
     "iopub.status.busy": "2021-11-05T07:41:50.360893Z",
     "iopub.status.idle": "2021-11-05T07:41:50.373141Z",
     "shell.execute_reply": "2021-11-05T07:41:50.372389Z",
     "shell.execute_reply.started": "2021-11-05T07:41:50.368013Z"
    }
   },
   "outputs": [],
   "source": [
    "X_train = torch.from_numpy(X_train) \n",
    "y_train = torch.from_numpy(np.asarray(y_train)) \n",
    "X_test = torch.from_numpy(X_test) \n",
    "y_test = torch.from_numpy(np.asarray(y_test)) "
   ]
  },
  {
   "cell_type": "code",
   "execution_count": 10,
   "metadata": {
    "execution": {
     "iopub.execute_input": "2021-11-05T07:41:50.374637Z",
     "iopub.status.busy": "2021-11-05T07:41:50.374218Z",
     "iopub.status.idle": "2021-11-05T07:41:50.392555Z",
     "shell.execute_reply": "2021-11-05T07:41:50.391353Z",
     "shell.execute_reply.started": "2021-11-05T07:41:50.374599Z"
    }
   },
   "outputs": [
    {
     "name": "stdout",
     "output_type": "stream",
     "text": [
      "torch.Size([1660, 128, 259])\n",
      "torch.Size([1660])\n"
     ]
    }
   ],
   "source": [
    "print(X_train.size())\n",
    "print(y_train.size())\n",
    "\n",
    "y_train = y_train-1\n",
    "y_test = y_test-1"
   ]
  },
  {
   "cell_type": "code",
   "execution_count": 11,
   "metadata": {
    "execution": {
     "iopub.execute_input": "2021-11-05T07:41:50.398148Z",
     "iopub.status.busy": "2021-11-05T07:41:50.397090Z",
     "iopub.status.idle": "2021-11-05T07:41:50.430114Z",
     "shell.execute_reply": "2021-11-05T07:41:50.429358Z",
     "shell.execute_reply.started": "2021-11-05T07:41:50.398030Z"
    }
   },
   "outputs": [
    {
     "name": "stdout",
     "output_type": "stream",
     "text": [
      "tensor(15)\n",
      "torch.Size([415])\n"
     ]
    }
   ],
   "source": [
    "print(max(y_train))\n",
    "print(y_test.shape)"
   ]
  },
  {
   "cell_type": "code",
   "execution_count": 12,
   "metadata": {
    "execution": {
     "iopub.execute_input": "2021-11-05T07:41:50.432050Z",
     "iopub.status.busy": "2021-11-05T07:41:50.431593Z",
     "iopub.status.idle": "2021-11-05T07:41:50.464961Z",
     "shell.execute_reply": "2021-11-05T07:41:50.463974Z",
     "shell.execute_reply.started": "2021-11-05T07:41:50.432012Z"
    }
   },
   "outputs": [
    {
     "name": "stdout",
     "output_type": "stream",
     "text": [
      "tensor(-43.0157)\n"
     ]
    }
   ],
   "source": [
    "mean= X_train.mean()\n",
    "\n",
    "print(mean)"
   ]
  },
  {
   "cell_type": "code",
   "execution_count": 13,
   "metadata": {
    "execution": {
     "iopub.execute_input": "2021-11-05T07:41:50.467554Z",
     "iopub.status.busy": "2021-11-05T07:41:50.467020Z",
     "iopub.status.idle": "2021-11-05T07:41:50.611575Z",
     "shell.execute_reply": "2021-11-05T07:41:50.610619Z",
     "shell.execute_reply.started": "2021-11-05T07:41:50.467482Z"
    }
   },
   "outputs": [
    {
     "name": "stdout",
     "output_type": "stream",
     "text": [
      "tensor(20.0894)\n"
     ]
    }
   ],
   "source": [
    "std= X_train.std()\n",
    "\n",
    "print(std)"
   ]
  },
  {
   "cell_type": "code",
   "execution_count": null,
   "metadata": {
    "execution": {
     "iopub.execute_input": "2021-11-05T08:19:47.355528Z",
     "iopub.status.busy": "2021-11-05T08:19:47.355076Z",
     "iopub.status.idle": "2021-11-05T08:19:47.978755Z",
     "shell.execute_reply": "2021-11-05T08:19:47.978026Z",
     "shell.execute_reply.started": "2021-11-05T08:19:47.355484Z"
    }
   },
   "outputs": [],
   "source": [
    "net = nn.Sequential(\n",
    "        nn.Conv2d(1,   50,  kernel_size=3,  padding=1 ),\n",
    "        nn.BatchNorm2d(50),\n",
    "        nn.ReLU(inplace = True),\n",
    "        nn.MaxPool2d(2,2),\n",
    "       \n",
    "        nn.Conv2d(50,  100,  kernel_size=3,  padding=1 ),\n",
    "        nn.Dropout(0.5),\n",
    "        nn.ReLU(inplace = True),\n",
    "        nn.MaxPool2d(2,2),\n",
    "        nn.Flatten(start_dim=1),\n",
    "        nn.Linear(204800, 100),\n",
    "        nn.ReLU(inplace=True),\n",
    "        nn.Linear(100,16),\n",
    ")\n",
    "# net=emotion_classifier()\n",
    "print(net)\n",
    "net = net.to(device)\n",
    "\n",
    "mean=mean.to(device)\n",
    "\n",
    "std=std.to(device)\n",
    "criterion = nn.CrossEntropyLoss()\n",
    "\n",
    "my_lr=0.001\n",
    "\n",
    "bs= 10"
   ]
  },
  {
   "cell_type": "code",
   "execution_count": 15,
   "metadata": {
    "execution": {
     "iopub.execute_input": "2021-11-05T07:41:50.958880Z",
     "iopub.status.busy": "2021-11-05T07:41:50.958596Z",
     "iopub.status.idle": "2021-11-05T07:41:50.964897Z",
     "shell.execute_reply": "2021-11-05T07:41:50.963998Z",
     "shell.execute_reply.started": "2021-11-05T07:41:50.958840Z"
    }
   },
   "outputs": [],
   "source": [
    "def get_error( scores , labels ):\n",
    "\n",
    "    bs=scores.size(0)\n",
    "    predicted_labels = scores.argmax(dim=1)\n",
    "    indicator = (predicted_labels == labels)\n",
    "    num_matches=indicator.sum()\n",
    "    \n",
    "    return 1-num_matches.float()/bs "
   ]
  },
  {
   "cell_type": "code",
   "execution_count": 16,
   "metadata": {
    "execution": {
     "iopub.execute_input": "2021-11-05T07:41:50.968745Z",
     "iopub.status.busy": "2021-11-05T07:41:50.967833Z",
     "iopub.status.idle": "2021-11-05T07:41:50.977957Z",
     "shell.execute_reply": "2021-11-05T07:41:50.976943Z",
     "shell.execute_reply.started": "2021-11-05T07:41:50.968705Z"
    }
   },
   "outputs": [],
   "source": [
    "def eval_on_test_set():\n",
    "\n",
    "    running_error=0\n",
    "    num_batches=0\n",
    "\n",
    "    for i in range(0,415,bs):\n",
    "\n",
    "        minibatch_data =  X_test[i:i+bs].unsqueeze(dim=1)\n",
    "        minibatch_label= y_test[i:i+bs]\n",
    "\n",
    "        minibatch_data=minibatch_data.to(device)\n",
    "        minibatch_label=minibatch_label.to(device)\n",
    "        \n",
    "        inputs = (minibatch_data - mean)/std   \n",
    "\n",
    "        scores=net( inputs ) \n",
    "\n",
    "        error = get_error( scores , minibatch_label)\n",
    "\n",
    "        running_error += error.item()\n",
    "\n",
    "        num_batches+=1\n",
    "\n",
    "\n",
    "    total_error = running_error/num_batches\n",
    "    print( 'error rate on test set =', total_error*100 ,'percent')"
   ]
  },
  {
   "cell_type": "code",
   "execution_count": 37,
   "metadata": {},
   "outputs": [
    {
     "name": "stdout",
     "output_type": "stream",
     "text": [
      "torch.Size([2075, 128, 259])\n"
     ]
    }
   ],
   "source": [
    "X_g =[]\n",
    "Y_ac_g = []\n",
    "y_pre_g = []\n",
    "tmp_X_g = df2.iloc[:,5]\n",
    "tmp_y_g = df2.iloc[:,0]%2 * 8 + df2.iloc[:,1]\n",
    "#(train.iloc[:,0]%2 * 8 ) + train.iloc[:,1]\n",
    "target_names=[\"neutral\", \"calm\", \"happy\", \"sad\", \"angry\", \"fear\", \"disgust\", \"surprise\"]\n",
    "\n",
    "Y_ac_g = df2.iloc[:,0]%2 * 8 + df2.iloc[:,1]\n",
    "\n",
    "for i in range(tmp_X_g.shape[0]):\n",
    "    X_g.append(tmp_X_g.iloc[i])\n",
    "\n",
    "X_g = np.array(X_g)\n",
    "\n",
    "X_g = torch.from_numpy(X_g) \n",
    "Y_ac_g = torch.from_numpy(np.asarray(Y_ac_g))\n",
    "\n",
    "Y_ac_g = Y_ac_g-1\n",
    "print(X_g.shape)"
   ]
  },
  {
   "cell_type": "code",
   "execution_count": 38,
   "metadata": {},
   "outputs": [],
   "source": [
    "def get_error_eval( scores ,gender, labels ):\n",
    "\n",
    "    bs=scores.size(0)\n",
    "    predicted_labels = scores.argmax(dim=1)\n",
    "    #predicted_labels = predicted_labels -8\n",
    "    indicator = (predicted_labels == labels)\n",
    "    num_matches=indicator.sum()\n",
    "    \n",
    "    return 1-num_matches/bs "
   ]
  },
  {
   "cell_type": "code",
   "execution_count": 39,
   "metadata": {},
   "outputs": [
    {
     "name": "stdout",
     "output_type": "stream",
     "text": [
      "torch.Size([2075, 128, 259])\n"
     ]
    }
   ],
   "source": [
    "print(X_g.shape)"
   ]
  },
  {
   "cell_type": "code",
   "execution_count": 40,
   "metadata": {},
   "outputs": [
    {
     "name": "stdout",
     "output_type": "stream",
     "text": [
      "error rate on test set = 4.855769987289722 percent\n",
      "[tensor(5), tensor(4), tensor(2), tensor(7), tensor(2), tensor(5), tensor(4), tensor(1), tensor(3), tensor(3), tensor(0), tensor(1), tensor(1), tensor(3), tensor(3), tensor(1), tensor(5), tensor(4), tensor(7), tensor(2), tensor(1), tensor(5), tensor(4), tensor(6), tensor(2), tensor(5), tensor(7), tensor(7), tensor(5), tensor(7), tensor(2), tensor(4), tensor(2), tensor(4), tensor(5), tensor(4), tensor(5), tensor(2), tensor(3), tensor(6), tensor(1), tensor(1), tensor(3), tensor(6), tensor(3), tensor(6), tensor(1), tensor(0), tensor(1), tensor(0), tensor(3), tensor(6), tensor(5), tensor(4), tensor(5), tensor(4), tensor(2), tensor(2), tensor(6), tensor(1), tensor(3), tensor(3), tensor(1), tensor(0), tensor(6), tensor(8), tensor(14), tensor(11), tensor(9), tensor(9), tensor(11), tensor(13), tensor(12), tensor(10), tensor(13), tensor(12), tensor(8), tensor(9), tensor(14), tensor(11), tensor(14), tensor(11), tensor(8), tensor(9), tensor(9), tensor(14), tensor(11), tensor(14), tensor(11), tensor(9), tensor(13), tensor(12), tensor(13), tensor(12), tensor(10), tensor(13), tensor(15), tensor(10), tensor(10), tensor(15), tensor(12), tensor(10), tensor(12), tensor(13), tensor(10), tensor(11), tensor(9), tensor(11), tensor(11), tensor(9), tensor(8), tensor(11), tensor(15), tensor(10), tensor(12), tensor(13), tensor(12), tensor(10), tensor(12), tensor(10), tensor(10), tensor(13), tensor(12), tensor(9), tensor(11), tensor(11), tensor(8), tensor(9), tensor(11), tensor(11), tensor(9), tensor(13), tensor(12), tensor(15), tensor(10), tensor(10), tensor(12), tensor(13), tensor(10), tensor(11), tensor(12), tensor(9), tensor(14), tensor(10), tensor(10), tensor(12), tensor(9), tensor(12), tensor(11), tensor(10), tensor(15), tensor(13), tensor(12), tensor(13), tensor(12), tensor(13), tensor(14), tensor(9), tensor(9), tensor(11), tensor(14), tensor(11), tensor(9), tensor(8), tensor(9), tensor(8), tensor(14), tensor(12), tensor(13), tensor(12), tensor(13), tensor(10), tensor(9), tensor(11), tensor(9), tensor(12), tensor(13), tensor(14), tensor(14), tensor(8), tensor(13), tensor(12), tensor(9), tensor(3), tensor(11), tensor(11), tensor(9), tensor(8), tensor(14), tensor(4), tensor(0), tensor(2), tensor(6), tensor(3), tensor(1), tensor(5), tensor(1), tensor(3), tensor(2), tensor(6), tensor(0), tensor(6), tensor(2), tensor(1), tensor(5), tensor(1), tensor(11), tensor(6), tensor(2), tensor(4), tensor(5), tensor(4), tensor(2), tensor(2), tensor(3), tensor(4), tensor(1), tensor(5), tensor(6), tensor(0), tensor(6), tensor(3), tensor(1), tensor(5), tensor(4), tensor(2), tensor(5), tensor(4), tensor(7), tensor(5), tensor(4), tensor(1), tensor(2), tensor(2), tensor(4), tensor(1), tensor(5), tensor(3), tensor(3), tensor(5), tensor(1), tensor(0), tensor(2), tensor(2), tensor(2), tensor(5), tensor(0), tensor(7), tensor(4), tensor(7), tensor(2), tensor(3), tensor(1), tensor(1), tensor(3), tensor(5), tensor(1), tensor(1), tensor(0), tensor(3), tensor(7), tensor(2), tensor(4), tensor(7), tensor(0), tensor(3), tensor(7), tensor(2), tensor(4), tensor(1), tensor(2), tensor(4), tensor(4), tensor(5), tensor(7), tensor(2), tensor(5), tensor(1), tensor(0), tensor(1), tensor(4), tensor(3), tensor(3), tensor(1), tensor(5), tensor(4), tensor(0), tensor(2), tensor(1), tensor(4), tensor(5), tensor(1), tensor(3), tensor(3), tensor(4), tensor(1), tensor(5), tensor(1), tensor(6), tensor(6), tensor(1), tensor(4), tensor(7), tensor(5), tensor(5), tensor(2), tensor(4), tensor(0), tensor(1), tensor(6), tensor(3), tensor(6), tensor(3), tensor(0), tensor(1), tensor(1), tensor(5), tensor(3), tensor(6), tensor(4), tensor(4), tensor(3), tensor(6), tensor(5), tensor(3), tensor(6), tensor(3), tensor(2), tensor(4), tensor(0), tensor(4), tensor(6), tensor(2), tensor(3), tensor(5), tensor(1), tensor(13), tensor(12), tensor(11), tensor(10), tensor(14), tensor(12), tensor(9), tensor(8), tensor(13), tensor(14), tensor(14), tensor(13), tensor(9), tensor(12), tensor(11), tensor(10), tensor(12), tensor(13), tensor(14), tensor(9), tensor(8), tensor(9), tensor(8), tensor(14), tensor(12), tensor(13), tensor(12), tensor(13), tensor(10), tensor(12), tensor(13), tensor(12), tensor(13), tensor(11), tensor(14), tensor(9), tensor(9), tensor(14), tensor(14), tensor(13), tensor(11), tensor(10), tensor(9), tensor(12), tensor(9), tensor(11), tensor(11), tensor(12), tensor(9), tensor(10), tensor(11), tensor(8), tensor(13), tensor(9), tensor(11), tensor(11), tensor(9), tensor(10), tensor(10), tensor(13), tensor(12), tensor(10), tensor(10), tensor(12), tensor(9), tensor(11), tensor(11), tensor(9), tensor(11), tensor(9), tensor(9), tensor(11), tensor(15), tensor(10), tensor(12), tensor(12), tensor(10), tensor(9), tensor(12), tensor(12), tensor(15), tensor(10), tensor(11), tensor(9), tensor(9), tensor(11), tensor(11), tensor(9), tensor(8), tensor(15), tensor(15), tensor(9), tensor(11), tensor(9), tensor(11), tensor(14), tensor(9), tensor(9), tensor(13), tensor(12), tensor(10), tensor(11), tensor(13), tensor(12), tensor(13), tensor(12), tensor(12), tensor(10), tensor(13), tensor(12), tensor(8), tensor(9), tensor(14), tensor(11), tensor(8), tensor(9), tensor(13), tensor(12), tensor(12), tensor(13), tensor(5), tensor(3), tensor(2), tensor(2), tensor(4), tensor(5), tensor(3), tensor(6), tensor(1), tensor(0), tensor(1), tensor(0), tensor(3), tensor(6), tensor(2), tensor(4), tensor(5), tensor(4), tensor(5), tensor(2), tensor(2), tensor(4), tensor(5), tensor(4), tensor(5), tensor(2), tensor(3), tensor(6), tensor(1), tensor(1), tensor(3), tensor(6), tensor(1), tensor(3), tensor(7), tensor(7), tensor(7), tensor(3), tensor(1), tensor(1), tensor(3), tensor(3), tensor(1), tensor(5), tensor(4), tensor(2), tensor(2), tensor(7), tensor(5), tensor(4), tensor(4), tensor(2), tensor(2), tensor(5), tensor(4), tensor(0), tensor(1), tensor(3), tensor(3), tensor(0), tensor(1), tensor(3), tensor(1), tensor(2), tensor(4), tensor(4), tensor(7), tensor(2), tensor(7), tensor(2), tensor(5), tensor(4), tensor(5), tensor(4), tensor(1), tensor(1), tensor(3), tensor(3), tensor(4), tensor(1), tensor(2), tensor(0), tensor(4), tensor(5), tensor(3), tensor(3), tensor(1), tensor(5), tensor(4), tensor(2), tensor(5), tensor(1), tensor(4), tensor(3), tensor(1), tensor(6), tensor(3), tensor(5), tensor(1), tensor(5), tensor(4), tensor(4), tensor(2), tensor(5), tensor(1), tensor(0), tensor(2), tensor(6), tensor(3), tensor(6), tensor(1), tensor(0), tensor(4), tensor(6), tensor(2), tensor(3), tensor(5), tensor(1), tensor(5), tensor(4), tensor(3), tensor(2), tensor(4), tensor(4), tensor(2), tensor(3), tensor(6), tensor(5), tensor(1), tensor(5), tensor(3), tensor(2), tensor(6), tensor(4), tensor(0), tensor(10), tensor(12), tensor(13), tensor(14), tensor(13), tensor(8), tensor(9), tensor(12), tensor(10), tensor(10), tensor(12), tensor(9), tensor(13), tensor(14), tensor(13), tensor(12), tensor(14), tensor(11), tensor(8), tensor(9), tensor(8), tensor(9), tensor(14), tensor(10), tensor(13), tensor(12), tensor(13), tensor(12), tensor(12), tensor(13), tensor(12), tensor(13), tensor(12), tensor(10), tensor(14), tensor(11), tensor(9), tensor(9), tensor(14), tensor(12), tensor(9), tensor(10), tensor(11), tensor(13), tensor(11), tensor(9), tensor(11), tensor(13), tensor(14), tensor(11), tensor(10), tensor(9), tensor(12), tensor(9), tensor(11), tensor(11), tensor(9), tensor(12), tensor(10), tensor(15), tensor(10), tensor(12), tensor(12), tensor(10), tensor(10), tensor(9), tensor(11), tensor(11), tensor(9), tensor(11), tensor(8), tensor(9), tensor(9), tensor(12), tensor(10), tensor(12), tensor(12), tensor(15), tensor(10), tensor(15), tensor(10), tensor(4), tensor(13), tensor(12), tensor(10), tensor(11), tensor(9), tensor(9), tensor(11), tensor(15), tensor(8), tensor(9), tensor(11), tensor(11), tensor(9), tensor(9), tensor(14), tensor(9), tensor(9), tensor(12), tensor(13), tensor(10), tensor(12), tensor(13), tensor(12), tensor(13), tensor(10), tensor(10), tensor(12), tensor(13), tensor(9), tensor(8), tensor(11), tensor(14), tensor(14), tensor(9), tensor(8), tensor(12), tensor(13), tensor(13), tensor(12), tensor(2), tensor(4), tensor(5), tensor(5), tensor(4), tensor(2), tensor(3), tensor(3), tensor(0), tensor(1), tensor(0), tensor(1), tensor(6), tensor(3), tensor(4), tensor(5), tensor(4), tensor(5), tensor(4), tensor(2), tensor(2), tensor(5), tensor(4), tensor(5), tensor(4), tensor(2), tensor(6), tensor(1), tensor(2), tensor(6), tensor(3), tensor(7), tensor(3), tensor(1), tensor(7), tensor(1), tensor(3), tensor(7), tensor(0), tensor(1), tensor(3), tensor(3), tensor(1), tensor(4), tensor(2), tensor(7), tensor(2), tensor(4), tensor(5), tensor(4), tensor(5), tensor(2), tensor(2), tensor(2), tensor(1), tensor(0), tensor(3), tensor(3), tensor(1), tensor(0), tensor(4), tensor(5), tensor(2), tensor(2), tensor(4), tensor(5), tensor(1), tensor(0), tensor(4), tensor(3), tensor(1), tensor(1), tensor(3), tensor(3), tensor(1), tensor(4), tensor(5), tensor(2), tensor(7), tensor(2), tensor(4), tensor(5), tensor(5), tensor(7), tensor(2), tensor(6), tensor(7), tensor(7), tensor(4), tensor(2), tensor(5), tensor(3), tensor(5), tensor(4), tensor(5), tensor(4), tensor(6), tensor(1), tensor(1), tensor(6), tensor(3), tensor(6), tensor(3), tensor(0), tensor(1), tensor(0), tensor(1), tensor(6), tensor(3), tensor(5), tensor(5), tensor(4), tensor(5), tensor(4), tensor(2), tensor(3), tensor(1), tensor(6), tensor(6), tensor(0), tensor(1), tensor(3), tensor(9), tensor(11), tensor(14), tensor(8), tensor(14), tensor(11), tensor(9), tensor(12), tensor(13), tensor(10), tensor(12), tensor(11), tensor(9), tensor(8), tensor(11), tensor(14), tensor(11), tensor(14), tensor(9), tensor(8), tensor(9), tensor(11), tensor(14), tensor(11), tensor(14), tensor(9), tensor(12), tensor(13), tensor(13), tensor(13), tensor(15), tensor(13), tensor(10), tensor(10), tensor(10), tensor(13), tensor(12), tensor(12), tensor(10), tensor(15), tensor(11), tensor(9), tensor(11), tensor(11), tensor(8), tensor(9), tensor(11), tensor(10), tensor(13), tensor(12), tensor(12), tensor(10), tensor(12), tensor(13), tensor(15), tensor(10), tensor(10), tensor(12), tensor(8), tensor(11), tensor(11), tensor(9), tensor(9), tensor(11), tensor(11), tensor(9), tensor(12), tensor(10), tensor(15), tensor(15), tensor(10), tensor(12), tensor(13), tensor(12), tensor(11), tensor(10), tensor(13), tensor(10), tensor(12), tensor(12), tensor(10), tensor(13), tensor(10), tensor(11), tensor(12), tensor(9), tensor(13), tensor(12), tensor(13), tensor(12), tensor(14), tensor(11), tensor(9), tensor(9), tensor(14), tensor(14), tensor(8), tensor(9), tensor(8), tensor(9), tensor(11), tensor(10), tensor(13), tensor(12), tensor(13), tensor(12), tensor(10), tensor(9), tensor(14), tensor(14), tensor(13), tensor(12), tensor(9), tensor(10), tensor(11), tensor(11), tensor(14), tensor(9), tensor(12), tensor(11), tensor(8), tensor(14), tensor(14), tensor(8), tensor(9), tensor(11), tensor(5), tensor(1), tensor(3), tensor(6), tensor(2), tensor(0), tensor(4), tensor(0), tensor(6), tensor(2), tensor(3), tensor(1), tensor(1), tensor(3), tensor(6), tensor(4), tensor(2), tensor(6), tensor(1), tensor(1), tensor(5), tensor(4), tensor(5), tensor(2), tensor(2), tensor(4), tensor(5), tensor(0), tensor(6), tensor(3), tensor(1), tensor(1), tensor(3), tensor(6), tensor(4), tensor(5), tensor(2), tensor(4), tensor(5), tensor(2), tensor(1), tensor(4), tensor(5), tensor(7), tensor(3), tensor(5), tensor(1), tensor(4), tensor(1), tensor(2), tensor(4), tensor(0), tensor(1), tensor(5), tensor(3), tensor(7), tensor(5), tensor(4), tensor(1), tensor(2), tensor(7), tensor(2), tensor(4), tensor(5), tensor(7), tensor(3), tensor(1), tensor(1), tensor(3), tensor(3), tensor(0), tensor(1), tensor(1), tensor(3), tensor(4), tensor(7), tensor(2), tensor(10), tensor(13), tensor(12), tensor(9), tensor(10), tensor(11), tensor(11), tensor(9), tensor(11), tensor(11), tensor(10), tensor(9), tensor(12), tensor(13), tensor(11), tensor(9), tensor(11), tensor(10), tensor(12), tensor(12), tensor(15), tensor(10), tensor(10), tensor(12), tensor(12), tensor(10), tensor(11), tensor(9), tensor(9), tensor(11), tensor(13), tensor(12), tensor(9), tensor(12), tensor(10), tensor(14), tensor(13), tensor(8), tensor(13), tensor(14), tensor(10), tensor(11), tensor(12), tensor(9), tensor(12), tensor(10), tensor(13), tensor(9), tensor(14), tensor(14), tensor(9), tensor(13), tensor(12), tensor(13), tensor(12), tensor(13), tensor(12), tensor(10), tensor(10), tensor(13), tensor(12), tensor(8), tensor(9), tensor(14), tensor(14), tensor(8), tensor(9), tensor(3), tensor(6), tensor(1), tensor(0), tensor(1), tensor(0), tensor(3), tensor(6), tensor(2), tensor(4), tensor(5), tensor(5), tensor(4), tensor(2), tensor(6), tensor(1), tensor(1), tensor(6), tensor(3), tensor(5), tensor(1), tensor(0), tensor(4), tensor(6), tensor(2), tensor(3), tensor(2), tensor(4), tensor(5), tensor(6), tensor(6), tensor(5), tensor(4), tensor(3), tensor(6), tensor(4), tensor(1), tensor(5), tensor(3), tensor(3), tensor(1), tensor(5), tensor(4), tensor(2), tensor(7), tensor(2), tensor(5), tensor(4), tensor(4), tensor(1), tensor(2), tensor(7), tensor(5), tensor(7), tensor(1), tensor(5), tensor(5), tensor(3), tensor(4), tensor(1), tensor(5), tensor(1), tensor(3), tensor(2), tensor(4), tensor(4), tensor(0), tensor(2), tensor(3), tensor(5), tensor(1), tensor(4), tensor(3), tensor(3), tensor(2), tensor(0), tensor(7), tensor(7), tensor(7), tensor(1), tensor(3), tensor(3), tensor(1), tensor(2), tensor(1), tensor(0), tensor(3), tensor(2), tensor(4), tensor(5), tensor(4), tensor(2), tensor(7), tensor(2), tensor(12), tensor(5), tensor(4), tensor(5), tensor(2), tensor(7), tensor(3), tensor(1), tensor(1), tensor(3), tensor(5), tensor(3), tensor(4), tensor(4), tensor(2), tensor(5), tensor(1), tensor(6), tensor(3), tensor(6), tensor(3), tensor(1), tensor(5), tensor(4), tensor(2), tensor(2), tensor(5), tensor(4), tensor(5), tensor(4), tensor(2), tensor(2), tensor(5), tensor(4), tensor(0), tensor(1), tensor(6), tensor(3), tensor(6), tensor(3), tensor(0), tensor(1), tensor(11), tensor(9), tensor(8), tensor(9), tensor(8), tensor(14), tensor(14), tensor(12), tensor(11), tensor(12), tensor(13), tensor(10), tensor(12), tensor(13), tensor(12), tensor(13), tensor(10), tensor(11), tensor(14), tensor(9), tensor(9), tensor(11), tensor(13), tensor(12), tensor(12), tensor(13), tensor(9), tensor(11), tensor(11), tensor(9), tensor(13), tensor(12), tensor(10), tensor(15), tensor(10), tensor(12), tensor(12), tensor(10), tensor(10), tensor(15), tensor(8), tensor(9), tensor(11), tensor(11), tensor(11), tensor(9), tensor(9), tensor(11), tensor(15), tensor(8), tensor(11), tensor(9), tensor(10), tensor(15), tensor(13), tensor(15), tensor(10), tensor(13), tensor(12), tensor(10), tensor(10), tensor(13), tensor(12), tensor(8), tensor(11), tensor(11), tensor(9), tensor(9), tensor(11), tensor(11), tensor(13), tensor(12), tensor(10), tensor(10), tensor(12), tensor(9), tensor(11), tensor(11), tensor(9), tensor(8), tensor(14), tensor(9), tensor(12), tensor(13), tensor(12), tensor(13), tensor(11), tensor(14), tensor(9), tensor(9), tensor(11), tensor(14), tensor(11), tensor(14), tensor(9), tensor(8), tensor(9), tensor(8), tensor(14), tensor(13), tensor(13), tensor(12), tensor(13), tensor(10), tensor(5), tensor(4), tensor(2), tensor(2), tensor(5), tensor(4), tensor(0), tensor(1), tensor(6), tensor(3), tensor(6), tensor(6), tensor(0), tensor(1), tensor(1), tensor(6), tensor(3), tensor(6), tensor(1), tensor(1), tensor(5), tensor(4), tensor(2), tensor(2), tensor(5), tensor(4), tensor(0), tensor(6), tensor(3), tensor(1), tensor(1), tensor(3), tensor(6), tensor(2), tensor(4), tensor(5), tensor(4), tensor(5), tensor(2), tensor(7), tensor(3), tensor(1), tensor(1), tensor(3), tensor(3), tensor(1), tensor(0), tensor(1), tensor(3), tensor(2), tensor(7), tensor(4), tensor(5), tensor(4), tensor(5), tensor(2), tensor(2), tensor(4), tensor(5), tensor(7), tensor(7), tensor(5), tensor(4), tensor(2), tensor(5), tensor(7), tensor(2), tensor(4), tensor(0), tensor(4), tensor(2), tensor(3), tensor(5), tensor(1), tensor(1), tensor(5), tensor(3), tensor(2), tensor(4), tensor(4), tensor(1), tensor(2), tensor(7), tensor(5), tensor(2), tensor(7), tensor(4), tensor(0), tensor(1), tensor(3), tensor(3), tensor(1), tensor(1), tensor(3), tensor(3), tensor(1), tensor(4), tensor(2), tensor(7), tensor(7), tensor(6), tensor(2), tensor(4), tensor(5), tensor(1), tensor(3), tensor(1), tensor(6), tensor(6), tensor(0), tensor(1), tensor(3), tensor(2), tensor(3), tensor(1), tensor(5), tensor(4), tensor(0), tensor(2), tensor(6), tensor(2), tensor(4), tensor(5), tensor(4), tensor(5), tensor(2), tensor(3), tensor(1), tensor(6), tensor(6), tensor(0), tensor(1), tensor(5), tensor(2), tensor(4), tensor(5), tensor(4), tensor(5), tensor(2), tensor(13), tensor(12), tensor(10), tensor(10), tensor(13), tensor(12), tensor(8), tensor(9), tensor(14), tensor(10), tensor(11), tensor(8), tensor(9), tensor(9), tensor(14), tensor(8), tensor(14), tensor(11), tensor(9), tensor(13), tensor(12), tensor(10), tensor(13), tensor(12), tensor(8), tensor(14), tensor(11), tensor(9), tensor(12), tensor(9), tensor(10), tensor(11), tensor(14), tensor(8), tensor(13), tensor(13), tensor(14), tensor(11), tensor(9), tensor(12), tensor(9), tensor(15), tensor(10), tensor(12), tensor(10), tensor(13), tensor(10), tensor(11), tensor(9), tensor(9), tensor(11), tensor(11), tensor(9), tensor(9), tensor(11), tensor(10), tensor(12), tensor(12), tensor(15), tensor(10), tensor(13), tensor(9), tensor(12), tensor(11), tensor(10), tensor(10), tensor(12), tensor(12), tensor(10), tensor(10), tensor(11), tensor(12), tensor(11), tensor(13), tensor(15), tensor(10), tensor(10), tensor(12), tensor(13), tensor(10), tensor(15), tensor(15), tensor(10), tensor(13), tensor(11), tensor(11), tensor(8), tensor(11), tensor(11), tensor(9), tensor(12), tensor(10), tensor(10), tensor(12), tensor(13), tensor(11), tensor(9), tensor(14), tensor(14), tensor(8), tensor(9), tensor(11), tensor(13), tensor(12), tensor(13), tensor(12), tensor(14), tensor(11), tensor(9), tensor(9), tensor(14), tensor(11), tensor(14), tensor(11), tensor(8), tensor(9), tensor(8), tensor(9), tensor(14), tensor(11), tensor(10), tensor(13), tensor(12), tensor(13), tensor(12), tensor(15), tensor(4), tensor(5), tensor(2), tensor(4), tensor(5), tensor(1), tensor(0), tensor(3), tensor(6), tensor(6), tensor(6), tensor(1), tensor(0), tensor(1), tensor(3), tensor(3), tensor(6), tensor(1), tensor(4), tensor(5), tensor(2), tensor(4), tensor(5), tensor(1), tensor(3), tensor(6), tensor(0), tensor(6), tensor(6), tensor(1), tensor(2), tensor(7), tensor(5), tensor(4), tensor(5), tensor(4), tensor(2), tensor(3), tensor(1), tensor(1), tensor(3), tensor(3), tensor(0), tensor(1), tensor(0), tensor(1), tensor(3), tensor(2), tensor(5), tensor(4), tensor(5), tensor(4), tensor(2), tensor(5), tensor(5), tensor(4), tensor(2), tensor(7), tensor(7), tensor(1), tensor(4), tensor(5), tensor(4), tensor(1), tensor(2), tensor(7), tensor(1), tensor(5), tensor(3), tensor(2), tensor(4), tensor(0), tensor(4), tensor(2), tensor(3), tensor(5), tensor(1), tensor(5), tensor(7), tensor(2), tensor(1), tensor(4), tensor(4), tensor(2), tensor(7), tensor(7), tensor(5), tensor(1), tensor(3), tensor(3), tensor(1), tensor(0), tensor(1), tensor(3), tensor(3), tensor(1), tensor(7), tensor(2), tensor(7), tensor(4), tensor(3), tensor(1), tensor(5), tensor(4), tensor(2), tensor(6), tensor(6), tensor(1), tensor(3), tensor(2), tensor(3), tensor(1), tensor(0), tensor(6), tensor(6), tensor(5), tensor(0), tensor(4), tensor(5), tensor(1), tensor(3), tensor(5), tensor(4), tensor(5), tensor(4), tensor(6), tensor(1), tensor(3), tensor(7), tensor(1), tensor(0), tensor(4), tensor(5), tensor(5), tensor(4), tensor(5), tensor(4), tensor(2), tensor(12), tensor(13), tensor(10), tensor(10), tensor(12), tensor(13), tensor(9), tensor(8), tensor(11), tensor(14), tensor(14), tensor(9), tensor(8), tensor(9), tensor(14), tensor(11), tensor(9), tensor(12), tensor(13), tensor(10), tensor(12), tensor(13), tensor(9), tensor(11), tensor(14), tensor(8), tensor(13), tensor(8), tensor(14), tensor(11), tensor(14), tensor(9), tensor(12), tensor(12), tensor(9), tensor(9), tensor(11), tensor(14), tensor(13), tensor(9), tensor(10), tensor(13), tensor(13), tensor(12), tensor(15), tensor(10), tensor(11), tensor(9), tensor(9), tensor(11), tensor(11), tensor(9), tensor(8), tensor(11), tensor(10), tensor(12), tensor(13), tensor(12), tensor(10), tensor(10), tensor(11), tensor(12), tensor(9), tensor(13), tensor(12), tensor(10), tensor(10), tensor(11), tensor(13), tensor(12), tensor(11), tensor(10), tensor(11), tensor(10), tensor(9), tensor(13), tensor(8), tensor(11), tensor(11), tensor(12), tensor(12), tensor(9), tensor(10), tensor(11), tensor(11), tensor(9), tensor(9), tensor(11), tensor(10), tensor(12), tensor(13), tensor(12), tensor(10), tensor(13), tensor(12), tensor(12), tensor(15), tensor(10), tensor(11), tensor(9), tensor(9), tensor(11), tensor(12), tensor(10), tensor(13), tensor(13), tensor(14), tensor(10), tensor(11), tensor(12), tensor(9), tensor(9), tensor(12), tensor(11), tensor(10), tensor(14), tensor(13), tensor(8), tensor(13), tensor(10), tensor(12), tensor(9), tensor(11), tensor(14), tensor(9), tensor(12), tensor(13), tensor(10), tensor(12), tensor(13), tensor(13), tensor(13), tensor(10), tensor(12), tensor(13), tensor(9), tensor(8), tensor(11), tensor(14), tensor(14), tensor(9), tensor(8), tensor(6), tensor(3), tensor(0), tensor(1), tensor(0), tensor(1), tensor(6), tensor(3), tensor(5), tensor(4), tensor(2), tensor(4), tensor(5), tensor(6), tensor(3), tensor(1), tensor(1), tensor(6), tensor(2), tensor(6), tensor(4), tensor(0), tensor(1), tensor(5), tensor(6), tensor(6), tensor(3), tensor(4), tensor(2), tensor(3), tensor(3), tensor(2), tensor(4), tensor(5), tensor(6), tensor(3), tensor(5), tensor(1), tensor(4), tensor(6), tensor(1), tensor(3), tensor(4), tensor(5), tensor(2), tensor(2), tensor(7), tensor(4), tensor(5), tensor(4), tensor(2), tensor(2), tensor(2), tensor(4), tensor(3), tensor(1), tensor(1), tensor(2), tensor(3), tensor(4), tensor(4), tensor(2), tensor(3), tensor(1), tensor(5), tensor(5), tensor(3), tensor(2), tensor(0), tensor(4), tensor(0), tensor(3), tensor(4), tensor(0), tensor(1), tensor(3), tensor(7), tensor(3), tensor(1), tensor(6), tensor(3), tensor(0), tensor(1), tensor(0), tensor(6), tensor(3), tensor(7), tensor(2), tensor(5), tensor(4), tensor(4), tensor(2), tensor(7), tensor(2), tensor(7), tensor(5), tensor(4), tensor(5), tensor(4), tensor(7), tensor(2), tensor(3), tensor(1), tensor(1), tensor(3), tensor(4), tensor(5), tensor(5), tensor(6), tensor(4), tensor(1), tensor(3), tensor(6), tensor(6), tensor(1), tensor(4), tensor(5), tensor(2), tensor(2), tensor(4), tensor(5), tensor(4), tensor(5), tensor(2), tensor(7), tensor(4), tensor(5), tensor(1), tensor(0), tensor(3), tensor(6), tensor(3), tensor(6), tensor(1), tensor(0), tensor(12), tensor(8), tensor(9), tensor(8), tensor(9), tensor(11), tensor(10), tensor(13), tensor(12), tensor(11), tensor(12), tensor(10), tensor(10), tensor(13), tensor(12), tensor(13), tensor(12), tensor(11), tensor(11), tensor(9), tensor(9), tensor(12), tensor(13), tensor(13), tensor(12), tensor(9), tensor(11), tensor(11), tensor(9), tensor(12), tensor(10), tensor(10), tensor(15), tensor(12), tensor(13), tensor(1), tensor(10), tensor(10), tensor(12), tensor(11), tensor(8), tensor(11), tensor(11), tensor(9), tensor(11), tensor(11), tensor(9), tensor(9), tensor(11), tensor(15), tensor(10)]\n"
     ]
    }
   ],
   "source": [
    "#net = net.to(device)\n",
    "net.load_state_dict(torch.load(\".../gender100.pth\"))\n",
    "shuffled_indices=torch.randperm(X.shape[0])\n",
    " \n",
    "#eval()\n",
    "\n",
    "running_error=0\n",
    "num_batches=0\n",
    "y_pre_g = []\n",
    "\n",
    "for i in range(0,X_g.shape[0],bs):\n",
    "\n",
    "        minibatch_data =  X_g[i:i+bs].unsqueeze(dim=1)\n",
    "        minibatch_label= Y_ac_g[i:i+bs]\n",
    "        minibatch_gender=gender_para[i:i+bs]\n",
    "\n",
    "        minibatch_data=minibatch_data.to(device)\n",
    "        minibatch_label=minibatch_label.to(device)\n",
    "        \n",
    "        inputs = (minibatch_data - mean)/std   \n",
    "\n",
    "        scores=net( inputs ) \n",
    "        \n",
    "        ##(train.iloc[:,0]%2 * 8 ) + train.iloc[:,1]\n",
    "        predicted_labels = scores.argmax(dim=1)\n",
    "        y_pre_g.extend(predicted_labels)\n",
    "        \n",
    "        error = get_error_eval( scores, minibatch_gender, minibatch_label)\n",
    "\n",
    "        running_error += error.item()\n",
    "\n",
    "        num_batches+=1\n",
    "\n",
    "total_error = running_error/num_batches\n",
    "print( 'error rate on test set =', total_error*100 ,'percent')\n",
    "print(y_pre_g)"
   ]
  },
  {
   "cell_type": "code",
   "execution_count": 44,
   "metadata": {},
   "outputs": [
    {
     "data": {
      "image/png": "[encoded data removed]",
      "text/plain": [
       "<Figure size 1440x1440 with 2 Axes>"
      ]
     },
     "metadata": {
      "needs_background": "light"
     },
     "output_type": "display_data"
    }
   ],
   "source": [
    "for i in range(0,Y_ac_g.shape[0]):\n",
    "    if Y_ac_g[i] >= 8:\n",
    "        Y_ac_g[i] = Y_ac_g[i] -8\n",
    "    if y_pre_g[i] >= 8:\n",
    "        y_pre_g[i] = y_pre_g[i] -8\n",
    "Y_ac1_g = pd.DataFrame(Y_ac_g)\n",
    "y_pre1_g = pd.DataFrame(y_pre_g)\n",
    "Y_ac1_g = Y_ac1_g.replace({0:\"neutral\", 1:\"calm\", 2:\"happy\", 3:\"sad\", 4:\"angry\", 5:\"fear\", 6:\"disgust\", 7:\"surprise\"})\n",
    "y_pre1_g = y_pre1_g.replace({0:\"neutral\", 1:\"calm\", 2:\"happy\", 3:\"sad\", 4:\"angry\", 5:\"fear\", 6:\"disgust\", 7:\"surprise\"})\n",
    "cm = confusion_matrix(Y_ac1_g, y_pre1_g)\n",
    "plt.figure(figsize = (20, 20))\n",
    "conf_matrix= pd.DataFrame(cm,index=target_names, columns=target_names)\n",
    "ax = sns.heatmap(conf_matrix, linecolor='white', cmap='Wistia', linewidth=1, annot=True, fmt='')\n",
    "bottom, top = ax.get_ylim()\n",
    "ax.set_ylim(bottom + 0.5, top - 0.5)\n",
    "plt.title('Confusion Matrix', size=20)\n",
    "plt.xlabel('Predicted Labels', size=14)\n",
    "plt.ylabel('Actual Labels', size=14)\n",
    "plt.savefig('Initial_Model_Confusion_Matrix.png')\n",
    "plt.show()"
   ]
  },
  {
   "cell_type": "code",
   "execution_count": 45,
   "metadata": {},
   "outputs": [
    {
     "name": "stdout",
     "output_type": "stream",
     "text": [
      "              precision    recall  f1-score   support\n",
      "\n",
      "     neutral     0.9928    0.9583    0.9753       144\n",
      "        calm     0.9582    0.9857    0.9718       349\n",
      "       happy     0.9535    0.9025    0.9273       318\n",
      "         sad     0.9371    0.9371    0.9371       334\n",
      "       angry     0.9718    0.9637    0.9677       358\n",
      "        fear     0.9505    0.9600    0.9552       300\n",
      "     disgust     0.9130    0.9655    0.9385       174\n",
      "    surprise     0.9500    0.9694    0.9596        98\n",
      "\n",
      "    accuracy                         0.9533      2075\n",
      "   macro avg     0.9534    0.9553    0.9541      2075\n",
      "weighted avg     0.9536    0.9533    0.9532      2075\n",
      "\n"
     ]
    }
   ],
   "source": [
    "cr=classification_report(Y_ac_g, y_pre_g)\n",
    "print(classification_report(Y_ac_g, y_pre_g,digits=4, target_names=target_names))\n",
    "report = classification_report(Y_ac_g, y_pre_g, digits=4, target_names=target_names, output_dict=True)\n",
    "cr = pd.DataFrame(report).transpose()\n",
    "cr.to_csv(\"result_gender.csv\", index= True)"
   ]
  },
  {
   "cell_type": "code",
   "execution_count": 47,
   "metadata": {},
   "outputs": [
    {
     "name": "stdout",
     "output_type": "stream",
     "text": [
      "[ 72 173 162 165 175 148  85  42]\n",
      "[ 72 176 156 169 183 152  89  56]\n",
      "[ 69 176 156 173 172 147  87  42]\n",
      "[ 70 183 145 161 183 156  97  58]\n"
     ]
    }
   ],
   "source": [
    "male_emo=np.zeros(8,int)\n",
    "female_emo=np.zeros(8,int)\n",
    "male_emo_pred=np.zeros(8,int)\n",
    "female_emo_pred=np.zeros(8,int)\n",
    "for i in range(0,Y_ac_g.shape[0]):\n",
    "    if (gender[i]%2)==0:\n",
    "        flag1 = y_pre_g[i]\n",
    "        female_emo_pred[flag1] = female_emo_pred[flag1] + 1\n",
    "        flag2 = Y_ac_g[i]\n",
    "        female_emo[flag2] = female_emo[flag2] + 1\n",
    "    if (gender[i]%2)==1:\n",
    "        flag1 = y_pre_g[i]\n",
    "        male_emo_pred[flag1] = male_emo_pred[flag1] + 1\n",
    "        flag2 = Y_ac_g[i]\n",
    "        male_emo[flag2] = male_emo[flag2] + 1\n",
    "print(male_emo)\n",
    "print(female_emo)\n",
    "print(male_emo_pred)\n",
    "print(female_emo_pred)"
   ]
  },
  {
   "cell_type": "code",
   "execution_count": 48,
   "metadata": {},
   "outputs": [
    {
     "data": {
      "text/plain": [
       "<matplotlib.legend.Legend at 0x7ff7e0e13580>"
      ]
     },
     "execution_count": 48,
     "metadata": {},
     "output_type": "execute_result"
    },
    {
     "data": {
      "image/png": "[encoded data removed]",
      "text/plain": [
       "<Figure size 432x288 with 1 Axes>"
      ]
     },
     "metadata": {
      "needs_background": "light"
     },
     "output_type": "display_data"
    }
   ],
   "source": [
    "name_list = ['neutral', 'calm', 'happy', 'sad', 'angry', 'fear', 'disgust', 'surprise']\n",
    "x =list(range(len(male_emo)))\n",
    "total_width, n = 0.8, 2\n",
    "width = total_width / n\n",
    " \n",
    "plt.bar(x, male_emo, width=width, label='label',fc = 'b')\n",
    "for i in range(len(x)):\n",
    "    x[i] = x[i] + width\n",
    "plt.bar(x, male_emo_pred, width=width, label='predict',tick_label = name_list,fc = 'r')\n",
    "plt.legend()"
   ]
  },
  {
   "cell_type": "code",
   "execution_count": 50,
   "metadata": {},
   "outputs": [
    {
     "data": {
      "text/plain": [
       "<matplotlib.legend.Legend at 0x7ff7a325a880>"
      ]
     },
     "execution_count": 50,
     "metadata": {},
     "output_type": "execute_result"
    },
    {
     "data": {
      "image/png": "[encoded data removed]",
      "text/plain": [
       "<Figure size 432x288 with 1 Axes>"
      ]
     },
     "metadata": {
      "needs_background": "light"
     },
     "output_type": "display_data"
    }
   ],
   "source": [
    "name_list = ['neutral', 'calm', 'happy', 'sad', 'angry', 'fear', 'disgust', 'surprise']\n",
    "x =list(range(len(female_emo)))\n",
    "total_width, n = 0.8, 2\n",
    "width = total_width / n\n",
    " \n",
    "plt.bar(x, female_emo, width=width, label='label',fc = 'b')\n",
    "for i in range(len(x)):\n",
    "    x[i] = x[i] + width\n",
    "plt.bar(x, female_emo_pred, width=width, label='predict',tick_label = name_list,fc = 'r')\n",
    "plt.legend()"
   ]
  },
  {
   "cell_type": "code",
   "execution_count": 49,
   "metadata": {
    "execution": {
     "iopub.execute_input": "2021-11-05T07:55:43.385155Z",
     "iopub.status.busy": "2021-11-05T07:55:43.384890Z",
     "iopub.status.idle": "2021-11-05T07:55:43.487823Z",
     "shell.execute_reply": "2021-11-05T07:55:43.487007Z",
     "shell.execute_reply.started": "2021-11-05T07:55:43.385117Z"
    }
   },
   "outputs": [
    {
     "name": "stdout",
     "output_type": "stream",
     "text": [
      "gender                                                            22\n",
      "emotion_code                                                       4\n",
      "emotion                                                          sad\n",
      "actor                                                             22\n",
      "path               /Users/xx/Desktop/5452 pro/RAVDESS/03-02-04-01...\n",
      "mel_spectrogram    [[-59.187237, -61.427635, -63.136707, -59.4075...\n",
      "Name: 2326, dtype: object\n",
      "tensor([[  8.9628,   6.4718,   8.4127,  14.4924,   8.7511,  12.1140,  -1.3066,\n",
      "          -0.4594,  -5.0336, -10.7512,  -8.1836,  -3.1760,  -3.6538,  -3.0057,\n",
      "          -4.8916,  -4.8913]], grad_fn=<AddmmBackward0>)\n"
     ]
    }
   ],
   "source": [
    "from random import randint\n",
    "idx=randint(0, 415-1)\n",
    "print(test.iloc[idx])\n",
    "im=X_test[idx]\n",
    "im = im.to(device)\n",
    "im= (im-mean) / std\n",
    "im=im.view(1,128,259).unsqueeze(dim=1)\n",
    "\n",
    "scores =  net(im) \n",
    "print(scores)"
   ]
  },
  {
   "cell_type": "code",
   "execution_count": null,
   "metadata": {},
   "outputs": [],
   "source": []
  }
 ],
 "metadata": {
  "kernelspec": {
   "display_name": "Python 3",
   "language": "python",
   "name": "python3"
  },
  "language_info": {
   "codemirror_mode": {
    "name": "ipython",
    "version": 3
   },
   "file_extension": ".py",
   "mimetype": "text/x-python",
   "name": "python",
   "nbconvert_exporter": "python",
   "pygments_lexer": "ipython3",
   "version": "3.8.8"
  }
 },
 "nbformat": 4,
 "nbformat_minor": 4
}
