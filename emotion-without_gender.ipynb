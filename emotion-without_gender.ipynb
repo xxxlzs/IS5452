{
 "cells": [
  {
   "cell_type": "code",
   "execution_count": 58,
   "metadata": {
    "execution": {
     "iopub.execute_input": "2021-11-05T07:38:35.432125Z",
     "iopub.status.busy": "2021-11-05T07:38:35.431480Z",
     "iopub.status.idle": "2021-11-05T07:38:35.438636Z",
     "shell.execute_reply": "2021-11-05T07:38:35.437626Z",
     "shell.execute_reply.started": "2021-11-05T07:38:35.432088Z"
    }
   },
   "outputs": [],
   "source": [
    "import librosa \n",
    "from librosa import display\n",
    "import pylab as plt\n",
    "import os\n",
    "import pandas as pd\n",
    "import glob\n",
    "import numpy as np\n",
    "from numpy import savetxt\n",
    "from numpy import asarray\n",
    "import torch\n",
    "import torch.nn as nn\n",
    "import torch.nn.functional as F\n",
    "import seaborn as sns\n",
    "import matplotlib.pyplot as plt\n",
    "from sklearn.metrics import confusion_matrix\n",
    "from sklearn.dummy import DummyClassifier\n",
    "from sklearn.tree import DecisionTreeClassifier\n",
    "from sklearn.model_selection import GridSearchCV\n",
    "from sklearn.metrics import classification_report\n",
    "from sklearn.model_selection import train_test_split"
   ]
  },
  {
   "cell_type": "code",
   "execution_count": 59,
   "metadata": {
    "execution": {
     "iopub.execute_input": "2021-11-05T07:38:35.441128Z",
     "iopub.status.busy": "2021-11-05T07:38:35.440798Z",
     "iopub.status.idle": "2021-11-05T07:38:35.750003Z",
     "shell.execute_reply": "2021-11-05T07:38:35.749308Z",
     "shell.execute_reply.started": "2021-11-05T07:38:35.441090Z"
    }
   },
   "outputs": [],
   "source": [
    "path ='/Users/xx/Desktop/5452 pro/RAVDESS'\n",
    "emotion = []\n",
    "emotion_code =[]\n",
    "gender = []\n",
    "actor = []\n",
    "file_path = []\n",
    "for subdir,dirs,files in os.walk(path):\n",
    "    for file in files:\n",
    "        part = file.split('.')[0].split('-')\n",
    "        emotion.append(int(part[2]))\n",
    "        emotion_code.append(int(part[2]))\n",
    "        actor.append(int(part[6]))\n",
    "        bg = int(part[6])\n",
    "        # if bg%2 == 0:\n",
    "        #    bg = \"female\"\n",
    "        #else:\n",
    "        #    bg = \"male\"\n",
    "        gender.append(bg)\n",
    "        file_path.append('/Users/xx/Desktop/5452 pro/RAVDESS/' + file)\n",
    "audio_df = pd.DataFrame(emotion)\n",
    "audio_df = audio_df.replace({1:'neutral', 2:'calm', 3:'happy', 4:'sad', 5:'angry', 6:'fear', 7:'disgust', 8:'surprise'})\n",
    "audio_df = pd.concat([pd.DataFrame(gender),pd.DataFrame(emotion_code),audio_df,pd.DataFrame(actor)],axis=1)\n",
    "audio_df.columns = ['gender','emotion_code','emotion','actor']\n",
    "audio_df = pd.concat([audio_df,pd.DataFrame(file_path, columns = ['path'])],axis=1)"
   ]
  },
  {
   "cell_type": "code",
   "execution_count": 60,
   "metadata": {
    "execution": {
     "iopub.execute_input": "2021-11-05T07:38:35.751621Z",
     "iopub.status.busy": "2021-11-05T07:38:35.751381Z",
     "iopub.status.idle": "2021-11-05T07:41:50.160903Z",
     "shell.execute_reply": "2021-11-05T07:41:50.160129Z",
     "shell.execute_reply.started": "2021-11-05T07:38:35.751587Z"
    }
   },
   "outputs": [
    {
     "name": "stdout",
     "output_type": "stream",
     "text": [
      "   gender  emotion_code   emotion  actor  \\\n",
      "0       2             6      fear      2   \n",
      "1      16             5     angry     16   \n",
      "2      16             3     happy     16   \n",
      "3      14             8  surprise     14   \n",
      "4       2             3     happy      2   \n",
      "\n",
      "                                                path  \\\n",
      "0  /Users/xx/Desktop/5452 pro/RAVDESS/03-01-06-01...   \n",
      "1  /Users/xx/Desktop/5452 pro/RAVDESS/03-01-05-01...   \n",
      "2  /Users/xx/Desktop/5452 pro/RAVDESS/03-02-03-02...   \n",
      "3  /Users/xx/Desktop/5452 pro/RAVDESS/03-01-08-01...   \n",
      "4  /Users/xx/Desktop/5452 pro/RAVDESS/03-02-03-02...   \n",
      "\n",
      "                                     mel_spectrogram  \n",
      "0  [[-66.32325, -66.32325, -66.32325, -66.32325, ...  \n",
      "1  [[-62.853226, -62.853226, -62.853226, -62.8532...  \n",
      "2  [[-63.636585, -63.636585, -63.636585, -63.6365...  \n",
      "3  [[-74.1957, -74.1957, -74.1957, -74.1957, -74....  \n",
      "4  [[-60.580383, -60.461906, -58.998493, -54.4517...  \n",
      "(2452, 6)\n"
     ]
    }
   ],
   "source": [
    "df = pd.DataFrame(columns=['mel_spectrogram'])\n",
    "counter=0\n",
    "for index,path in enumerate(audio_df.path):\n",
    "    X, sample_rate = librosa.load(path, res_type='kaiser_fast',duration=3,sr=44100,offset=0.5)\n",
    "    \n",
    "    #get the mel-scaled spectrogram (ransform both the y-axis (frequency) to log scale, and the “color” axis (amplitude) to Decibels, which is kinda the log scale of amplitudes.)\n",
    "    spectrogram = librosa.feature.melspectrogram(y=X, sr=sample_rate, n_mels=128,fmax=8000) \n",
    "    db_spec = librosa.power_to_db(spectrogram)\n",
    "    df.loc[counter] = [db_spec]\n",
    "    counter=counter+1\n",
    "    \n",
    "audio_df['mel_spectrogram']= df['mel_spectrogram']\n",
    "print(audio_df.head())\n",
    "print(audio_df.shape)"
   ]
  },
  {
   "cell_type": "code",
   "execution_count": 61,
   "metadata": {
    "execution": {
     "iopub.execute_input": "2021-11-05T07:41:50.162688Z",
     "iopub.status.busy": "2021-11-05T07:41:50.162255Z",
     "iopub.status.idle": "2021-11-05T07:41:50.166730Z",
     "shell.execute_reply": "2021-11-05T07:41:50.166041Z",
     "shell.execute_reply.started": "2021-11-05T07:41:50.162649Z"
    }
   },
   "outputs": [],
   "source": [
    "df2 = audio_df"
   ]
  },
  {
   "cell_type": "code",
   "execution_count": 62,
   "metadata": {},
   "outputs": [
    {
     "name": "stdout",
     "output_type": "stream",
     "text": [
      "      gender  emotion_code   emotion  actor  \\\n",
      "0          2             6      fear      2   \n",
      "1         16             5     angry     16   \n",
      "2         16             3     happy     16   \n",
      "3         14             8  surprise     14   \n",
      "4          2             3     happy      2   \n",
      "...      ...           ...       ...    ...   \n",
      "2447      23             2      calm     23   \n",
      "2448      23             2      calm     23   \n",
      "2449      23             4       sad     23   \n",
      "2450      19             8  surprise     19   \n",
      "2451      23             1   neutral     23   \n",
      "\n",
      "                                                   path  \\\n",
      "0     /Users/xx/Desktop/5452 pro/RAVDESS/03-01-06-01...   \n",
      "1     /Users/xx/Desktop/5452 pro/RAVDESS/03-01-05-01...   \n",
      "2     /Users/xx/Desktop/5452 pro/RAVDESS/03-02-03-02...   \n",
      "3     /Users/xx/Desktop/5452 pro/RAVDESS/03-01-08-01...   \n",
      "4     /Users/xx/Desktop/5452 pro/RAVDESS/03-02-03-02...   \n",
      "...                                                 ...   \n",
      "2447  /Users/xx/Desktop/5452 pro/RAVDESS/03-01-02-02...   \n",
      "2448  /Users/xx/Desktop/5452 pro/RAVDESS/03-01-02-01...   \n",
      "2449  /Users/xx/Desktop/5452 pro/RAVDESS/03-02-04-02...   \n",
      "2450  /Users/xx/Desktop/5452 pro/RAVDESS/03-01-08-01...   \n",
      "2451  /Users/xx/Desktop/5452 pro/RAVDESS/03-01-01-01...   \n",
      "\n",
      "                                        mel_spectrogram  \n",
      "0     [[-66.32325, -66.32325, -66.32325, -66.32325, ...  \n",
      "1     [[-62.853226, -62.853226, -62.853226, -62.8532...  \n",
      "2     [[-63.636585, -63.636585, -63.636585, -63.6365...  \n",
      "3     [[-74.1957, -74.1957, -74.1957, -74.1957, -74....  \n",
      "4     [[-60.580383, -60.461906, -58.998493, -54.4517...  \n",
      "...                                                 ...  \n",
      "2447  [[-58.510376, -58.479202, -59.617058, -61.4987...  \n",
      "2448  [[-72.77344, -72.77344, -72.77344, -72.77344, ...  \n",
      "2449  [[-65.411354, -59.184185, -55.027443, -55.0617...  \n",
      "2450  [[-62.761112, -56.410294, -49.26596, -45.82409...  \n",
      "2451  [[-70.171974, -70.171974, -70.171974, -70.1719...  \n",
      "\n",
      "[2452 rows x 6 columns]\n"
     ]
    }
   ],
   "source": [
    "print(df2)"
   ]
  },
  {
   "cell_type": "code",
   "execution_count": 6,
   "metadata": {
    "execution": {
     "iopub.execute_input": "2021-11-05T07:41:50.169767Z",
     "iopub.status.busy": "2021-11-05T07:41:50.169359Z",
     "iopub.status.idle": "2021-11-05T07:41:50.209574Z",
     "shell.execute_reply": "2021-11-05T07:41:50.208936Z",
     "shell.execute_reply.started": "2021-11-05T07:41:50.169708Z"
    }
   },
   "outputs": [
    {
     "name": "stdout",
     "output_type": "stream",
     "text": [
      "(2075, 6)\n"
     ]
    }
   ],
   "source": [
    "to_drop = []\n",
    "for i in range(2452):\n",
    "    if df2['mel_spectrogram'].iloc[i].shape[1]!=259:\n",
    "        to_drop.append(i)\n",
    "\n",
    "df2 = df2.drop(to_drop)\n",
    "print(df2.shape)"
   ]
  },
  {
   "cell_type": "code",
   "execution_count": 7,
   "metadata": {
    "execution": {
     "iopub.execute_input": "2021-11-05T07:41:50.212564Z",
     "iopub.status.busy": "2021-11-05T07:41:50.212380Z",
     "iopub.status.idle": "2021-11-05T07:41:50.328926Z",
     "shell.execute_reply": "2021-11-05T07:41:50.328158Z",
     "shell.execute_reply.started": "2021-11-05T07:41:50.212541Z"
    }
   },
   "outputs": [
    {
     "name": "stdout",
     "output_type": "stream",
     "text": [
      "(1660, 128, 259)\n",
      "(1660,)\n",
      "(415, 128, 259)\n",
      "(415,)\n"
     ]
    }
   ],
   "source": [
    "train,test = train_test_split(df2,test_size=0.2)\n",
    "temp_X_train = train.iloc[:,5]\n",
    "temp_X_test = test.iloc[:,5]\n",
    "\n",
    "y_train = train.iloc[:,1]\n",
    "y_test = test.iloc[:,1]\n",
    "\n",
    "X_train = []\n",
    "X_test = []\n",
    "\n",
    "for i in range(temp_X_train.shape[0]):\n",
    "    #print(temp_X_train.iloc[i].shape)\n",
    "    X_train.append(temp_X_train.iloc[i])\n",
    "\n",
    "X_train = np.array(X_train)\n",
    "\n",
    "for i in range(temp_X_test.shape[0]):\n",
    "    X_test.append(temp_X_test.iloc[i])\n",
    "\n",
    "X_test = np.array(X_test)\n",
    "\n",
    "\n",
    "print(X_train.shape)\n",
    "print(y_train.shape)\n",
    "print(X_test.shape)\n",
    "print(y_test.shape)"
   ]
  },
  {
   "cell_type": "code",
   "execution_count": 8,
   "metadata": {
    "execution": {
     "iopub.execute_input": "2021-11-05T07:41:50.331888Z",
     "iopub.status.busy": "2021-11-05T07:41:50.331188Z",
     "iopub.status.idle": "2021-11-05T07:41:50.341027Z",
     "shell.execute_reply": "2021-11-05T07:41:50.339840Z",
     "shell.execute_reply.started": "2021-11-05T07:41:50.331845Z"
    }
   },
   "outputs": [
    {
     "name": "stdout",
     "output_type": "stream",
     "text": [
      "0.1710843373493976\n"
     ]
    }
   ],
   "source": [
    "dummy_clf = DummyClassifier()\n",
    "dummy_clf.fit(X_train, y_train)\n",
    "DummyClassifier()\n",
    "dummy_clf.predict(X_test)\n",
    "print(dummy_clf.score(X_test, y_test))"
   ]
  },
  {
   "cell_type": "code",
   "execution_count": 9,
   "metadata": {
    "execution": {
     "iopub.execute_input": "2021-11-05T07:41:50.343238Z",
     "iopub.status.busy": "2021-11-05T07:41:50.342646Z",
     "iopub.status.idle": "2021-11-05T07:41:50.358917Z",
     "shell.execute_reply": "2021-11-05T07:41:50.358030Z",
     "shell.execute_reply.started": "2021-11-05T07:41:50.343196Z"
    }
   },
   "outputs": [
    {
     "name": "stdout",
     "output_type": "stream",
     "text": [
      "cpu\n"
     ]
    }
   ],
   "source": [
    "device = torch.device(\"cuda\" if torch.cuda.is_available() else \"cpu\")\n",
    "print(device)"
   ]
  },
  {
   "cell_type": "code",
   "execution_count": 10,
   "metadata": {
    "execution": {
     "iopub.execute_input": "2021-11-05T07:41:50.368047Z",
     "iopub.status.busy": "2021-11-05T07:41:50.360893Z",
     "iopub.status.idle": "2021-11-05T07:41:50.373141Z",
     "shell.execute_reply": "2021-11-05T07:41:50.372389Z",
     "shell.execute_reply.started": "2021-11-05T07:41:50.368013Z"
    }
   },
   "outputs": [
    {
     "name": "stdout",
     "output_type": "stream",
     "text": [
      "tensor([[[-57.1334, -57.1334, -57.1334,  ..., -57.1334, -57.1334, -57.1334],\n",
      "         [-57.1334, -57.1334, -57.1334,  ..., -57.1334, -57.1334, -57.1334],\n",
      "         [-57.1334, -57.1334, -57.1334,  ..., -57.1334, -57.1334, -57.1334],\n",
      "         ...,\n",
      "         [-57.1334, -57.1334, -57.1334,  ..., -57.1334, -57.1334, -57.1334],\n",
      "         [-57.1334, -57.1334, -57.1334,  ..., -57.1334, -57.1334, -57.1334],\n",
      "         [-57.1334, -57.1334, -57.1334,  ..., -57.1334, -57.1334, -57.1334]],\n",
      "\n",
      "        [[-53.5738, -52.5042, -53.6260,  ..., -64.5269, -64.5269, -64.5269],\n",
      "         [-53.8566, -57.3709, -59.6766,  ..., -64.5269, -64.5269, -63.1819],\n",
      "         [-54.7077, -56.5942, -57.4958,  ..., -64.5269, -64.5269, -64.5269],\n",
      "         ...,\n",
      "         [-64.5269, -64.5269, -64.5269,  ..., -64.5269, -64.5269, -64.5269],\n",
      "         [-64.5269, -64.5269, -64.5269,  ..., -64.5269, -64.5269, -64.5269],\n",
      "         [-63.3680, -64.5129, -64.5269,  ..., -64.5269, -64.5269, -64.5269]],\n",
      "\n",
      "        [[-62.2506, -58.7702, -60.7293,  ..., -57.9653, -53.5759, -61.0136],\n",
      "         [-54.6713, -59.2342, -59.2629,  ..., -58.4429, -55.3434, -63.2242],\n",
      "         [-54.7209, -58.9594, -55.3102,  ..., -56.5026, -56.9669, -68.7416],\n",
      "         ...,\n",
      "         [-72.7180, -72.7180, -72.7180,  ..., -72.7180, -72.7180, -72.7180],\n",
      "         [-72.7180, -72.7180, -72.7180,  ..., -72.7180, -72.7180, -72.7180],\n",
      "         [-72.7180, -72.7180, -72.7180,  ..., -72.7180, -72.7180, -72.7180]],\n",
      "\n",
      "        ...,\n",
      "\n",
      "        [[-79.4910, -79.4910, -79.4910,  ..., -59.3247, -56.5670, -45.6935],\n",
      "         [-79.4910, -79.4910, -79.4910,  ..., -53.2465, -51.2079, -45.0306],\n",
      "         [-79.4910, -79.4910, -79.4910,  ..., -52.5547, -45.2134, -46.5144],\n",
      "         ...,\n",
      "         [-79.4910, -79.4910, -79.4910,  ..., -71.1673, -71.3759, -74.4426],\n",
      "         [-79.4910, -79.4910, -79.4910,  ..., -76.9914, -78.7511, -74.7858],\n",
      "         [-79.4910, -79.4910, -79.4910,  ..., -79.2158, -79.4910, -79.4910]],\n",
      "\n",
      "        [[-51.1093, -51.1093, -51.1093,  ..., -48.0837, -13.5360,  -0.7536],\n",
      "         [-51.1093, -51.1093, -51.1093,  ..., -43.7956, -13.3897,  -0.5572],\n",
      "         [-51.1093, -51.1093, -51.1093,  ..., -44.2517, -13.4404,  -0.2955],\n",
      "         ...,\n",
      "         [-51.1093, -51.1093, -51.1093,  ..., -24.9333, -24.0306, -23.3914],\n",
      "         [-51.1093, -51.1093, -51.1093,  ..., -25.5604, -25.0543, -24.0322],\n",
      "         [-51.1093, -51.1093, -51.1093,  ..., -24.2420, -24.3926, -23.6576]],\n",
      "\n",
      "        [[-63.0264, -51.7024, -46.7149,  ..., -42.2621, -40.6564, -39.2209],\n",
      "         [-61.9272, -55.1289, -53.8251,  ..., -40.8153, -39.6515, -37.9664],\n",
      "         [-58.5828, -62.1903, -67.6942,  ..., -23.1798, -25.0638, -28.4348],\n",
      "         ...,\n",
      "         [-71.7217, -71.7217, -71.7217,  ..., -71.7217, -71.7217, -71.7217],\n",
      "         [-71.7217, -71.7217, -71.7217,  ..., -71.7217, -71.7217, -71.7217],\n",
      "         [-71.7217, -71.7217, -71.7217,  ..., -71.7217, -71.7217, -71.7217]]])\n"
     ]
    }
   ],
   "source": [
    "X_train = torch.from_numpy(X_train) \n",
    "y_train = torch.from_numpy(np.asarray(y_train)) \n",
    "X_test = torch.from_numpy(X_test) \n",
    "y_test = torch.from_numpy(np.asarray(y_test)) \n",
    "print(X_train)"
   ]
  },
  {
   "cell_type": "code",
   "execution_count": 11,
   "metadata": {
    "execution": {
     "iopub.execute_input": "2021-11-05T07:41:50.374637Z",
     "iopub.status.busy": "2021-11-05T07:41:50.374218Z",
     "iopub.status.idle": "2021-11-05T07:41:50.392555Z",
     "shell.execute_reply": "2021-11-05T07:41:50.391353Z",
     "shell.execute_reply.started": "2021-11-05T07:41:50.374599Z"
    }
   },
   "outputs": [
    {
     "name": "stdout",
     "output_type": "stream",
     "text": [
      "torch.Size([1660, 128, 259])\n",
      "torch.Size([1660])\n"
     ]
    }
   ],
   "source": [
    "print(X_train.size())\n",
    "print(y_train.size())\n",
    "\n",
    "y_train = y_train-1\n",
    "y_test = y_test-1"
   ]
  },
  {
   "cell_type": "code",
   "execution_count": 12,
   "metadata": {
    "execution": {
     "iopub.execute_input": "2021-11-05T07:41:50.398148Z",
     "iopub.status.busy": "2021-11-05T07:41:50.397090Z",
     "iopub.status.idle": "2021-11-05T07:41:50.430114Z",
     "shell.execute_reply": "2021-11-05T07:41:50.429358Z",
     "shell.execute_reply.started": "2021-11-05T07:41:50.398030Z"
    }
   },
   "outputs": [
    {
     "name": "stdout",
     "output_type": "stream",
     "text": [
      "tensor(7)\n",
      "torch.Size([415])\n"
     ]
    }
   ],
   "source": [
    "print(max(y_train))\n",
    "print(y_test.shape)"
   ]
  },
  {
   "cell_type": "code",
   "execution_count": 13,
   "metadata": {
    "execution": {
     "iopub.execute_input": "2021-11-05T07:41:50.432050Z",
     "iopub.status.busy": "2021-11-05T07:41:50.431593Z",
     "iopub.status.idle": "2021-11-05T07:41:50.464961Z",
     "shell.execute_reply": "2021-11-05T07:41:50.463974Z",
     "shell.execute_reply.started": "2021-11-05T07:41:50.432012Z"
    }
   },
   "outputs": [
    {
     "name": "stdout",
     "output_type": "stream",
     "text": [
      "tensor(-43.0330)\n"
     ]
    }
   ],
   "source": [
    "mean= X_train.mean()\n",
    "\n",
    "print(mean)"
   ]
  },
  {
   "cell_type": "code",
   "execution_count": 14,
   "metadata": {
    "execution": {
     "iopub.execute_input": "2021-11-05T07:41:50.467554Z",
     "iopub.status.busy": "2021-11-05T07:41:50.467020Z",
     "iopub.status.idle": "2021-11-05T07:41:50.611575Z",
     "shell.execute_reply": "2021-11-05T07:41:50.610619Z",
     "shell.execute_reply.started": "2021-11-05T07:41:50.467482Z"
    }
   },
   "outputs": [
    {
     "name": "stdout",
     "output_type": "stream",
     "text": [
      "tensor(20.1462)\n"
     ]
    }
   ],
   "source": [
    "std= X_train.std()\n",
    "\n",
    "print(std)"
   ]
  },
  {
   "cell_type": "code",
   "execution_count": 15,
   "metadata": {},
   "outputs": [
    {
     "name": "stdout",
     "output_type": "stream",
     "text": [
      "torch.Size([1660, 128, 259])\n"
     ]
    }
   ],
   "source": [
    "print(X_train.shape)"
   ]
  },
  {
   "cell_type": "code",
   "execution_count": 16,
   "metadata": {
    "execution": {
     "iopub.execute_input": "2021-11-05T08:19:47.355528Z",
     "iopub.status.busy": "2021-11-05T08:19:47.355076Z",
     "iopub.status.idle": "2021-11-05T08:19:47.978755Z",
     "shell.execute_reply": "2021-11-05T08:19:47.978026Z",
     "shell.execute_reply.started": "2021-11-05T08:19:47.355484Z"
    }
   },
   "outputs": [
    {
     "name": "stdout",
     "output_type": "stream",
     "text": [
      "Sequential(\n",
      "  (0): Conv2d(1, 50, kernel_size=(3, 3), stride=(1, 1), padding=(1, 1))\n",
      "  (1): BatchNorm2d(50, eps=1e-05, momentum=0.1, affine=True, track_running_stats=True)\n",
      "  (2): ReLU(inplace=True)\n",
      "  (3): MaxPool2d(kernel_size=2, stride=2, padding=0, dilation=1, ceil_mode=False)\n",
      "  (4): Conv2d(50, 100, kernel_size=(3, 3), stride=(1, 1), padding=(1, 1))\n",
      "  (5): ReLU(inplace=True)\n",
      "  (6): MaxPool2d(kernel_size=2, stride=2, padding=0, dilation=1, ceil_mode=False)\n",
      "  (7): Flatten(start_dim=1, end_dim=-1)\n",
      "  (8): Linear(in_features=204800, out_features=100, bias=True)\n",
      "  (9): ReLU(inplace=True)\n",
      "  (10): Linear(in_features=100, out_features=8, bias=True)\n",
      ")\n"
     ]
    }
   ],
   "source": [
    "net = nn.Sequential(\n",
    "        nn.Conv2d(1,   50,  kernel_size=3,  padding=1 ),\n",
    "        nn.BatchNorm2d(50),\n",
    "        nn.ReLU(inplace = True),\n",
    "        nn.MaxPool2d(2,2),\n",
    "       \n",
    "        nn.Conv2d(50,  100,  kernel_size=3,  padding=1 ),\n",
    "        nn.Dropout(0.5),\n",
    "        nn.ReLU(inplace = True),\n",
    "        nn.MaxPool2d(2,2),\n",
    "        nn.Flatten(start_dim=1),\n",
    "        nn.Linear(204800, 100),\n",
    "        nn.ReLU(inplace=True),\n",
    "        nn.Linear(100,8),\n",
    ")\n",
    "# net=emotion_classifier()\n",
    "print(net)\n",
    "net = net.to(device)\n",
    "\n",
    "mean=mean.to(device)\n",
    "\n",
    "std=std.to(device)\n",
    "criterion = nn.CrossEntropyLoss()\n",
    "\n",
    "my_lr=0.001\n",
    "\n",
    "bs= 10"
   ]
  },
  {
   "cell_type": "code",
   "execution_count": 17,
   "metadata": {
    "execution": {
     "iopub.execute_input": "2021-11-05T07:41:50.958880Z",
     "iopub.status.busy": "2021-11-05T07:41:50.958596Z",
     "iopub.status.idle": "2021-11-05T07:41:50.964897Z",
     "shell.execute_reply": "2021-11-05T07:41:50.963998Z",
     "shell.execute_reply.started": "2021-11-05T07:41:50.958840Z"
    }
   },
   "outputs": [],
   "source": [
    "def get_error( scores , labels ):\n",
    "\n",
    "    bs=scores.size(0)\n",
    "    predicted_labels = scores.argmax(dim=1)\n",
    "    print(predicted_labels,labels)\n",
    "    indicator = (predicted_labels == labels)\n",
    "    num_matches=indicator.sum()\n",
    "    \n",
    "    return 1-num_matches.float()/bs "
   ]
  },
  {
   "cell_type": "code",
   "execution_count": 18,
   "metadata": {
    "execution": {
     "iopub.execute_input": "2021-11-05T07:41:50.968745Z",
     "iopub.status.busy": "2021-11-05T07:41:50.967833Z",
     "iopub.status.idle": "2021-11-05T07:41:50.977957Z",
     "shell.execute_reply": "2021-11-05T07:41:50.976943Z",
     "shell.execute_reply.started": "2021-11-05T07:41:50.968705Z"
    }
   },
   "outputs": [],
   "source": [
    "def eval_on_test_set():\n",
    "\n",
    "    running_error=0\n",
    "    num_batches=0\n",
    "\n",
    "    for i in range(0,415,bs):\n",
    "\n",
    "        minibatch_data =  X_test[i:i+bs].unsqueeze(dim=1)\n",
    "        minibatch_label= y_test[i:i+bs]\n",
    "\n",
    "        minibatch_data=minibatch_data.to(device)\n",
    "        minibatch_label=minibatch_label.to(device)\n",
    "        \n",
    "        inputs = (minibatch_data - mean)/std   \n",
    "\n",
    "        scores=net( inputs ) \n",
    "\n",
    "        error = get_error( scores , minibatch_label)\n",
    "\n",
    "        running_error += error.item()\n",
    "\n",
    "        num_batches+=1\n",
    "\n",
    "\n",
    "    total_error = running_error/num_batches\n",
    "    print( 'error rate on test set =', total_error*100 ,'percent')"
   ]
  },
  {
   "cell_type": "code",
   "execution_count": 19,
   "metadata": {
    "execution": {
     "iopub.execute_input": "2021-11-05T08:19:51.186150Z",
     "iopub.status.busy": "2021-11-05T08:19:51.185223Z",
     "iopub.status.idle": "2021-11-05T08:25:20.173148Z",
     "shell.execute_reply": "2021-11-05T08:25:20.172016Z",
     "shell.execute_reply.started": "2021-11-05T08:19:51.186094Z"
    }
   },
   "outputs": [
    {
     "name": "stdout",
     "output_type": "stream",
     "text": [
      "epoch= 1 \t lr= 0.001 \t loss= 1.7785008743584874 \t error= 70.12048198516109 percent\n",
      "error rate on test set = 68.57142874172756 percent\n",
      " \n",
      "epoch= 2 \t lr= 0.001 \t loss= 1.5790942864245678 \t error= 62.771084581513 percent\n",
      "error rate on test set = 58.333333333333336 percent\n",
      " \n",
      "epoch= 3 \t lr= 0.001 \t loss= 1.4270544353737888 \t error= 54.63855435331184 percent\n",
      "error rate on test set = 55.7142857994352 percent\n",
      " \n",
      "epoch= 4 \t lr= 0.001 \t loss= 1.3038786843598607 \t error= 48.91566264342113 percent\n",
      "error rate on test set = 47.1428571712403 percent\n",
      " \n",
      "epoch= 5 \t lr= 0.0006666666666666666 \t loss= 1.1279934231775353 \t error= 39.39759034708322 percent\n",
      "error rate on test set = 47.61904776096344 percent\n",
      " \n",
      "epoch= 6 \t lr= 0.0006666666666666666 \t loss= 1.0236285055976315 \t error= 34.09638537699918 percent\n",
      "error rate on test set = 39.52381000632331 percent\n",
      " \n",
      "epoch= 7 \t lr= 0.0006666666666666666 \t loss= 0.9399639551179955 \t error= 31.566264866346337 percent\n",
      "error rate on test set = 38.33333339009966 percent\n",
      " \n",
      "epoch= 8 \t lr= 0.0006666666666666666 \t loss= 0.8408546919923231 \t error= 28.373493918453352 percent\n",
      "error rate on test set = 30.714285941351026 percent\n",
      " \n",
      "epoch= 9 \t lr= 0.0006666666666666666 \t loss= 0.7640514845948622 \t error= 24.638554238411317 percent\n",
      "error rate on test set = 36.66666675181616 percent\n",
      " \n",
      "epoch= 10 \t lr= 0.0004444444444444444 \t loss= 0.6579379931271795 \t error= 20.843373687870532 percent\n",
      "error rate on test set = 39.04761913276854 percent\n",
      " \n",
      "epoch= 11 \t lr= 0.0004444444444444444 \t loss= 0.6431097745536322 \t error= 20.361446257097178 percent\n",
      "error rate on test set = 33.09523818038759 percent\n",
      " \n",
      "epoch= 12 \t lr= 0.0004444444444444444 \t loss= 0.5903023896088083 \t error= 16.987952374550233 percent\n",
      "error rate on test set = 33.09523789655594 percent\n",
      " \n",
      "epoch= 13 \t lr= 0.0004444444444444444 \t loss= 0.5382219033248453 \t error= 15.903615125690598 percent\n",
      "error rate on test set = 31.904761847995577 percent\n",
      " \n",
      "epoch= 14 \t lr= 0.0004444444444444444 \t loss= 0.5031778684940683 \t error= 14.096386138215122 percent\n",
      "error rate on test set = 32.61904801641192 percent\n",
      " \n",
      "epoch= 15 \t lr= 0.0002962962962962963 \t loss= 0.4453962363572006 \t error= 12.771085084202777 percent\n",
      "error rate on test set = 27.85714254492805 percent\n",
      " \n",
      "epoch= 16 \t lr= 0.0002962962962962963 \t loss= 0.421128740870809 \t error= 11.265061095536472 percent\n",
      "error rate on test set = 28.571428855260212 percent\n",
      " \n",
      "epoch= 17 \t lr= 0.0002962962962962963 \t loss= 0.3926996980984527 \t error= 10.66265124154378 percent\n",
      "error rate on test set = 28.333333134651184 percent\n",
      " \n",
      "epoch= 18 \t lr= 0.0002962962962962963 \t loss= 0.3745517653514104 \t error= 9.759036783712457 percent\n",
      "error rate on test set = 27.38095223903656 percent\n",
      " \n",
      "epoch= 19 \t lr= 0.0002962962962962963 \t loss= 0.35179728812661515 \t error= 9.457832036248174 percent\n",
      "error rate on test set = 28.333333276567007 percent\n",
      " \n",
      "epoch= 20 \t lr= 0.00019753086419753085 \t loss= 0.31820350108915063 \t error= 8.072290004017841 percent\n",
      "error rate on test set = 26.904761791229248 percent\n",
      " \n",
      "epoch= 21 \t lr= 0.00019753086419753085 \t loss= 0.30638825345829307 \t error= 6.927711705127394 percent\n",
      "error rate on test set = 25.000000425747466 percent\n",
      " \n",
      "epoch= 22 \t lr= 0.00019753086419753085 \t loss= 0.3030500004673938 \t error= 7.650603120585522 percent\n",
      "error rate on test set = 26.428571343421936 percent\n",
      " \n",
      "epoch= 23 \t lr= 0.00019753086419753085 \t loss= 0.2807977622801281 \t error= 5.843374240829284 percent\n",
      "error rate on test set = 25.476190589723135 percent\n",
      " \n",
      "epoch= 24 \t lr= 0.00019753086419753085 \t loss= 0.2711163387151368 \t error= 4.698795870126012 percent\n",
      "error rate on test set = 26.428571911085218 percent\n",
      " \n",
      "epoch= 25 \t lr= 0.0001316872427983539 \t loss= 0.2599896272442427 \t error= 4.638554891908026 percent\n",
      "error rate on test set = 24.523809694108508 percent\n",
      " \n",
      "epoch= 26 \t lr= 0.0001316872427983539 \t loss= 0.24485053056963238 \t error= 4.337349964911679 percent\n",
      "error rate on test set = 25.238095152945743 percent\n",
      " \n",
      "epoch= 27 \t lr= 0.0001316872427983539 \t loss= 0.24506756797971496 \t error= 4.759036848343999 percent\n",
      "error rate on test set = 25.476190447807312 percent\n",
      " \n",
      "epoch= 28 \t lr= 0.0001316872427983539 \t loss= 0.23662195967353253 \t error= 3.975904203322997 percent\n",
      "error rate on test set = 25.714285884584697 percent\n",
      " \n",
      "epoch= 29 \t lr= 0.0001316872427983539 \t loss= 0.2251043831817357 \t error= 3.7349403263574623 percent\n",
      "error rate on test set = 25.71428602650052 percent\n",
      " \n",
      "epoch= 30 \t lr= 8.77914951989026e-05 \t loss= 0.21648659970027856 \t error= 3.373494528862367 percent\n",
      "error rate on test set = 25.23809529486157 percent\n",
      " \n",
      "epoch= 31 \t lr= 8.77914951989026e-05 \t loss= 0.21889931284429798 \t error= 3.1927716660212324 percent\n",
      "error rate on test set = 26.190476190476193 percent\n",
      " \n",
      "epoch= 32 \t lr= 8.77914951989026e-05 \t loss= 0.20779983824994191 \t error= 2.9518077890556977 percent\n",
      "error rate on test set = 25.238095152945743 percent\n",
      " \n",
      "epoch= 33 \t lr= 8.77914951989026e-05 \t loss= 0.20478188304836492 \t error= 2.5301209056233787 percent\n",
      "error rate on test set = 24.523809694108508 percent\n",
      " \n",
      "epoch= 34 \t lr= 8.77914951989026e-05 \t loss= 0.20190715172653456 \t error= 2.650602826152939 percent\n",
      "error rate on test set = 25.0 percent\n",
      " \n",
      "epoch= 35 \t lr= 5.852766346593506e-05 \t loss= 0.19455079994646898 \t error= 2.168675179941108 percent\n",
      "error rate on test set = 24.761904847054257 percent\n",
      " \n",
      "epoch= 36 \t lr= 5.852766346593506e-05 \t loss= 0.1982903606426644 \t error= 3.0120487672736846 percent\n",
      "error rate on test set = 25.0 percent\n",
      " \n",
      "epoch= 37 \t lr= 5.852766346593506e-05 \t loss= 0.1888796576040696 \t error= 2.5301209774362032 percent\n",
      "error rate on test set = 24.285714399246945 percent\n",
      " \n",
      "epoch= 38 \t lr= 5.852766346593506e-05 \t loss= 0.18864624730748944 \t error= 2.4096390210002303 percent\n",
      "error rate on test set = 24.76190470513843 percent\n",
      " \n",
      "epoch= 39 \t lr= 5.852766346593506e-05 \t loss= 0.188322208799332 \t error= 2.228916014533445 percent\n",
      "error rate on test set = 24.761904847054257 percent\n",
      " \n",
      "epoch= 40 \t lr= 3.9018442310623374e-05 \t loss= 0.17653226883835102 \t error= 1.9277111952563364 percent\n",
      "error rate on test set = 24.28571425733112 percent\n",
      " \n",
      "epoch= 41 \t lr= 3.9018442310623374e-05 \t loss= 0.18035751235592795 \t error= 2.108434165816709 percent\n",
      "error rate on test set = 24.28571425733112 percent\n",
      " \n",
      "epoch= 42 \t lr= 3.9018442310623374e-05 \t loss= 0.1792905565844961 \t error= 1.8674702529447627 percent\n",
      "error rate on test set = 25.000000141915823 percent\n",
      " \n",
      "epoch= 43 \t lr= 3.9018442310623374e-05 \t loss= 0.1775266746934279 \t error= 2.2891571004706694 percent\n",
      "error rate on test set = 23.809524235271272 percent\n",
      " \n",
      "epoch= 44 \t lr= 3.9018442310623374e-05 \t loss= 0.17384761983685823 \t error= 2.0481931157858972 percent\n",
      "error rate on test set = 24.76190470513843 percent\n",
      " \n",
      "epoch= 45 \t lr= 2.6012294873748917e-05 \t loss= 0.17591462894735566 \t error= 1.8674701811319374 percent\n",
      "error rate on test set = 24.761904847054257 percent\n",
      " \n",
      "epoch= 46 \t lr= 2.6012294873748917e-05 \t loss= 0.1707259094993393 \t error= 1.8072292388203632 percent\n",
      "error rate on test set = 24.523809694108508 percent\n",
      " \n",
      "epoch= 47 \t lr= 2.6012294873748917e-05 \t loss= 0.16991645703653255 \t error= 1.8072292029139507 percent\n",
      "error rate on test set = 25.238095152945743 percent\n",
      " \n",
      "epoch= 48 \t lr= 2.6012294873748917e-05 \t loss= 0.17017922842179437 \t error= 1.6867472823843896 percent\n",
      "error rate on test set = 24.285714399246945 percent\n",
      " \n",
      "epoch= 49 \t lr= 2.6012294873748917e-05 \t loss= 0.16950687532683453 \t error= 1.6867473541972149 percent\n",
      "error rate on test set = 24.285714399246945 percent\n",
      " \n",
      "epoch= 50 \t lr= 1.734152991583261e-05 \t loss= 0.16816925811749625 \t error= 1.8072292388203632 percent\n",
      "error rate on test set = 24.047618962469556 percent\n",
      " \n",
      "epoch= 51 \t lr= 1.734152991583261e-05 \t loss= 0.16525982226054353 \t error= 1.3855424631072815 percent\n",
      "error rate on test set = 24.523809552192688 percent\n",
      " \n",
      "epoch= 52 \t lr= 1.734152991583261e-05 \t loss= 0.16503800548254008 \t error= 1.7469881887895513 percent\n",
      "error rate on test set = 24.047619246301196 percent\n",
      " \n",
      "epoch= 53 \t lr= 1.734152991583261e-05 \t loss= 0.16581601380224686 \t error= 1.5060243477304298 percent\n",
      "error rate on test set = 23.809523951439633 percent\n",
      " \n",
      "epoch= 54 \t lr= 1.734152991583261e-05 \t loss= 0.16866060808660036 \t error= 2.108434165816709 percent\n"
     ]
    },
    {
     "name": "stdout",
     "output_type": "stream",
     "text": [
      "error rate on test set = 24.761904988970077 percent\n",
      " \n",
      "epoch= 55 \t lr= 1.1561019943888407e-05 \t loss= 0.16438190677169576 \t error= 1.8674702529447627 percent\n",
      "error rate on test set = 24.047619104385376 percent\n",
      " \n",
      "epoch= 56 \t lr= 1.1561019943888407e-05 \t loss= 0.16484051511948367 \t error= 1.3253014489828823 percent\n",
      "error rate on test set = 24.523809552192688 percent\n",
      " \n",
      "epoch= 57 \t lr= 1.1561019943888407e-05 \t loss= 0.1645773519279368 \t error= 1.6265063759792282 percent\n",
      "error rate on test set = 24.285714399246945 percent\n",
      " \n",
      "epoch= 58 \t lr= 1.1561019943888407e-05 \t loss= 0.16870731707796993 \t error= 2.0481932594115477 percent\n",
      "error rate on test set = 24.285714399246945 percent\n",
      " \n",
      "epoch= 59 \t lr= 1.1561019943888407e-05 \t loss= 0.1626706718052008 \t error= 1.385542499013694 percent\n",
      "error rate on test set = 24.285714399246945 percent\n",
      " \n",
      "epoch= 60 \t lr= 7.707346629258937e-06 \t loss= 0.16210293915706225 \t error= 1.1445785502353347 percent\n",
      "error rate on test set = 24.523809552192688 percent\n",
      " \n",
      "epoch= 61 \t lr= 7.707346629258937e-06 \t loss= 0.1616940886141306 \t error= 1.566265361854829 percent\n",
      "error rate on test set = 23.809523809523807 percent\n",
      " \n",
      "epoch= 62 \t lr= 7.707346629258937e-06 \t loss= 0.16078072339745172 \t error= 1.7469882606023766 percent\n",
      "error rate on test set = 24.047619104385376 percent\n",
      " \n",
      "epoch= 63 \t lr= 7.707346629258937e-06 \t loss= 0.15968998171478868 \t error= 1.5060244554496673 percent\n",
      "error rate on test set = 24.28571425733112 percent\n",
      " \n",
      "epoch= 64 \t lr= 7.707346629258937e-06 \t loss= 0.16174227367323565 \t error= 1.7469882606023766 percent\n",
      "error rate on test set = 24.047619104385376 percent\n",
      " \n",
      "epoch= 65 \t lr= 5.138231086172625e-06 \t loss= 0.1595308444945209 \t error= 1.385542499013694 percent\n",
      "error rate on test set = 24.047619104385376 percent\n",
      " \n",
      "epoch= 66 \t lr= 5.138231086172625e-06 \t loss= 0.1574354135846517 \t error= 1.4457834413252681 percent\n",
      "error rate on test set = 24.047619104385376 percent\n",
      " \n",
      "epoch= 67 \t lr= 5.138231086172625e-06 \t loss= 0.15939087378063116 \t error= 1.385542427200869 percent\n",
      "error rate on test set = 23.809523809523807 percent\n",
      " \n",
      "epoch= 68 \t lr= 5.138231086172625e-06 \t loss= 0.1567753009183938 \t error= 1.6867473901036274 percent\n",
      "error rate on test set = 24.047619104385376 percent\n",
      " \n",
      "epoch= 69 \t lr= 5.138231086172625e-06 \t loss= 0.1574771152136017 \t error= 1.6867473182908024 percent\n",
      "error rate on test set = 24.285714399246945 percent\n",
      " \n",
      "epoch= 70 \t lr= 3.42548739078175e-06 \t loss= 0.15822814425161805 \t error= 1.8674702529447627 percent\n",
      "error rate on test set = 24.285714399246945 percent\n",
      " \n",
      "epoch= 71 \t lr= 3.42548739078175e-06 \t loss= 0.16202684034066028 \t error= 1.566265361854829 percent\n",
      "error rate on test set = 24.285714399246945 percent\n",
      " \n",
      "epoch= 72 \t lr= 3.42548739078175e-06 \t loss= 0.16276044177497367 \t error= 1.6265063400728155 percent\n",
      "error rate on test set = 24.285714399246945 percent\n",
      " \n",
      "epoch= 73 \t lr= 3.42548739078175e-06 \t loss= 0.16023818062371517 \t error= 1.566265361854829 percent\n",
      "error rate on test set = 24.285714399246945 percent\n",
      " \n",
      "epoch= 74 \t lr= 3.42548739078175e-06 \t loss= 0.15967448183660765 \t error= 1.4457834413252681 percent\n",
      "error rate on test set = 24.285714399246945 percent\n",
      " \n",
      "epoch= 75 \t lr= 2.2836582605211667e-06 \t loss= 0.1597595398190869 \t error= 1.5662653259484165 percent\n",
      "error rate on test set = 24.285714399246945 percent\n",
      " \n",
      "epoch= 76 \t lr= 2.2836582605211667e-06 \t loss= 0.15951411841235247 \t error= 1.3253014489828823 percent\n",
      "error rate on test set = 24.047619104385376 percent\n",
      " \n",
      "epoch= 77 \t lr= 2.2836582605211667e-06 \t loss= 0.15693865617714733 \t error= 1.4457834054188556 percent\n",
      "error rate on test set = 24.047619104385376 percent\n",
      " \n",
      "epoch= 78 \t lr= 2.2836582605211667e-06 \t loss= 0.1600612231182406 \t error= 1.6265064118856407 percent\n",
      "error rate on test set = 24.047619104385376 percent\n",
      " \n",
      "epoch= 79 \t lr= 2.2836582605211667e-06 \t loss= 0.15913616805281267 \t error= 1.0240966297057739 percent\n",
      "error rate on test set = 24.047619104385376 percent\n",
      " \n",
      "epoch= 80 \t lr= 1.5224388403474445e-06 \t loss= 0.15691880412758832 \t error= 1.325301520795707 percent\n",
      "error rate on test set = 24.047619104385376 percent\n",
      " \n",
      "epoch= 81 \t lr= 1.5224388403474445e-06 \t loss= 0.1607781021283513 \t error= 1.3855424631072815 percent\n",
      "error rate on test set = 24.047619104385376 percent\n",
      " \n",
      "epoch= 82 \t lr= 1.5224388403474445e-06 \t loss= 0.16141565978886133 \t error= 1.5060243477304298 percent\n",
      "error rate on test set = 24.047619104385376 percent\n",
      " \n",
      "epoch= 83 \t lr= 1.5224388403474445e-06 \t loss= 0.15798009896134757 \t error= 1.6265063041664034 percent\n",
      "error rate on test set = 24.047619104385376 percent\n",
      " \n",
      "epoch= 84 \t lr= 1.5224388403474445e-06 \t loss= 0.15639590866953493 \t error= 1.4457834413252681 percent\n",
      "error rate on test set = 24.047619104385376 percent\n",
      " \n",
      "epoch= 85 \t lr= 1.0149592268982964e-06 \t loss= 0.15569784454103694 \t error= 1.3253014130764695 percent\n",
      "error rate on test set = 24.047619104385376 percent\n",
      " \n",
      "epoch= 86 \t lr= 1.0149592268982964e-06 \t loss= 0.16002259017473244 \t error= 1.746988296508789 percent\n",
      "error rate on test set = 24.047619104385376 percent\n",
      " \n",
      "epoch= 87 \t lr= 1.0149592268982964e-06 \t loss= 0.16066588721720568 \t error= 1.6265063400728155 percent\n",
      "error rate on test set = 24.047619104385376 percent\n",
      " \n",
      "epoch= 88 \t lr= 1.0149592268982964e-06 \t loss= 0.1568796960524766 \t error= 1.1445785861417472 percent\n",
      "error rate on test set = 24.047619104385376 percent\n",
      " \n",
      "epoch= 89 \t lr= 1.0149592268982964e-06 \t loss= 0.1580002856586712 \t error= 1.2650605425777206 percent\n",
      "error rate on test set = 24.047619104385376 percent\n",
      " \n",
      "epoch= 90 \t lr= 6.766394845988642e-07 \t loss= 0.1576030195118433 \t error= 1.5662653977612417 percent\n",
      "error rate on test set = 24.047619104385376 percent\n",
      " \n",
      "epoch= 91 \t lr= 6.766394845988642e-07 \t loss= 0.15805601386959295 \t error= 1.2048195284533214 percent\n",
      "error rate on test set = 24.047619104385376 percent\n",
      " \n",
      "epoch= 92 \t lr= 6.766394845988642e-07 \t loss= 0.1613894857645753 \t error= 1.6265063759792282 percent\n",
      "error rate on test set = 24.047619104385376 percent\n",
      " \n",
      "epoch= 93 \t lr= 6.766394845988642e-07 \t loss= 0.1595902391541076 \t error= 1.6867472823843896 percent\n",
      "error rate on test set = 24.047619104385376 percent\n",
      " \n",
      "epoch= 94 \t lr= 6.766394845988642e-07 \t loss= 0.15523893778851952 \t error= 1.3855424631072815 percent\n",
      "error rate on test set = 24.047619104385376 percent\n",
      " \n",
      "epoch= 95 \t lr= 4.510929897325762e-07 \t loss= 0.15801942469664368 \t error= 1.3253014489828823 percent\n",
      "error rate on test set = 24.047619104385376 percent\n",
      " \n",
      "epoch= 96 \t lr= 4.510929897325762e-07 \t loss= 0.1595019485958549 \t error= 1.5662654336676538 percent\n",
      "error rate on test set = 24.047619104385376 percent\n",
      " \n",
      "epoch= 97 \t lr= 4.510929897325762e-07 \t loss= 0.15747990151755062 \t error= 1.2048195643597337 percent\n",
      "error rate on test set = 24.047619104385376 percent\n",
      " \n",
      "epoch= 98 \t lr= 4.510929897325762e-07 \t loss= 0.16041890450988908 \t error= 1.6265064118856407 percent\n",
      "error rate on test set = 24.047619104385376 percent\n",
      " \n",
      "epoch= 99 \t lr= 4.510929897325762e-07 \t loss= 0.1569946019809289 \t error= 1.6867473182908024 percent\n",
      "error rate on test set = 24.047619104385376 percent\n",
      " \n"
     ]
    }
   ],
   "source": [
    "for epoch in range(1,100):\n",
    "    \n",
    "    if not epoch%5:\n",
    "        my_lr = my_lr / 1.5\n",
    "        \n",
    "    optimizer=torch.optim.SGD( net.parameters() , lr=my_lr )\n",
    "        \n",
    "    running_loss=0\n",
    "    running_error=0\n",
    "    num_batches=0\n",
    "    \n",
    "    shuffled_indices=torch.randperm(1660)\n",
    " \n",
    "    for count in range(0,1660,bs):\n",
    "        \n",
    "        optimizer.zero_grad()\n",
    "             \n",
    "        indices=shuffled_indices[count:count+bs]\n",
    "        minibatch_data =  X_train[indices].unsqueeze(dim=1)\n",
    "        minibatch_label=  y_train[indices]\n",
    "        \n",
    "        minibatch_data=minibatch_data.to(device)\n",
    "        minibatch_label=minibatch_label.to(device)\n",
    "        inputs = (minibatch_data - mean)/std    \n",
    "        inputs.requires_grad_()\n",
    "        scores=net( inputs ) \n",
    "        loss =  criterion( scores , minibatch_label)\n",
    "        loss.backward()\n",
    "        optimizer.step()\n",
    "        running_loss += loss.detach().item()\n",
    "        \n",
    "        error = get_error( scores.detach() , minibatch_label)\n",
    "        running_error += error.item()\n",
    "        \n",
    "        num_batches+=1       \n",
    "    \n",
    "    if epoch % 2 == 1:\n",
    "            torch.save(net.state_dict(), f'./{epoch}.pth')\n",
    "    \n",
    "    total_loss = running_loss/num_batches\n",
    "    total_error = running_error/num_batches\n",
    "    \n",
    "    print('epoch=',epoch,'\\t lr=', my_lr  ,'\\t loss=', total_loss , '\\t error=', total_error*100 ,'percent')\n",
    "    eval_on_test_set() \n",
    "    print(' ')"
   ]
  },
  {
   "cell_type": "code",
   "execution_count": 20,
   "metadata": {},
   "outputs": [],
   "source": [
    "torch.save(net.state_dict(), f'./100.pth')"
   ]
  },
  {
   "cell_type": "code",
   "execution_count": 44,
   "metadata": {
    "scrolled": true
   },
   "outputs": [
    {
     "name": "stdout",
     "output_type": "stream",
     "text": [
      "torch.Size([2075, 128, 259])\n"
     ]
    }
   ],
   "source": [
    "X =[]\n",
    "Y_ac = []\n",
    "y_pre = []\n",
    "tmp_X = df2.iloc[:,5]\n",
    "tmp_y = df2.iloc[:,1]\n",
    "target_names=[\"neutral\", \"calm\", \"happy\", \"sad\", \"angry\", \"fear\", \"disgust\", \"surprise\"]\n",
    "\n",
    "Y_ac = df2.iloc[:,1]\n",
    "gender = df2.iloc[:,0]\n",
    "\n",
    "for i in range(tmp_X.shape[0]):\n",
    "    X.append(tmp_X.iloc[i])\n",
    "\n",
    "X = np.array(X)\n",
    "\n",
    "X = torch.from_numpy(X) \n",
    "Y_ac = torch.from_numpy(np.asarray(Y_ac))\n",
    "gender = torch.from_numpy(np.asarray(gender))\n",
    "\n",
    "Y_ac = Y_ac-1\n",
    "print(X.shape)"
   ]
  },
  {
   "cell_type": "code",
   "execution_count": 45,
   "metadata": {},
   "outputs": [],
   "source": [
    "def get_error_eval( scores , labels ):\n",
    "\n",
    "    bs=scores.size(0)\n",
    "    predicted_labels = scores.argmax(dim=1)    \n",
    "    indicator = (predicted_labels == labels)\n",
    "    num_matches=indicator.sum()\n",
    "    \n",
    "    return 1-num_matches.float()/bs "
   ]
  },
  {
   "cell_type": "code",
   "execution_count": 46,
   "metadata": {},
   "outputs": [
    {
     "name": "stdout",
     "output_type": "stream",
     "text": [
      "torch.Size([2075, 128, 259])\n"
     ]
    }
   ],
   "source": [
    "print(X.shape)"
   ]
  },
  {
   "cell_type": "code",
   "execution_count": 47,
   "metadata": {},
   "outputs": [
    {
     "name": "stdout",
     "output_type": "stream",
     "text": [
      "error rate on test set = 6.009616072361286 percent\n",
      "[tensor(5), tensor(4), tensor(2), tensor(7), tensor(2), tensor(5), tensor(4), tensor(1), tensor(3), tensor(3), tensor(0), tensor(1), tensor(1), tensor(3), tensor(3), tensor(1), tensor(5), tensor(4), tensor(7), tensor(2), tensor(2), tensor(5), tensor(4), tensor(4), tensor(2), tensor(5), tensor(7), tensor(7), tensor(5), tensor(7), tensor(2), tensor(4), tensor(2), tensor(4), tensor(5), tensor(4), tensor(5), tensor(2), tensor(3), tensor(6), tensor(1), tensor(1), tensor(0), tensor(6), tensor(3), tensor(6), tensor(1), tensor(0), tensor(1), tensor(0), tensor(3), tensor(6), tensor(2), tensor(4), tensor(5), tensor(4), tensor(5), tensor(2), tensor(6), tensor(1), tensor(3), tensor(3), tensor(2), tensor(0), tensor(6), tensor(0), tensor(6), tensor(3), tensor(1), tensor(1), tensor(3), tensor(5), tensor(4), tensor(2), tensor(5), tensor(4), tensor(0), tensor(1), tensor(6), tensor(3), tensor(6), tensor(3), tensor(0), tensor(1), tensor(1), tensor(6), tensor(3), tensor(6), tensor(3), tensor(1), tensor(5), tensor(4), tensor(5), tensor(4), tensor(2), tensor(5), tensor(7), tensor(2), tensor(2), tensor(7), tensor(4), tensor(5), tensor(4), tensor(5), tensor(2), tensor(3), tensor(1), tensor(3), tensor(3), tensor(1), tensor(1), tensor(3), tensor(7), tensor(2), tensor(4), tensor(5), tensor(4), tensor(2), tensor(4), tensor(1), tensor(2), tensor(3), tensor(4), tensor(1), tensor(3), tensor(3), tensor(0), tensor(1), tensor(3), tensor(3), tensor(1), tensor(5), tensor(4), tensor(7), tensor(2), tensor(2), tensor(4), tensor(5), tensor(2), tensor(3), tensor(4), tensor(1), tensor(1), tensor(2), tensor(2), tensor(4), tensor(1), tensor(4), tensor(3), tensor(2), tensor(7), tensor(5), tensor(4), tensor(5), tensor(4), tensor(5), tensor(6), tensor(1), tensor(1), tensor(3), tensor(6), tensor(3), tensor(1), tensor(0), tensor(1), tensor(0), tensor(6), tensor(4), tensor(5), tensor(4), tensor(5), tensor(2), tensor(1), tensor(1), tensor(1), tensor(4), tensor(5), tensor(6), tensor(6), tensor(0), tensor(3), tensor(4), tensor(1), tensor(2), tensor(3), tensor(3), tensor(1), tensor(0), tensor(6), tensor(4), tensor(0), tensor(2), tensor(6), tensor(3), tensor(1), tensor(3), tensor(1), tensor(3), tensor(2), tensor(6), tensor(0), tensor(6), tensor(2), tensor(1), tensor(5), tensor(1), tensor(3), tensor(6), tensor(2), tensor(4), tensor(5), tensor(4), tensor(2), tensor(2), tensor(5), tensor(4), tensor(1), tensor(3), tensor(6), tensor(0), tensor(6), tensor(3), tensor(1), tensor(5), tensor(4), tensor(7), tensor(5), tensor(4), tensor(7), tensor(5), tensor(4), tensor(1), tensor(1), tensor(2), tensor(4), tensor(1), tensor(5), tensor(3), tensor(3), tensor(5), tensor(1), tensor(0), tensor(4), tensor(2), tensor(2), tensor(5), tensor(0), tensor(7), tensor(4), tensor(7), tensor(2), tensor(3), tensor(1), tensor(3), tensor(3), tensor(3), tensor(1), tensor(1), tensor(0), tensor(3), tensor(7), tensor(2), tensor(4), tensor(7), tensor(0), tensor(3), tensor(7), tensor(2), tensor(4), tensor(2), tensor(2), tensor(4), tensor(4), tensor(5), tensor(7), tensor(2), tensor(3), tensor(1), tensor(0), tensor(1), tensor(4), tensor(3), tensor(3), tensor(1), tensor(5), tensor(4), tensor(0), tensor(2), tensor(1), tensor(4), tensor(5), tensor(1), tensor(3), tensor(3), tensor(4), tensor(1), tensor(5), tensor(1), tensor(6), tensor(6), tensor(1), tensor(4), tensor(7), tensor(5), tensor(5), tensor(2), tensor(4), tensor(0), tensor(1), tensor(6), tensor(3), tensor(6), tensor(3), tensor(0), tensor(1), tensor(1), tensor(5), tensor(3), tensor(6), tensor(4), tensor(4), tensor(3), tensor(6), tensor(5), tensor(5), tensor(6), tensor(3), tensor(2), tensor(4), tensor(0), tensor(4), tensor(6), tensor(2), tensor(3), tensor(5), tensor(1), tensor(5), tensor(4), tensor(3), tensor(2), tensor(3), tensor(4), tensor(1), tensor(0), tensor(5), tensor(6), tensor(6), tensor(5), tensor(1), tensor(4), tensor(1), tensor(2), tensor(4), tensor(5), tensor(6), tensor(1), tensor(0), tensor(1), tensor(0), tensor(6), tensor(4), tensor(3), tensor(4), tensor(5), tensor(2), tensor(4), tensor(5), tensor(4), tensor(5), tensor(3), tensor(6), tensor(1), tensor(1), tensor(1), tensor(6), tensor(5), tensor(3), tensor(2), tensor(1), tensor(4), tensor(1), tensor(3), tensor(3), tensor(4), tensor(1), tensor(2), tensor(3), tensor(0), tensor(5), tensor(1), tensor(3), tensor(3), tensor(1), tensor(2), tensor(1), tensor(2), tensor(4), tensor(2), tensor(2), tensor(4), tensor(1), tensor(3), tensor(3), tensor(1), tensor(4), tensor(1), tensor(1), tensor(3), tensor(7), tensor(2), tensor(4), tensor(4), tensor(2), tensor(2), tensor(4), tensor(4), tensor(7), tensor(2), tensor(3), tensor(1), tensor(1), tensor(3), tensor(3), tensor(1), tensor(0), tensor(6), tensor(7), tensor(1), tensor(3), tensor(1), tensor(3), tensor(6), tensor(3), tensor(1), tensor(5), tensor(4), tensor(2), tensor(2), tensor(5), tensor(4), tensor(5), tensor(4), tensor(2), tensor(2), tensor(5), tensor(4), tensor(0), tensor(1), tensor(6), tensor(3), tensor(0), tensor(1), tensor(5), tensor(4), tensor(4), tensor(5), tensor(5), tensor(4), tensor(2), tensor(2), tensor(4), tensor(5), tensor(3), tensor(6), tensor(1), tensor(0), tensor(1), tensor(0), tensor(3), tensor(6), tensor(2), tensor(4), tensor(5), tensor(4), tensor(5), tensor(2), tensor(2), tensor(4), tensor(5), tensor(4), tensor(5), tensor(2), tensor(3), tensor(6), tensor(1), tensor(1), tensor(3), tensor(6), tensor(1), tensor(3), tensor(7), tensor(7), tensor(7), tensor(3), tensor(1), tensor(1), tensor(3), tensor(3), tensor(1), tensor(5), tensor(4), tensor(2), tensor(2), tensor(7), tensor(5), tensor(4), tensor(6), tensor(2), tensor(2), tensor(5), tensor(6), tensor(0), tensor(2), tensor(3), tensor(3), tensor(0), tensor(1), tensor(3), tensor(1), tensor(2), tensor(4), tensor(4), tensor(7), tensor(2), tensor(2), tensor(2), tensor(5), tensor(4), tensor(5), tensor(4), tensor(2), tensor(1), tensor(3), tensor(3), tensor(4), tensor(1), tensor(2), tensor(0), tensor(4), tensor(5), tensor(3), tensor(3), tensor(1), tensor(5), tensor(4), tensor(2), tensor(5), tensor(1), tensor(4), tensor(3), tensor(1), tensor(4), tensor(3), tensor(6), tensor(1), tensor(5), tensor(4), tensor(4), tensor(2), tensor(5), tensor(1), tensor(0), tensor(3), tensor(6), tensor(3), tensor(6), tensor(1), tensor(0), tensor(4), tensor(6), tensor(2), tensor(1), tensor(5), tensor(1), tensor(5), tensor(6), tensor(1), tensor(2), tensor(4), tensor(4), tensor(2), tensor(3), tensor(6), tensor(5), tensor(1), tensor(5), tensor(3), tensor(2), tensor(6), tensor(4), tensor(0), tensor(2), tensor(4), tensor(5), tensor(4), tensor(5), tensor(0), tensor(1), tensor(4), tensor(2), tensor(2), tensor(4), tensor(1), tensor(5), tensor(6), tensor(5), tensor(4), tensor(6), tensor(3), tensor(0), tensor(1), tensor(0), tensor(1), tensor(6), tensor(3), tensor(5), tensor(4), tensor(5), tensor(4), tensor(2), tensor(5), tensor(4), tensor(5), tensor(4), tensor(3), tensor(6), tensor(1), tensor(1), tensor(1), tensor(6), tensor(4), tensor(1), tensor(2), tensor(3), tensor(5), tensor(3), tensor(1), tensor(3), tensor(5), tensor(0), tensor(3), tensor(2), tensor(1), tensor(4), tensor(1), tensor(3), tensor(3), tensor(1), tensor(4), tensor(2), tensor(7), tensor(2), tensor(4), tensor(4), tensor(2), tensor(2), tensor(1), tensor(3), tensor(3), tensor(1), tensor(3), tensor(0), tensor(1), tensor(0), tensor(4), tensor(2), tensor(4), tensor(4), tensor(7), tensor(2), tensor(7), tensor(2), tensor(4), tensor(5), tensor(4), tensor(2), tensor(3), tensor(1), tensor(1), tensor(3), tensor(3), tensor(0), tensor(1), tensor(3), tensor(3), tensor(1), tensor(1), tensor(6), tensor(3), tensor(1), tensor(4), tensor(5), tensor(2), tensor(4), tensor(5), tensor(4), tensor(5), tensor(2), tensor(2), tensor(4), tensor(5), tensor(1), tensor(0), tensor(3), tensor(7), tensor(6), tensor(1), tensor(0), tensor(4), tensor(5), tensor(5), tensor(4), tensor(2), tensor(4), tensor(5), tensor(5), tensor(4), tensor(2), tensor(6), tensor(3), tensor(0), tensor(1), tensor(0), tensor(1), tensor(6), tensor(3), tensor(2), tensor(5), tensor(4), tensor(5), tensor(4), tensor(2), tensor(2), tensor(5), tensor(4), tensor(5), tensor(4), tensor(2), tensor(6), tensor(1), tensor(1), tensor(6), tensor(1), tensor(7), tensor(3), tensor(1), tensor(7), tensor(1), tensor(3), tensor(7), tensor(0), tensor(6), tensor(3), tensor(3), tensor(1), tensor(4), tensor(2), tensor(7), tensor(2), tensor(4), tensor(5), tensor(6), tensor(5), tensor(2), tensor(2), tensor(2), tensor(1), tensor(0), tensor(3), tensor(3), tensor(1), tensor(0), tensor(4), tensor(5), tensor(2), tensor(2), tensor(4), tensor(5), tensor(1), tensor(0), tensor(4), tensor(3), tensor(1), tensor(1), tensor(3), tensor(3), tensor(1), tensor(4), tensor(5), tensor(2), tensor(7), tensor(2), tensor(4), tensor(5), tensor(3), tensor(7), tensor(2), tensor(4), tensor(7), tensor(7), tensor(4), tensor(2), tensor(5), tensor(2), tensor(5), tensor(4), tensor(5), tensor(4), tensor(6), tensor(1), tensor(1), tensor(6), tensor(3), tensor(6), tensor(3), tensor(0), tensor(1), tensor(0), tensor(1), tensor(4), tensor(3), tensor(5), tensor(5), tensor(4), tensor(5), tensor(4), tensor(2), tensor(3), tensor(1), tensor(6), tensor(6), tensor(0), tensor(1), tensor(3), tensor(1), tensor(3), tensor(6), tensor(0), tensor(7), tensor(3), tensor(1), tensor(4), tensor(5), tensor(2), tensor(4), tensor(5), tensor(1), tensor(0), tensor(3), tensor(6), tensor(3), tensor(6), tensor(1), tensor(0), tensor(1), tensor(3), tensor(6), tensor(3), tensor(6), tensor(1), tensor(4), tensor(5), tensor(4), tensor(5), tensor(7), tensor(5), tensor(2), tensor(2), tensor(2), tensor(5), tensor(4), tensor(4), tensor(2), tensor(4), tensor(3), tensor(1), tensor(3), tensor(3), tensor(1), tensor(1), tensor(3), tensor(2), tensor(5), tensor(4), tensor(5), tensor(2), tensor(4), tensor(3), tensor(7), tensor(2), tensor(2), tensor(4), tensor(0), tensor(3), tensor(3), tensor(1), tensor(1), tensor(3), tensor(3), tensor(1), tensor(4), tensor(2), tensor(7), tensor(7), tensor(2), tensor(4), tensor(5), tensor(4), tensor(3), tensor(2), tensor(1), tensor(2), tensor(4), tensor(4), tensor(2), tensor(5), tensor(2), tensor(3), tensor(4), tensor(1), tensor(5), tensor(4), tensor(5), tensor(4), tensor(6), tensor(3), tensor(1), tensor(1), tensor(6), tensor(6), tensor(0), tensor(1), tensor(0), tensor(1), tensor(3), tensor(2), tensor(5), tensor(4), tensor(5), tensor(4), tensor(2), tensor(1), tensor(1), tensor(6), tensor(5), tensor(4), tensor(1), tensor(3), tensor(3), tensor(3), tensor(2), tensor(1), tensor(4), tensor(5), tensor(0), tensor(6), tensor(6), tensor(0), tensor(1), tensor(3), tensor(5), tensor(1), tensor(3), tensor(6), tensor(2), tensor(0), tensor(4), tensor(0), tensor(7), tensor(2), tensor(3), tensor(1), tensor(1), tensor(3), tensor(6), tensor(4), tensor(2), tensor(6), tensor(3), tensor(1), tensor(5), tensor(4), tensor(5), tensor(2), tensor(4), tensor(4), tensor(3), tensor(0), tensor(6), tensor(3), tensor(1), tensor(1), tensor(3), tensor(6), tensor(4), tensor(5), tensor(7), tensor(4), tensor(5), tensor(2), tensor(1), tensor(4), tensor(5), tensor(7), tensor(3), tensor(5), tensor(1), tensor(4), tensor(2), tensor(2), tensor(4), tensor(0), tensor(1), tensor(5), tensor(3), tensor(7), tensor(6), tensor(4), tensor(1), tensor(2), tensor(7), tensor(2), tensor(4), tensor(5), tensor(7), tensor(3), tensor(1), tensor(1), tensor(3), tensor(3), tensor(5), tensor(1), tensor(5), tensor(3), tensor(4), tensor(7), tensor(2), tensor(0), tensor(5), tensor(4), tensor(1), tensor(2), tensor(3), tensor(3), tensor(1), tensor(3), tensor(3), tensor(2), tensor(1), tensor(4), tensor(5), tensor(3), tensor(1), tensor(3), tensor(2), tensor(4), tensor(4), tensor(7), tensor(2), tensor(2), tensor(4), tensor(4), tensor(2), tensor(3), tensor(1), tensor(1), tensor(3), tensor(5), tensor(4), tensor(1), tensor(4), tensor(2), tensor(6), tensor(2), tensor(0), tensor(5), tensor(6), tensor(2), tensor(3), tensor(4), tensor(1), tensor(4), tensor(2), tensor(5), tensor(1), tensor(6), tensor(6), tensor(1), tensor(5), tensor(4), tensor(5), tensor(4), tensor(5), tensor(4), tensor(2), tensor(2), tensor(5), tensor(4), tensor(0), tensor(1), tensor(6), tensor(6), tensor(0), tensor(1), tensor(3), tensor(6), tensor(1), tensor(0), tensor(1), tensor(0), tensor(3), tensor(6), tensor(2), tensor(4), tensor(5), tensor(5), tensor(4), tensor(2), tensor(6), tensor(1), tensor(1), tensor(6), tensor(3), tensor(5), tensor(1), tensor(0), tensor(4), tensor(6), tensor(2), tensor(3), tensor(2), tensor(4), tensor(5), tensor(6), tensor(6), tensor(5), tensor(4), tensor(1), tensor(6), tensor(4), tensor(1), tensor(5), tensor(3), tensor(3), tensor(1), tensor(5), tensor(4), tensor(2), tensor(7), tensor(2), tensor(5), tensor(4), tensor(4), tensor(2), tensor(2), tensor(7), tensor(5), tensor(2), tensor(1), tensor(3), tensor(5), tensor(3), tensor(4), tensor(1), tensor(5), tensor(1), tensor(3), tensor(2), tensor(6), tensor(4), tensor(0), tensor(2), tensor(3), tensor(5), tensor(1), tensor(4), tensor(3), tensor(3), tensor(1), tensor(0), tensor(7), tensor(7), tensor(7), tensor(1), tensor(3), tensor(3), tensor(1), tensor(2), tensor(1), tensor(6), tensor(3), tensor(2), tensor(4), tensor(3), tensor(6), tensor(2), tensor(7), tensor(2), tensor(4), tensor(5), tensor(4), tensor(5), tensor(2), tensor(7), tensor(3), tensor(1), tensor(1), tensor(3), tensor(5), tensor(2), tensor(4), tensor(4), tensor(2), tensor(5), tensor(1), tensor(6), tensor(1), tensor(6), tensor(3), tensor(1), tensor(5), tensor(4), tensor(2), tensor(2), tensor(5), tensor(4), tensor(5), tensor(3), tensor(2), tensor(2), tensor(5), tensor(4), tensor(0), tensor(1), tensor(6), tensor(3), tensor(6), tensor(3), tensor(0), tensor(1), tensor(3), tensor(1), tensor(0), tensor(1), tensor(0), tensor(6), tensor(2), tensor(4), tensor(5), tensor(4), tensor(3), tensor(2), tensor(4), tensor(5), tensor(4), tensor(5), tensor(3), tensor(3), tensor(6), tensor(1), tensor(1), tensor(3), tensor(5), tensor(4), tensor(4), tensor(5), tensor(1), tensor(3), tensor(3), tensor(1), tensor(5), tensor(4), tensor(2), tensor(7), tensor(2), tensor(4), tensor(4), tensor(2), tensor(2), tensor(7), tensor(0), tensor(1), tensor(3), tensor(3), tensor(0), tensor(1), tensor(1), tensor(3), tensor(7), tensor(0), tensor(3), tensor(1), tensor(2), tensor(7), tensor(2), tensor(7), tensor(2), tensor(5), tensor(4), tensor(2), tensor(2), tensor(5), tensor(4), tensor(0), tensor(3), tensor(3), tensor(1), tensor(1), tensor(3), tensor(3), tensor(5), tensor(4), tensor(2), tensor(2), tensor(4), tensor(1), tensor(3), tensor(6), tensor(1), tensor(0), tensor(6), tensor(3), tensor(4), tensor(5), tensor(4), tensor(4), tensor(3), tensor(6), tensor(1), tensor(1), tensor(3), tensor(6), tensor(3), tensor(6), tensor(1), tensor(0), tensor(1), tensor(0), tensor(6), tensor(4), tensor(5), tensor(4), tensor(5), tensor(2), tensor(5), tensor(4), tensor(2), tensor(2), tensor(5), tensor(4), tensor(0), tensor(1), tensor(6), tensor(3), tensor(6), tensor(3), tensor(0), tensor(1), tensor(1), tensor(6), tensor(3), tensor(6), tensor(3), tensor(1), tensor(5), tensor(4), tensor(2), tensor(2), tensor(5), tensor(4), tensor(0), tensor(6), tensor(3), tensor(1), tensor(1), tensor(1), tensor(6), tensor(2), tensor(4), tensor(5), tensor(4), tensor(5), tensor(2), tensor(7), tensor(3), tensor(1), tensor(1), tensor(3), tensor(3), tensor(1), tensor(0), tensor(1), tensor(3), tensor(2), tensor(7), tensor(4), tensor(5), tensor(4), tensor(5), tensor(2), tensor(2), tensor(4), tensor(5), tensor(7), tensor(3), tensor(3), tensor(4), tensor(2), tensor(3), tensor(7), tensor(2), tensor(4), tensor(0), tensor(4), tensor(2), tensor(3), tensor(5), tensor(3), tensor(1), tensor(5), tensor(3), tensor(2), tensor(4), tensor(5), tensor(1), tensor(2), tensor(7), tensor(5), tensor(2), tensor(7), tensor(4), tensor(1), tensor(1), tensor(3), tensor(3), tensor(1), tensor(1), tensor(3), tensor(3), tensor(1), tensor(4), tensor(2), tensor(7), tensor(7), tensor(6), tensor(2), tensor(4), tensor(5), tensor(1), tensor(3), tensor(1), tensor(6), tensor(6), tensor(0), tensor(1), tensor(3), tensor(2), tensor(3), tensor(1), tensor(5), tensor(4), tensor(0), tensor(2), tensor(6), tensor(2), tensor(4), tensor(5), tensor(4), tensor(5), tensor(2), tensor(3), tensor(1), tensor(6), tensor(6), tensor(0), tensor(1), tensor(5), tensor(2), tensor(4), tensor(5), tensor(4), tensor(5), tensor(5), tensor(5), tensor(4), tensor(2), tensor(2), tensor(5), tensor(4), tensor(0), tensor(1), tensor(6), tensor(7), tensor(3), tensor(0), tensor(1), tensor(1), tensor(6), tensor(3), tensor(6), tensor(3), tensor(1), tensor(5), tensor(4), tensor(2), tensor(5), tensor(4), tensor(0), tensor(3), tensor(3), tensor(1), tensor(4), tensor(1), tensor(6), tensor(3), tensor(6), tensor(0), tensor(5), tensor(5), tensor(7), tensor(1), tensor(1), tensor(4), tensor(1), tensor(7), tensor(1), tensor(4), tensor(4), tensor(5), tensor(2), tensor(3), tensor(1), tensor(1), tensor(3), tensor(3), tensor(1), tensor(1), tensor(3), tensor(2), tensor(4), tensor(4), tensor(7), tensor(2), tensor(2), tensor(1), tensor(4), tensor(3), tensor(2), tensor(2), tensor(4), tensor(6), tensor(2), tensor(2), tensor(3), tensor(4), tensor(1), tensor(2), tensor(7), tensor(2), tensor(2), tensor(1), tensor(5), tensor(2), tensor(7), tensor(7), tensor(2), tensor(5), tensor(3), tensor(3), tensor(0), tensor(3), tensor(3), tensor(1), tensor(4), tensor(2), tensor(2), tensor(4), tensor(5), tensor(6), tensor(1), tensor(6), tensor(6), tensor(0), tensor(1), tensor(3), tensor(5), tensor(4), tensor(4), tensor(4), tensor(6), tensor(3), tensor(1), tensor(1), tensor(4), tensor(3), tensor(6), tensor(3), tensor(0), tensor(1), tensor(0), tensor(1), tensor(6), tensor(3), tensor(2), tensor(5), tensor(4), tensor(5), tensor(4), tensor(2), tensor(4), tensor(5), tensor(2), tensor(4), tensor(5), tensor(1), tensor(0), tensor(3), tensor(6), tensor(3), tensor(6), tensor(1), tensor(0), tensor(1), tensor(3), tensor(3), tensor(6), tensor(1), tensor(4), tensor(5), tensor(2), tensor(4), tensor(5), tensor(1), tensor(3), tensor(6), tensor(0), tensor(6), tensor(3), tensor(1), tensor(2), tensor(7), tensor(5), tensor(4), tensor(5), tensor(4), tensor(2), tensor(3), tensor(1), tensor(1), tensor(3), tensor(3), tensor(0), tensor(1), tensor(0), tensor(1), tensor(3), tensor(2), tensor(5), tensor(4), tensor(5), tensor(4), tensor(2), tensor(7), tensor(5), tensor(4), tensor(2), tensor(7), tensor(7), tensor(2), tensor(4), tensor(5), tensor(4), tensor(1), tensor(2), tensor(7), tensor(1), tensor(5), tensor(3), tensor(2), tensor(4), tensor(0), tensor(4), tensor(2), tensor(3), tensor(5), tensor(1), tensor(5), tensor(7), tensor(2), tensor(1), tensor(4), tensor(4), tensor(2), tensor(7), tensor(7), tensor(5), tensor(1), tensor(3), tensor(3), tensor(1), tensor(6), tensor(1), tensor(3), tensor(3), tensor(1), tensor(7), tensor(5), tensor(7), tensor(4), tensor(3), tensor(1), tensor(5), tensor(4), tensor(2), tensor(6), tensor(6), tensor(1), tensor(3), tensor(2), tensor(3), tensor(1), tensor(0), tensor(6), tensor(6), tensor(5), tensor(0), tensor(4), tensor(5), tensor(1), tensor(3), tensor(5), tensor(4), tensor(5), tensor(4), tensor(6), tensor(1), tensor(3), tensor(3), tensor(1), tensor(0), tensor(6), tensor(2), tensor(5), tensor(4), tensor(5), tensor(4), tensor(2), tensor(4), tensor(5), tensor(2), tensor(4), tensor(4), tensor(5), tensor(1), tensor(0), tensor(3), tensor(6), tensor(6), tensor(1), tensor(0), tensor(1), tensor(6), tensor(6), tensor(1), tensor(4), tensor(5), tensor(2), tensor(4), tensor(5), tensor(1), tensor(3), tensor(6), tensor(0), tensor(5), tensor(0), tensor(6), tensor(3), tensor(2), tensor(1), tensor(4), tensor(4), tensor(1), tensor(2), tensor(3), tensor(6), tensor(5), tensor(1), tensor(2), tensor(5), tensor(2), tensor(4), tensor(7), tensor(2), tensor(3), tensor(1), tensor(1), tensor(3), tensor(3), tensor(1), tensor(0), tensor(3), tensor(2), tensor(4), tensor(3), tensor(4), tensor(2), tensor(2), tensor(3), tensor(4), tensor(1), tensor(5), tensor(4), tensor(2), tensor(2), tensor(3), tensor(1), tensor(4), tensor(3), tensor(2), tensor(3), tensor(2), tensor(1), tensor(5), tensor(0), tensor(3), tensor(3), tensor(5), tensor(4), tensor(1), tensor(2), tensor(3), tensor(4), tensor(1), tensor(1), tensor(3), tensor(2), tensor(4), tensor(5), tensor(4), tensor(2), tensor(2), tensor(4), tensor(4), tensor(7), tensor(2), tensor(3), tensor(1), tensor(1), tensor(3), tensor(4), tensor(2), tensor(5), tensor(5), tensor(6), tensor(2), tensor(1), tensor(4), tensor(1), tensor(1), tensor(4), tensor(3), tensor(2), tensor(6), tensor(5), tensor(0), tensor(5), tensor(5), tensor(4), tensor(1), tensor(3), tensor(6), tensor(1), tensor(4), tensor(5), tensor(3), tensor(4), tensor(5), tensor(4), tensor(5), tensor(3), tensor(4), tensor(5), tensor(1), tensor(0), tensor(3), tensor(6), tensor(6), tensor(1), tensor(0), tensor(6), tensor(3), tensor(0), tensor(1), tensor(0), tensor(1), tensor(6), tensor(3), tensor(5), tensor(4), tensor(5), tensor(4), tensor(5), tensor(6), tensor(3), tensor(1), tensor(1), tensor(6), tensor(2), tensor(6), tensor(4), tensor(0), tensor(1), tensor(5), tensor(3), tensor(6), tensor(5), tensor(4), tensor(2), tensor(3), tensor(2), tensor(2), tensor(4), tensor(5), tensor(6), tensor(3), tensor(5), tensor(1), tensor(4), tensor(6), tensor(1), tensor(3), tensor(4), tensor(5), tensor(2), tensor(2), tensor(7), tensor(4), tensor(5), tensor(4), tensor(2), tensor(7), tensor(2), tensor(5), tensor(3), tensor(1), tensor(1), tensor(4), tensor(3), tensor(5), tensor(4), tensor(2), tensor(3), tensor(1), tensor(4), tensor(6), tensor(3), tensor(2), tensor(0), tensor(4), tensor(0), tensor(3), tensor(4), tensor(1), tensor(1), tensor(3), tensor(5), tensor(3), tensor(1), tensor(7), tensor(3), tensor(0), tensor(1), tensor(0), tensor(1), tensor(3), tensor(7), tensor(2), tensor(5), tensor(4), tensor(4), tensor(2), tensor(7), tensor(2), tensor(7), tensor(5), tensor(4), tensor(5), tensor(4), tensor(7), tensor(2), tensor(3), tensor(1), tensor(1), tensor(3), tensor(4), tensor(5), tensor(5), tensor(2), tensor(4), tensor(1), tensor(3), tensor(6), tensor(6), tensor(1), tensor(4), tensor(5), tensor(2), tensor(2), tensor(4), tensor(5), tensor(4), tensor(5), tensor(2), tensor(2), tensor(3), tensor(5), tensor(1), tensor(0), tensor(3), tensor(6), tensor(3), tensor(6), tensor(1), tensor(0), tensor(4), tensor(0), tensor(2), tensor(0), tensor(1), tensor(5), tensor(2), tensor(5), tensor(4), tensor(5), tensor(4), tensor(2), tensor(3), tensor(5), tensor(4), tensor(5), tensor(4), tensor(3), tensor(3), tensor(1), tensor(1), tensor(4), tensor(5), tensor(5), tensor(4), tensor(1), tensor(3), tensor(3), tensor(1), tensor(4), tensor(2), tensor(2), tensor(6), tensor(4), tensor(5), tensor(5), tensor(2), tensor(2), tensor(4), tensor(1), tensor(0), tensor(3), tensor(3), tensor(1), tensor(0), tensor(3), tensor(1), tensor(1), tensor(3), tensor(7), tensor(0)]\n"
     ]
    }
   ],
   "source": [
    "#net = net.to(device)\n",
    "net.load_state_dict(torch.load(\"/Users/xx/Desktop/5452 pro/100.pth\"))\n",
    "shuffled_indices=torch.randperm(X.shape[0])\n",
    " \n",
    "#eval()\n",
    "\n",
    "running_error=0\n",
    "num_batches=0\n",
    "y_pre = []\n",
    "\n",
    "for i in range(0,X.shape[0],bs):\n",
    "\n",
    "        minibatch_data =  X[i:i+bs].unsqueeze(dim=1)\n",
    "        minibatch_label= Y_ac[i:i+bs]\n",
    "\n",
    "        minibatch_data=minibatch_data.to(device)\n",
    "        minibatch_label=minibatch_label.to(device)\n",
    "        \n",
    "        inputs = (minibatch_data - mean)/std   \n",
    "\n",
    "        scores=net( inputs ) \n",
    "        \n",
    "        predicted_labels = scores.argmax(dim=1)\n",
    "        y_pre.extend(predicted_labels)\n",
    "\n",
    "        error = get_error_eval( scores , minibatch_label)\n",
    "\n",
    "        running_error += error.item()\n",
    "\n",
    "        num_batches+=1\n",
    "\n",
    "total_error = running_error/num_batches\n",
    "print( 'error rate on test set =', total_error*100 ,'percent')\n",
    "print(y_pre)"
   ]
  },
  {
   "cell_type": "code",
   "execution_count": 23,
   "metadata": {},
   "outputs": [
    {
     "data": {
      "image/png": "[encoded data removed]",
      "text/plain": [
       "<Figure size 1440x1440 with 2 Axes>"
      ]
     },
     "metadata": {
      "needs_background": "light"
     },
     "output_type": "display_data"
    }
   ],
   "source": [
    "Y_ac1 = pd.DataFrame(Y_ac)\n",
    "y_pre1 = pd.DataFrame(y_pre)\n",
    "Y_ac1 = Y_ac1.replace({0:\"neutral\", 1:\"calm\", 2:\"happy\", 3:\"sad\", 4:\"angry\", 5:\"fear\", 6:\"disgust\", 7:\"surprise\"})\n",
    "y_pre1 = y_pre1.replace({0:\"neutral\", 1:\"calm\", 2:\"happy\", 3:\"sad\", 4:\"angry\", 5:\"fear\", 6:\"disgust\", 7:\"surprise\"})\n",
    "cm = confusion_matrix(Y_ac1, y_pre1)\n",
    "plt.figure(figsize = (20, 20))\n",
    "conf_matrix= pd.DataFrame(cm,index=target_names, columns=target_names)\n",
    "ax = sns.heatmap(conf_matrix, linecolor='white', cmap='Wistia', linewidth=1, annot=True, fmt='')\n",
    "bottom, top = ax.get_ylim()\n",
    "ax.set_ylim(bottom + 0.5, top - 0.5)\n",
    "plt.title('Confusion Matrix', size=20)\n",
    "plt.xlabel('Predicted Labels', size=14)\n",
    "plt.ylabel('Actual Labels', size=14)\n",
    "plt.savefig('Initial_Model_Confusion_Matrix.png')\n",
    "plt.show()"
   ]
  },
  {
   "cell_type": "code",
   "execution_count": 48,
   "metadata": {},
   "outputs": [
    {
     "name": "stdout",
     "output_type": "stream",
     "text": [
      "              precision    recall  f1-score   support\n",
      "\n",
      "     neutral     0.9855    0.9444    0.9645       144\n",
      "        calm     0.9292    0.9771    0.9525       349\n",
      "       happy     0.9541    0.9151    0.9342       318\n",
      "         sad     0.9120    0.9311    0.9215       334\n",
      "       angry     0.9580    0.9553    0.9566       358\n",
      "        fear     0.9516    0.9167    0.9338       300\n",
      "     disgust     0.9106    0.9368    0.9235       174\n",
      "    surprise     0.9192    0.9286    0.9239        98\n",
      "\n",
      "    accuracy                         0.9398      2075\n",
      "   macro avg     0.9400    0.9381    0.9388      2075\n",
      "weighted avg     0.9403    0.9398    0.9398      2075\n",
      "\n"
     ]
    }
   ],
   "source": [
    "cr=classification_report(Y_ac, y_pre)\n",
    "print(classification_report(Y_ac, y_pre,digits=4, target_names=target_names))\n",
    "report = classification_report(Y_ac, y_pre, digits=4, target_names=target_names, output_dict=True)\n",
    "cr = pd.DataFrame(report).transpose()\n",
    "cr.to_csv(\"result.csv\", index= True)"
   ]
  },
  {
   "cell_type": "code",
   "execution_count": 49,
   "metadata": {},
   "outputs": [
    {
     "name": "stdout",
     "output_type": "stream",
     "text": [
      "tensor(1)\n",
      "tensor(1)\n",
      "tensor(12)\n"
     ]
    }
   ],
   "source": [
    "print(y_pre[7])\n",
    "print(Y_ac[7])\n",
    "print(gender[7])"
   ]
  },
  {
   "cell_type": "code",
   "execution_count": 50,
   "metadata": {},
   "outputs": [
    {
     "name": "stdout",
     "output_type": "stream",
     "text": [
      "[ 68 172 152 161 176 140  79  33]\n",
      "[ 76 177 166 173 182 160  95  65]\n",
      "[ 67 186 143 167 181 127  77  33]\n",
      "[ 71 181 162 174 176 162 102  66]\n"
     ]
    }
   ],
   "source": [
    "male_emo=np.zeros(8,int)\n",
    "female_emo=np.zeros(8,int)\n",
    "male_emo_pred=np.zeros(8,int)\n",
    "female_emo_pred=np.zeros(8,int)\n",
    "for i in range(0,Y_ac.shape[0]):\n",
    "    if (gender[i]%2)==0:\n",
    "        flag1 = y_pre[i]\n",
    "        female_emo_pred[flag1] = female_emo_pred[flag1] + 1\n",
    "        flag2 = Y_ac[i]\n",
    "        female_emo[flag2] = female_emo[flag2] + 1\n",
    "    if (gender[i]%2)==1:\n",
    "        flag1 = y_pre[i]\n",
    "        male_emo_pred[flag1] = male_emo_pred[flag1] + 1\n",
    "        flag2 = Y_ac[i]\n",
    "        male_emo[flag2] = male_emo[flag2] + 1\n",
    "print(male_emo)\n",
    "print(female_emo)\n",
    "print(male_emo_pred)\n",
    "print(female_emo_pred)"
   ]
  },
  {
   "cell_type": "code",
   "execution_count": 56,
   "metadata": {},
   "outputs": [
    {
     "data": {
      "text/plain": [
       "<matplotlib.legend.Legend at 0x7fe17e254790>"
      ]
     },
     "execution_count": 56,
     "metadata": {},
     "output_type": "execute_result"
    },
    {
     "data": {
      "image/png": "[encoded data removed]",
      "text/plain": [
       "<Figure size 432x288 with 1 Axes>"
      ]
     },
     "metadata": {
      "needs_background": "light"
     },
     "output_type": "display_data"
    }
   ],
   "source": [
    "name_list = ['neutral', 'calm', 'happy', 'sad', 'angry', 'fear', 'disgust', 'surprise']\n",
    "x =list(range(len(male_emo)))\n",
    "total_width, n = 0.8, 2\n",
    "width = total_width / n\n",
    " \n",
    "plt.bar(x, male_emo, width=width, label='label',fc = 'b')\n",
    "for i in range(len(x)):\n",
    "    x[i] = x[i] + width\n",
    "plt.bar(x, male_emo_pred, width=width, label='predict',tick_label = name_list,fc = 'r')\n",
    "plt.legend()"
   ]
  },
  {
   "cell_type": "code",
   "execution_count": 57,
   "metadata": {},
   "outputs": [
    {
     "data": {
      "text/plain": [
       "<matplotlib.legend.Legend at 0x7fe12941c8b0>"
      ]
     },
     "execution_count": 57,
     "metadata": {},
     "output_type": "execute_result"
    },
    {
     "data": {
      "image/png": "[encoded data removed]",
      "text/plain": [
       "<Figure size 432x288 with 1 Axes>"
      ]
     },
     "metadata": {
      "needs_background": "light"
     },
     "output_type": "display_data"
    }
   ],
   "source": [
    "name_list = ['neutral', 'calm', 'happy', 'sad', 'angry', 'fear', 'disgust', 'surprise']\n",
    "x =list(range(len(female_emo)))\n",
    "total_width, n = 0.8, 2\n",
    "width = total_width / n\n",
    " \n",
    "plt.bar(x, female_emo, width=width, label='label',fc = 'b')\n",
    "for i in range(len(x)):\n",
    "    x[i] = x[i] + width\n",
    "plt.bar(x, female_emo_pred, width=width, label='predict',tick_label = name_list,fc = 'r')\n",
    "plt.legend()"
   ]
  },
  {
   "cell_type": "code",
   "execution_count": 25,
   "metadata": {
    "execution": {
     "iopub.execute_input": "2021-11-05T07:55:43.385155Z",
     "iopub.status.busy": "2021-11-05T07:55:43.384890Z",
     "iopub.status.idle": "2021-11-05T07:55:43.487823Z",
     "shell.execute_reply": "2021-11-05T07:55:43.487007Z",
     "shell.execute_reply.started": "2021-11-05T07:55:43.385117Z"
    }
   },
   "outputs": [
    {
     "name": "stdout",
     "output_type": "stream",
     "text": [
      "gender                                                            10\n",
      "emotion_code                                                       7\n",
      "emotion                                                      disgust\n",
      "actor                                                             10\n",
      "path               /Users/xx/Desktop/5452 pro/RAVDESS/03-01-07-01...\n",
      "mel_spectrogram    [[-62.146507, -55.235, -47.697487, -44.032303,...\n",
      "Name: 2254, dtype: object\n",
      "tensor([[-0.7924, -2.4770, -0.1938,  1.3558,  2.8147,  0.9811,  2.3678,  0.9170]],\n",
      "       grad_fn=<AddmmBackward0>)\n"
     ]
    }
   ],
   "source": [
    "from random import randint\n",
    "idx=randint(0, 415-1)\n",
    "print(test.iloc[idx])\n",
    "im=X_test[idx]\n",
    "im = im.to(device)\n",
    "im= (im-mean) / std\n",
    "im=im.view(1,128,259).unsqueeze(dim=1)\n",
    "\n",
    "scores =  net(im) \n",
    "print(scores)"
   ]
  }
 ],
 "metadata": {
  "kernelspec": {
   "display_name": "Python 3",
   "language": "python",
   "name": "python3"
  },
  "language_info": {
   "codemirror_mode": {
    "name": "ipython",
    "version": 3
   },
   "file_extension": ".py",
   "mimetype": "text/x-python",
   "name": "python",
   "nbconvert_exporter": "python",
   "pygments_lexer": "ipython3",
   "version": "3.8.8"
  }
 },
 "nbformat": 4,
 "nbformat_minor": 4
}
